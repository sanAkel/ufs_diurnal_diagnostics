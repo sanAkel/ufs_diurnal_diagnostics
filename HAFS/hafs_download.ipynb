{
  "nbformat": 4,
  "nbformat_minor": 0,
  "metadata": {
    "colab": {
      "provenance": [],
      "authorship_tag": "ABX9TyPoswpYal/n/G4siYhXmLZW",
      "include_colab_link": true
    },
    "kernelspec": {
      "name": "python3",
      "display_name": "Python 3"
    },
    "language_info": {
      "name": "python"
    }
  },
  "cells": [
    {
      "cell_type": "markdown",
      "metadata": {
        "id": "view-in-github",
        "colab_type": "text"
      },
      "source": [
        "<a href=\"https://colab.research.google.com/github/sanAkel/ufs_diurnal_diagnostics/blob/main/HAFS/hafs_download.ipynb\" target=\"_parent\"><img src=\"https://colab.research.google.com/assets/colab-badge.svg\" alt=\"Open In Colab\"/></a>"
      ]
    },
    {
      "cell_type": "code",
      "metadata": {
        "collapsed": true,
        "id": "c3d99760"
      },
      "source": [
        "!pip install boto3\n",
        "!pip install botocore\n",
        "!pip install xarray\n",
        "!pip install matplotlib\n",
        "!pip install xmovie\n",
        "\n",
        "!apt-get update && apt-get install -y ffmpeg netcdf4\n",
        "!pip install netcdf4"
      ],
      "execution_count": null,
      "outputs": []
    },
    {
      "cell_type": "code",
      "source": [
        "import boto3\n",
        "import botocore\n",
        "\n",
        "import xarray as xr\n",
        "from xmovie import Movie\n",
        "\n",
        "import matplotlib.pyplot as plt\n",
        "%matplotlib inline"
      ],
      "metadata": {
        "id": "434gnJw2Wg8Z"
      },
      "execution_count": null,
      "outputs": []
    },
    {
      "cell_type": "code",
      "source": [
        "def download_s3_file(BUCKET_NAME, KEY, fname):\n",
        "    \"\"\"\n",
        "    Downloads a file from an AWS S3 bucket.\n",
        "\n",
        "    Args:\n",
        "        BUCKET_NAME (str): The name of the S3 bucket.\n",
        "        KEY (str): The key (prefix) of the object in the bucket.\n",
        "        fname (str): The filename of the object to download.\n",
        "\n",
        "    Returns:\n",
        "        str or None: The local filename if successful, None otherwise.\n",
        "    \"\"\"\n",
        "    # KEY_WITH_FNAME = f'{KEY}{fname}' # Construct the full key with the filename - This was incorrect\n",
        "\n",
        "    s3 = boto3.client('s3', config=botocore.config.Config(signature_version=botocore.UNSIGNED))\n",
        "\n",
        "    try:\n",
        "        s3.download_file(BUCKET_NAME, f'{KEY}/{fname}', fname) # Use the constructed key and fname for local filename\n",
        "        print(f\"Successfully downloaded {KEY}/{fname} to {fname}\")\n",
        "        return fname\n",
        "    except botocore.exceptions.ClientError as e:\n",
        "        if e.response['Error']['Code'] == \"404\":\n",
        "            print(f\"The object does not exist: {KEY}/{fname}\")\n",
        "        else:\n",
        "            print(f\"An error occurred: {e}\")\n",
        "        return None"
      ],
      "metadata": {
        "id": "HUho2KGuk9_3"
      },
      "execution_count": null,
      "outputs": []
    },
    {
      "cell_type": "markdown",
      "source": [
        "# Inputs"
      ],
      "metadata": {
        "id": "SpTI7GGHWkPF"
      }
    },
    {
      "cell_type": "code",
      "source": [
        "BUCKET_NAME = 'noaa-nws-hafs-pds'\n",
        "\n",
        "forecast_start_date = '20251026' # yyyymmdd\n",
        "forecast_hour = '00' # 4-synoptic times\n",
        "\n",
        "basin = \"13l\"\n",
        "which_hafs = \"hfsa\"\n",
        "model = \"mom6\"\n",
        "\n",
        "\n",
        "KEY = f'{which_hafs}/{forecast_start_date}/{forecast_hour}'\n",
        "hr_start, hr_end, freq = [0, 123, 3]\n",
        "\n",
        "# domain indices\n",
        "x_start, x_end = [-90, -55]\n",
        "y_start, y_end = [10, 25]\n",
        "\n",
        "# Jamaica? In x- and y- indices! The nc file is POORLY constructed.\n",
        "x_pos = 310\n",
        "y_pos_start, y_pos_end = [200, 250]"
      ],
      "metadata": {
        "id": "DnzoduNlWl-b"
      },
      "execution_count": null,
      "outputs": []
    },
    {
      "cell_type": "markdown",
      "source": [
        "## Get the data"
      ],
      "metadata": {
        "id": "LQimjWdBXvNd"
      }
    },
    {
      "cell_type": "code",
      "source": [
        "filenames = [f'{basin}.{forecast_start_date}{forecast_hour}.{which_hafs}.{model}.f{hour:03d}.nc' for hour in range(hr_start, hr_end, freq)]\n",
        "\n",
        "for fname in filenames:\n",
        "  #print(f'Downloading: {fname}')\n",
        "  download_s3_file(BUCKET_NAME, KEY, fname)\n",
        "  ds = xr.open_dataset(fname)\n",
        "  ds_cull = ds[['temp', 'so']]\n",
        "  ds_subset = ds_cull.sel(xh=slice(x_start, x_end), yh=slice(y_start, y_end))\n",
        "  fname_subset = fname.replace('.nc', '_subset.nc')\n",
        "  ds_subset.to_netcdf(fname_subset)\n",
        "  !rm {fname}"
      ],
      "metadata": {
        "id": "MEAYIv8sl3ly"
      },
      "execution_count": null,
      "outputs": []
    },
    {
      "cell_type": "code",
      "source": [
        "subset_filenames = [fname.replace('.nc', '_subset.nc') for fname in filenames]\n",
        "ds = xr.open_mfdataset(subset_filenames)"
      ],
      "metadata": {
        "id": "pm4fjQDSqbgm"
      },
      "execution_count": null,
      "outputs": []
    },
    {
      "cell_type": "code",
      "source": [
        "movie = Movie(ds.isel(z_l=0).temp,\n",
        "              framedim='time',\n",
        "              input_check=False,\n",
        "              x='xh',\n",
        "              y='yh',\n",
        "              vmin=25,\n",
        "              vmax=32,\n",
        "              cmap='Spectral_r')"
      ],
      "metadata": {
        "id": "A4Oxxaw3tX-S"
      },
      "execution_count": null,
      "outputs": []
    },
    {
      "cell_type": "code",
      "source": [
        "movie.save('temperature_animation_xmovie.gif')"
      ],
      "metadata": {
        "id": "d5NOszNftZaZ"
      },
      "execution_count": null,
      "outputs": []
    },
    {
      "cell_type": "code",
      "source": [
        "movie = Movie(ds.isel(z_l=0).so,\n",
        "              framedim='time',\n",
        "              input_check=False,\n",
        "              x='xh',\n",
        "              y='yh',\n",
        "              vmin=34,\n",
        "              vmax=38,\n",
        "              cmap='jet')"
      ],
      "metadata": {
        "id": "68YPDd6ZwPlp"
      },
      "execution_count": null,
      "outputs": []
    },
    {
      "cell_type": "code",
      "source": [
        "movie.save('salinity_animation_xmovie.gif')"
      ],
      "metadata": {
        "id": "RjMt7dc-y3aH"
      },
      "execution_count": null,
      "outputs": []
    },
    {
      "cell_type": "code",
      "source": [],
      "metadata": {
        "id": "fmKxVuZQzL-q"
      },
      "execution_count": null,
      "outputs": []
    }
  ]
}