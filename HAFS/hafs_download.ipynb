{
  "nbformat": 4,
  "nbformat_minor": 0,
  "metadata": {
    "colab": {
      "provenance": [],
      "mount_file_id": "https://github.com/sanAkel/ufs_diurnal_diagnostics/blob/main/HAFS/hafs_download.ipynb",
      "authorship_tag": "ABX9TyPpXLZnpCMt7xwvMAb74EX2",
      "include_colab_link": true
    },
    "kernelspec": {
      "name": "python3",
      "display_name": "Python 3"
    },
    "language_info": {
      "name": "python"
    }
  },
  "cells": [
    {
      "cell_type": "markdown",
      "metadata": {
        "id": "view-in-github",
        "colab_type": "text"
      },
      "source": [
        "<a href=\"https://colab.research.google.com/github/sanAkel/ufs_diurnal_diagnostics/blob/main/HAFS/hafs_download.ipynb\" target=\"_parent\"><img src=\"https://colab.research.google.com/assets/colab-badge.svg\" alt=\"Open In Colab\"/></a>"
      ]
    },
    {
      "cell_type": "code",
      "metadata": {
        "collapsed": true,
        "id": "c3d99760"
      },
      "source": [
        "!pip install boto3\n",
        "!pip install botocore\n",
        "!pip install xarray\n",
        "!pip install matplotlib\n",
        "!pip install xmovie\n",
        "\n",
        "!apt-get update && apt-get install -y ffmpeg netcdf4\n",
        "!pip install netcdf4"
      ],
      "execution_count": null,
      "outputs": []
    },
    {
      "cell_type": "code",
      "source": [
        "from google.colab import drive\n",
        "drive.mount('/content/drive')"
      ],
      "metadata": {
        "id": "xPKp_KcXT-9d"
      },
      "execution_count": null,
      "outputs": []
    },
    {
      "cell_type": "code",
      "source": [
        "import boto3\n",
        "import botocore\n",
        "\n",
        "from datetime import datetime, timedelta\n",
        "import xarray as xr\n",
        "from xmovie import Movie\n",
        "\n",
        "import matplotlib.pyplot as plt\n",
        "%matplotlib inline"
      ],
      "metadata": {
        "id": "434gnJw2Wg8Z"
      },
      "execution_count": null,
      "outputs": []
    },
    {
      "cell_type": "code",
      "source": [
        "def download_s3_file(BUCKET_NAME, KEY, fname):\n",
        "    \"\"\"\n",
        "    Downloads a file from an AWS S3 bucket.\n",
        "\n",
        "    Args:\n",
        "        BUCKET_NAME (str): The name of the S3 bucket.\n",
        "        KEY (str): The key (prefix) of the object in the bucket.\n",
        "        fname (str): The filename of the object to download.\n",
        "\n",
        "    Returns:\n",
        "        str or None: The local filename if successful, None otherwise.\n",
        "    \"\"\"\n",
        "    # KEY_WITH_FNAME = f'{KEY}{fname}' # Construct the full key with the filename - This was incorrect\n",
        "\n",
        "    s3 = boto3.client('s3', config=botocore.config.Config(signature_version=botocore.UNSIGNED))\n",
        "\n",
        "    try:\n",
        "        s3.download_file(BUCKET_NAME, f'{KEY}/{fname}', fname) # Use the constructed key and fname for local filename\n",
        "        print(f\"Successfully downloaded {KEY}/{fname} to {fname}\")\n",
        "        return fname\n",
        "    except botocore.exceptions.ClientError as e:\n",
        "        if e.response['Error']['Code'] == \"404\":\n",
        "            print(f\"The object does not exist: {KEY}/{fname}\")\n",
        "        else:\n",
        "            print(f\"An error occurred: {e}\")\n",
        "        return None"
      ],
      "metadata": {
        "id": "HUho2KGuk9_3"
      },
      "execution_count": null,
      "outputs": []
    },
    {
      "cell_type": "markdown",
      "source": [
        "# Inputs"
      ],
      "metadata": {
        "id": "SpTI7GGHWkPF"
      }
    },
    {
      "cell_type": "code",
      "source": [
        "BUCKET_NAME = 'noaa-nws-hafs-pds'\n",
        "\n",
        "save_data_path = '/content/drive/MyDrive/RTOFS/publications/Melissa2025_nATL/saved_data/'\n",
        "\n",
        "date_start, date_end = ['20251023', '20251031'] # before 10/22 Melissa was Invest 98L\n",
        "forecast_hour = '00' # Out of forecasts at 4-synoptic times, only `00`.\n",
        "hr_start, hr_end, freq = [0, 97, 3]\n",
        "\n",
        "basin = \"13l\"\n",
        "which_hafs = \"hfsa\"\n",
        "model = \"mom6\"\n",
        "\n",
        "vars_to_save = ['temp', 'so']\n",
        "\n",
        "# domain indices\n",
        "x_start, x_end = [-100, -40] # longitude\n",
        "y_start, y_end = [10, 45] # latitude\n",
        "z_start, z_end = [0, 1001] # depth (m) to include 1000 m\n",
        "\n",
        "# Jamaica? In x- and y- indices! The nc file is POORLY constructed.\n",
        "x_pos = 310\n",
        "y_pos_start, y_pos_end = [200, 250]\n",
        "\n",
        "save_data_path = '/content/drive/MyDrive/RTOFS/publications/Melissa2025_nATL/saved_data/' + which_hafs.upper() + '/'"
      ],
      "metadata": {
        "id": "DnzoduNlWl-b"
      },
      "execution_count": null,
      "outputs": []
    },
    {
      "cell_type": "markdown",
      "source": [
        "## Get the data"
      ],
      "metadata": {
        "id": "LQimjWdBXvNd"
      }
    },
    {
      "cell_type": "code",
      "source": [
        "start_date = datetime.strptime(date_start, '%Y%m%d')\n",
        "end_date = datetime.strptime(date_end, '%Y%m%d')\n",
        "\n",
        "date_list = [start_date + timedelta(days=x) for x in range((end_date - start_date).days + 1)]\n",
        "\n",
        "for forecast_start_date in date_list:\n",
        "  dStr = forecast_start_date.strftime('%Y%m%d')\n",
        "  KEY = f'{which_hafs}/{dStr}/{forecast_hour}'\n",
        "  print(f'KEY: {KEY}')\n",
        "  filenames = [f'{basin}.{dStr}{forecast_hour}.{which_hafs}.{model}.f{hour:03d}.nc' for hour in range(hr_start, hr_end, freq)]\n",
        "\n",
        "  for fname in filenames:\n",
        "    print(f'Downloading: {fname}')\n",
        "    download_s3_file(BUCKET_NAME, KEY, fname)\n",
        "    ds = xr.open_dataset(fname)\n",
        "    ds_cull = ds[vars_to_save]\n",
        "    ds_subset = ds_cull.sel(xh=slice(x_start, x_end), yh=slice(y_start, y_end), z_l=slice(z_start, z_end))\n",
        "    fname_subset = fname.replace('.nc', '_subset.nc')\n",
        "    ds_subset.to_netcdf(fname_subset)\n",
        "    !rm {fname}\n",
        "\n",
        "  subset_filenames = [fname.replace('.nc', '_subset.nc') for fname in filenames]\n",
        "  ds = xr.open_mfdataset(subset_filenames)\n",
        "  fName_save = f'{save_data_path}' + dStr + '.nc'\n",
        "  print(f'Saving to {fName_save}')\n",
        "  ds.to_netcdf(fName_save)\n",
        "\n",
        "  for fname in subset_filenames:\n",
        "    !rm {fname}"
      ],
      "metadata": {
        "id": "MEAYIv8sl3ly",
        "collapsed": true
      },
      "execution_count": null,
      "outputs": []
    },
    {
      "cell_type": "markdown",
      "source": [
        "## Animate"
      ],
      "metadata": {
        "id": "7dWCMLIJiBeJ"
      }
    },
    {
      "cell_type": "code",
      "source": [
        "#movie = Movie(ds.isel(z_l=0).temp,\n",
        "#              framedim='time',\n",
        "#              input_check=False,\n",
        "#              x='xh',\n",
        "#              y='yh',\n",
        "#              vmin=25,\n",
        "#              vmax=32,\n",
        "#              cmap='Spectral_r')\n",
        "#movie.save('temperature_animation_xmovie.gif')\n",
        "\n",
        "#movie = Movie(ds.isel(z_l=0).so,\n",
        "#              framedim='time',\n",
        "#              input_check=False,\n",
        "#              x='xh',\n",
        "#              y='yh',\n",
        "#              vmin=34,\n",
        "#              vmax=38,\n",
        "#              cmap='jet')\n",
        "#movie.save('salinity_animation_xmovie.gif')"
      ],
      "metadata": {
        "id": "A4Oxxaw3tX-S"
      },
      "execution_count": null,
      "outputs": []
    },
    {
      "cell_type": "code",
      "source": [],
      "metadata": {
        "id": "-zDGwYFR5R61"
      },
      "execution_count": null,
      "outputs": []
    }
  ]
}