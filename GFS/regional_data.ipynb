{
  "nbformat": 4,
  "nbformat_minor": 0,
  "metadata": {
    "colab": {
      "provenance": [],
      "authorship_tag": "ABX9TyMKzR4Ip576s6odAUfSLjGW",
      "include_colab_link": true
    },
    "kernelspec": {
      "name": "python3",
      "display_name": "Python 3"
    },
    "language_info": {
      "name": "python"
    }
  },
  "cells": [
    {
      "cell_type": "markdown",
      "metadata": {
        "id": "view-in-github",
        "colab_type": "text"
      },
      "source": [
        "<a href=\"https://colab.research.google.com/github/sanAkel/ufs_diurnal_diagnostics/blob/main/GFS/regional_data.ipynb\" target=\"_parent\"><img src=\"https://colab.research.google.com/assets/colab-badge.svg\" alt=\"Open In Colab\"/></a>"
      ]
    },
    {
      "cell_type": "markdown",
      "source": [
        "# Compare datasets (SST, SSS) in a user specified region"
      ],
      "metadata": {
        "id": "5_h2Yr0ji1zp"
      }
    },
    {
      "cell_type": "markdown",
      "source": [
        "## Install modules\n"
      ],
      "metadata": {
        "id": "rj1kuDEIjQ9A"
      }
    },
    {
      "cell_type": "code",
      "source": [
        "!pip install cartopy\n",
        "!pip install copernicusmarine"
      ],
      "metadata": {
        "collapsed": true,
        "id": "gpzmexE0i_Kj"
      },
      "execution_count": null,
      "outputs": []
    },
    {
      "cell_type": "code",
      "source": [
        "import copernicusmarine\n",
        "\n",
        "import xarray as xr\n",
        "import numpy as np\n",
        "import pandas as pd\n",
        "from datetime import datetime\n",
        "\n",
        "import matplotlib.pyplot as plt\n",
        "import cartopy.crs as ccrs\n",
        "import cartopy.feature as cfeature\n",
        "from cartopy.mpl.gridliner import LONGITUDE_FORMATTER, LATITUDE_FORMATTER\n",
        "\n",
        "%matplotlib inline"
      ],
      "metadata": {
        "id": "RsIBiZITjXbL"
      },
      "execution_count": null,
      "outputs": []
    },
    {
      "cell_type": "code",
      "source": [
        "K_to_C = 273.15 # Kelvin to degC"
      ],
      "metadata": {
        "id": "aAz9QAkFsGgo"
      },
      "execution_count": null,
      "outputs": []
    },
    {
      "cell_type": "code",
      "source": [
        "def get_cmems_data(dsetID, vNames, lon_start, lon_end, lat_start, lat_end, time_start, time_end):\n",
        "\n",
        "  data_request = {\"dataset_id\" : dsetID,\n",
        "    \"longitude\" : [lon_start, lon_end],\n",
        "    \"latitude\" : [lat_start, lat_end],\n",
        "    \"time\" : [time_start, time_end],\n",
        "    \"variables\" : vNames}\n",
        "\n",
        "  cms_data =copernicusmarine.open_dataset(\n",
        "    dataset_id = data_request[\"dataset_id\"],\n",
        "    minimum_longitude = data_request[\"longitude\"][0],\n",
        "    maximum_longitude = data_request[\"longitude\"][1],\n",
        "    minimum_latitude = data_request[\"latitude\"][0],\n",
        "    maximum_latitude = data_request[\"latitude\"][1],\n",
        "    start_datetime = data_request[\"time\"][0],\n",
        "    end_datetime = data_request[\"time\"][1],\n",
        "    variables = data_request[\"variables\"])\n",
        "\n",
        "  return cms_data"
      ],
      "metadata": {
        "id": "zKze_HsJjlJT"
      },
      "execution_count": null,
      "outputs": []
    },
    {
      "cell_type": "code",
      "source": [
        "# CMEMS dataset IDs\n",
        "\n",
        "# OSTIA SST\n",
        "sst={'dsetID':'METOFFICE-GLO-SST-L4-NRT-OBS-SST-V2',\n",
        "     'vNames':['analysed_sst'],\n",
        "     'varName': 'SST'}\n",
        "\n",
        "# CNS SSS NRT\n",
        "sss={'dsetID':'cmems_obs-mob_glo_phy-sss_nrt_multi_P1D',\n",
        "     'vNames':['sos', 'dos'],\n",
        "     'varName': 'SSS'}"
      ],
      "metadata": {
        "id": "GpjmTLyOkUOS"
      },
      "execution_count": null,
      "outputs": []
    },
    {
      "cell_type": "code",
      "source": [
        "# Set Copernicus credentials\n",
        "CMEMS_username, CMEMS_passwd = [\"sakella\", \"HbFPyP9M\"]\n",
        "\n",
        "# set credentials\n",
        "copernicusmarine.login(username=CMEMS_username, password=CMEMS_passwd)"
      ],
      "metadata": {
        "id": "4SlVFMUNnGho"
      },
      "execution_count": null,
      "outputs": []
    },
    {
      "cell_type": "markdown",
      "source": [
        "## Need to figure out coordinates of the region of interest- needs visual inspection!"
      ],
      "metadata": {
        "id": "M63rjyQ8mx8s"
      }
    },
    {
      "cell_type": "code",
      "source": [
        "# US North East coast\n",
        "data_date = '2019-12-12'\n",
        "\n",
        "lon_s, lon_e = [-79, -74]\n",
        "lat_s, lat_e = [33, 41]\n",
        "\n",
        "\n",
        "data_type = sst # CMEMS datasets"
      ],
      "metadata": {
        "id": "VoSvMx62714o"
      },
      "execution_count": null,
      "outputs": []
    },
    {
      "cell_type": "code",
      "source": [
        "full_ds = copernicusmarine.open_dataset(\n",
        "    dataset_id = data_type[\"dsetID\"],\n",
        "    variables = data_type[\"vNames\"]\n",
        ")\n",
        "\n",
        "# ease comparison with ocean model: unit coversion\n",
        "full_ds['analysed_sst'] = full_ds['analysed_sst'] - 273.15"
      ],
      "metadata": {
        "id": "MBtTig9nk5NG"
      },
      "execution_count": null,
      "outputs": []
    },
    {
      "cell_type": "code",
      "source": [
        "# shading can be important when the data values have a contrast\n",
        "# https://matplotlib.org/stable/gallery/images_contours_and_fields/pcolormesh_grids.html\n",
        "\n",
        "fig = plt.figure(figsize=(4, 10))\n",
        "\n",
        "ax=plt.subplot(111, projection=ccrs.PlateCarree())\n",
        "ax.coastlines()\n",
        "ax.gridlines()\n",
        "ax.add_feature(cfeature.LAND, zorder=10, edgecolor='k')\n",
        "ax.text(lon_s, lat_e-1, \"OSTIA SST\\n{}\".format(data_date),\n",
        "        zorder=15, fontsize=12,color='k', transform=ccrs.PlateCarree())\n",
        "\n",
        "im=full_ds.sel(time=data_date).\\\n",
        "sel(latitude=slice(lat_s, lat_e), longitude=slice(lon_s, lon_e)).\\\n",
        "analysed_sst.plot(ax=ax, transform=ccrs.PlateCarree(),\n",
        "                  shading='flat', cmap='Set1',\n",
        "                  add_colorbar=False, )\n",
        "\n",
        "cbar=plt.colorbar(im, orientation='vertical', shrink=0.5)\n",
        "\n",
        "ax.set_extent([lon_s, lon_e, lat_s, lat_e])\n",
        "\n",
        "cbar.ax.set_ylabel('SST [degC]')\n",
        "ax.set_title('')\n",
        "\n",
        "gl = ax.gridlines(draw_labels=True)\n",
        "gl.top_labels = False\n",
        "gl.right_labels = False\n",
        "gl.xformatter = LONGITUDE_FORMATTER\n",
        "gl.yformatter = LATITUDE_FORMATTER\n",
        "gl.xlabel_style = {'size': 10}\n",
        "gl.ylabel_style = {'size': 10}"
      ],
      "metadata": {
        "id": "GiITCXhLpTDK"
      },
      "execution_count": null,
      "outputs": []
    },
    {
      "cell_type": "markdown",
      "source": [
        "## User inputs"
      ],
      "metadata": {
        "id": "JznR98lzjwL4"
      }
    },
    {
      "cell_type": "code",
      "source": [
        "data_type = sst # CMEMS dataset to download\n",
        "\n",
        "# US North East coast\n",
        "lon_s, lon_e = [-79, -74]\n",
        "lat_s, lat_e = [33, 41]\n",
        "\n",
        "date_start = datetime(2020, 2, 1)\n",
        "fcst_ndays = 10 # how many days from start date?\n",
        "\n",
        "date_end = datetime(2020, 2, 29) #date_start + pd.Timedelta(days=fcst_ndays)"
      ],
      "metadata": {
        "id": "FKdvtQs0ju9a"
      },
      "execution_count": null,
      "outputs": []
    },
    {
      "cell_type": "markdown",
      "source": [
        "## Download OSTIA SST dataset for selected region"
      ],
      "metadata": {
        "id": "9gSriBhm-ZWR"
      }
    },
    {
      "cell_type": "code",
      "source": [
        "ostia_sst = get_cmems_data(data_type[\"dsetID\"], data_type[\"vNames\"],\n",
        "                           lon_s, lon_e, lat_s, lat_e,\n",
        "                           date_start.strftime('%Y-%m-%d'),\n",
        "                           date_end.strftime('%Y-%m-%d'))"
      ],
      "metadata": {
        "id": "7sL4-1Hh9e2C"
      },
      "execution_count": null,
      "outputs": []
    },
    {
      "cell_type": "markdown",
      "source": [
        "## Plot and save dataset for quick later access"
      ],
      "metadata": {
        "id": "hW-C9K40AmZA"
      }
    },
    {
      "cell_type": "code",
      "source": [
        "(ostia_sst['analysed_sst']-K_to_C).plot(x=\"longitude\", y=\"latitude\", col=\"time\", col_wrap=10, cmap='Set1')"
      ],
      "metadata": {
        "id": "cJKRfywu_T9s"
      },
      "execution_count": null,
      "outputs": []
    },
    {
      "cell_type": "code",
      "source": [
        "ostia_sst.to_netcdf('ostia_sst_cut_out_{}_{}.nc'.format(date_start.strftime('%Y%m%d'), date_end.strftime('%Y%m%d')))"
      ],
      "metadata": {
        "id": "B2v8_BLX_nWP"
      },
      "execution_count": null,
      "outputs": []
    },
    {
      "cell_type": "code",
      "source": [],
      "metadata": {
        "id": "QdNqZkc4w_qx"
      },
      "execution_count": null,
      "outputs": []
    }
  ]
}