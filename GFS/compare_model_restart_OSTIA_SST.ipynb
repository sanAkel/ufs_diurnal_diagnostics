{
  "nbformat": 4,
  "nbformat_minor": 0,
  "metadata": {
    "colab": {
      "provenance": [],
      "authorship_tag": "ABX9TyOwK1z0CD87CCKt9nfNUMTZ",
      "include_colab_link": true
    },
    "kernelspec": {
      "name": "python3",
      "display_name": "Python 3"
    },
    "language_info": {
      "name": "python"
    }
  },
  "cells": [
    {
      "cell_type": "markdown",
      "metadata": {
        "id": "view-in-github",
        "colab_type": "text"
      },
      "source": [
        "<a href=\"https://colab.research.google.com/github/sanAkel/ufs_diurnal_diagnostics/blob/main/GFS/compare_model_restart_OSTIA_SST.ipynb\" target=\"_parent\"><img src=\"https://colab.research.google.com/assets/colab-badge.svg\" alt=\"Open In Colab\"/></a>"
      ]
    },
    {
      "cell_type": "markdown",
      "source": [
        "## Install modules"
      ],
      "metadata": {
        "id": "V34xyEplk-EM"
      }
    },
    {
      "cell_type": "code",
      "source": [
        "!pip install cartopy"
      ],
      "metadata": {
        "collapsed": true,
        "id": "ynrh1N20lBFf"
      },
      "execution_count": null,
      "outputs": []
    },
    {
      "cell_type": "code",
      "source": [
        "!mkdir -p data_prepared\n",
        "\n",
        "# manually upload data from RDHPCS\n",
        "\n",
        "!ls data_prepared/\n",
        "\n",
        "!pwd"
      ],
      "metadata": {
        "id": "WxaCxBJAlE7n"
      },
      "execution_count": null,
      "outputs": []
    },
    {
      "cell_type": "code",
      "source": [
        "import glob as glob\n",
        "import xarray as xr\n",
        "import numpy as np\n",
        "import pandas as pd\n",
        "from datetime import datetime\n",
        "\n",
        "import matplotlib.pyplot as plt\n",
        "import cartopy.crs as ccrs\n",
        "import cartopy.feature as cfeature\n",
        "from cartopy.mpl.gridliner import LONGITUDE_FORMATTER, LATITUDE_FORMATTER\n",
        "\n",
        "%matplotlib inline"
      ],
      "metadata": {
        "id": "jK1x1JI9lKce"
      },
      "execution_count": null,
      "outputs": []
    },
    {
      "cell_type": "markdown",
      "source": [
        "## User inputs"
      ],
      "metadata": {
        "id": "UJQWO_ZhyVCB"
      }
    },
    {
      "cell_type": "code",
      "source": [
        "# /scratch1/NCEPDEV/climate/role.ufscpara/IC/HR5/C1152mx025/20250110/\n",
        "start_date = '2019-12-02' # Assume 00 UTC\n",
        "\n",
        "K_to_C = 273.15 # Kelvin to degC\n",
        "\n",
        "# US North East coast\n",
        "lon_s, lon_e = [-79, -74]\n",
        "lat_s, lat_e = [33, 41]\n",
        "\n",
        "cMin, cMax = [5, 25]"
      ],
      "metadata": {
        "id": "IbBagqODolN3"
      },
      "execution_count": null,
      "outputs": []
    },
    {
      "cell_type": "markdown",
      "source": [
        "## Read prepared data:\n",
        "- MOM6 restart that contants potential temperature.\n",
        "- OSTIA SST."
      ],
      "metadata": {
        "id": "pPgz3jMDlusO"
      }
    },
    {
      "cell_type": "code",
      "source": [
        "restart_fName = glob.glob('/content/data_prepared/ic_sst_*.nc')\n",
        "print(f\"Read restart file:\\n{restart_fName[0]}\")\n",
        "\n",
        "print(\"\\n\")\n",
        "ostia_sst_fName = glob.glob('/content/data_prepared/ostia_sst_*.nc')\n",
        "print(f\"Read OSTIA SST file:\\n{ostia_sst_fName[0]}\")"
      ],
      "metadata": {
        "id": "z8QkhQAkycb9"
      },
      "execution_count": null,
      "outputs": []
    },
    {
      "cell_type": "code",
      "source": [
        "# restart\n",
        "ds_rst = xr.open_dataset(restart_fName[0], decode_times=False)\n",
        "\n",
        "# fix time\n",
        "ds_rst['Time'] =  pd.Timestamp(start_date)+\\\n",
        "pd.to_timedelta((ds_rst.Time.values-ds_rst.Time[0].values),\n",
        "                unit=ds_rst.Time.attrs['units'])"
      ],
      "metadata": {
        "id": "zcoOdKFxloTe"
      },
      "execution_count": null,
      "outputs": []
    },
    {
      "cell_type": "code",
      "source": [
        "# ostia SST\n",
        "ds_ostia = xr.open_dataset(ostia_sst_fName[0])\n",
        "\n",
        "# ease comparison with ocean model: unit coversion\n",
        "ds_ostia['analysed_sst'] = ds_ostia['analysed_sst'] - K_to_C"
      ],
      "metadata": {
        "id": "jGZOcMHb0mhY"
      },
      "execution_count": null,
      "outputs": []
    },
    {
      "cell_type": "code",
      "source": [
        "nData = 2\n",
        "plot_date = ds_rst.Time[-1].values\n",
        "\n",
        "fig, ax_all = plt.subplots(nrows=1, ncols=nData, sharey=True, figsize=(10, 12), clear=True, subplot_kw={'projection': ccrs.PlateCarree()})\n",
        "\n",
        "for ix, ax in enumerate(ax_all):\n",
        "  ax.coastlines()\n",
        "  ax.gridlines()\n",
        "  ax.add_feature(cfeature.LAND, zorder=10, edgecolor='k')\n",
        "  ax.set_extent([lon_s, lon_e, lat_s, lat_e])\n",
        "\n",
        "  gl = ax.gridlines(draw_labels=True)\n",
        "  gl.top_labels = False\n",
        "  gl.right_labels = False\n",
        "  gl.xformatter = LONGITUDE_FORMATTER\n",
        "  gl.yformatter = LATITUDE_FORMATTER\n",
        "  gl.xlabel_style = {'size': 10}\n",
        "  gl.ylabel_style = {'size': 10}\n",
        "\n",
        "  if ix == 0: # restart\n",
        "    title_str = 'IC SST'\n",
        "    im = ds_rst.sel(Time=plot_date).Temp.sel(lath=slice(lat_s, lat_e)).\\\n",
        "    sel(lonh=slice(lon_s, lon_e)). plot(ax=ax, transform=ccrs.PlateCarree(),\n",
        "       shading='flat', vmin=cMin, vmax=cMax, cmap='Set1_r', add_colorbar=False)\n",
        "  else:\n",
        "    title_str = 'OSTIA SST'\n",
        "    im = ds_ostia.sel(time=plot_date).analysed_sst.\\\n",
        "    sel(latitude=slice(lat_s, lat_e), longitude=slice(lon_s, lon_e)).\\\n",
        "    plot(ax=ax, transform=ccrs.PlateCarree(),\n",
        "    shading='flat', vmin=cMin, vmax=cMax, cmap='Set1_r', add_colorbar=False)\n",
        "\n",
        "  ax.text(lon_s, lat_e-1, \"{}\\n{}\".format(title_str, plot_date),\n",
        "        zorder=15, fontsize=12,color='k', transform=ccrs.PlateCarree())\n",
        "  ax.set_title('')\n",
        "\n",
        "  cbar=plt.colorbar(im, orientation='vertical', pad=0.05, shrink=0.45)\n",
        "  cbar.ax.set_xlabel('[degC]')"
      ],
      "metadata": {
        "id": "9rqinvOS1vjH"
      },
      "execution_count": null,
      "outputs": []
    },
    {
      "cell_type": "markdown",
      "source": [
        "## Compare mean monthly mean"
      ],
      "metadata": {
        "id": "sdIAQcf5DEw3"
      }
    },
    {
      "cell_type": "code",
      "source": [
        "rst_mean_SST = ds_rst.Temp.sel(lath=slice(lat_s, lat_e)).\\\n",
        "sel(lonh=slice(lon_s, lon_e)).mean('Time')\n",
        "\n",
        "ostia_mean_SST = ds_ostia.analysed_sst.\\\n",
        "sel(latitude=slice(lat_s, lat_e), longitude=slice(lon_s, lon_e)).mean('time')"
      ],
      "metadata": {
        "id": "I5HQWi_iDJdV"
      },
      "execution_count": null,
      "outputs": []
    },
    {
      "cell_type": "code",
      "source": [
        "nData = 2\n",
        "\n",
        "fig, ax_all = plt.subplots(nrows=1, ncols=nData, sharey=True, figsize=(10, 12), clear=True, subplot_kw={'projection': ccrs.PlateCarree()})\n",
        "\n",
        "for ix, ax in enumerate(ax_all):\n",
        "  ax.coastlines()\n",
        "  ax.gridlines()\n",
        "  ax.add_feature(cfeature.LAND, zorder=10, edgecolor='k')\n",
        "  ax.set_extent([lon_s, lon_e, lat_s, lat_e])\n",
        "\n",
        "  gl = ax.gridlines(draw_labels=True)\n",
        "  gl.top_labels = False\n",
        "  gl.right_labels = False\n",
        "  gl.xformatter = LONGITUDE_FORMATTER\n",
        "  gl.yformatter = LATITUDE_FORMATTER\n",
        "  gl.xlabel_style = {'size': 10}\n",
        "  gl.ylabel_style = {'size': 10}\n",
        "\n",
        "  if ix == 0: # restart\n",
        "    title_str = 'IC SST'\n",
        "    im = rst_mean_SST.sel(lath=slice(lat_s, lat_e)).\\\n",
        "    sel(lonh=slice(lon_s, lon_e)). plot(ax=ax, transform=ccrs.PlateCarree(),\n",
        "       shading='flat', vmin=cMin, vmax=cMax, cmap='Set1_r', add_colorbar=False)\n",
        "  else:\n",
        "    title_str = 'OSTIA SST'\n",
        "    im = ostia_mean_SST.sel(latitude=slice(lat_s, lat_e), longitude=slice(lon_s, lon_e)).plot(ax=ax, transform=ccrs.PlateCarree(),\n",
        "    shading='flat', vmin=cMin, vmax=cMax, cmap='Set1_r', add_colorbar=False)\n",
        "\n",
        "  ax.text(lon_s, lat_e-1, \"{}\\n Dec 2019 mean\".format(title_str),\n",
        "        zorder=15, fontsize=12,color='k', transform=ccrs.PlateCarree())\n",
        "  ax.set_title('')\n",
        "\n",
        "  cbar=plt.colorbar(im, orientation='vertical', pad=0.05, shrink=0.45)\n",
        "  cbar.ax.set_xlabel('[degC]')"
      ],
      "metadata": {
        "id": "zTG1k3C1DUD5"
      },
      "execution_count": null,
      "outputs": []
    },
    {
      "cell_type": "code",
      "source": [],
      "metadata": {
        "id": "VyC6jPjADy1c"
      },
      "execution_count": null,
      "outputs": []
    }
  ]
}