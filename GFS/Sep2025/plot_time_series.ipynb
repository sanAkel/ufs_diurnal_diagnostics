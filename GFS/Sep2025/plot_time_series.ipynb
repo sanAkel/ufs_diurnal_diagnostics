{
 "cells": [
  {
   "cell_type": "code",
   "execution_count": null,
   "id": "22484862-52fb-4052-920b-da18446f150e",
   "metadata": {},
   "outputs": [],
   "source": [
    "import glob as glob\n",
    "\n",
    "import numpy as np\n",
    "import xarray as xr\n",
    "\n",
    "import matplotlib.pyplot as plt\n",
    "%matplotlib inline"
   ]
  },
  {
   "cell_type": "code",
   "execution_count": null,
   "id": "25146e90-d345-4733-b4d7-4e941524334f",
   "metadata": {},
   "outputs": [],
   "source": [
    "def read_vars(fName, vName):\n",
    "    ds = xr.open_dataset(fName)\n",
    "    var = ds[vName]\n",
    "    return var"
   ]
  },
  {
   "cell_type": "code",
   "execution_count": null,
   "id": "531fc3ad-225c-4dbd-8e2d-f61ca7840cab",
   "metadata": {},
   "outputs": [],
   "source": [
    "data_rootPath = \"/scratch3/NCEPDEV/climate/Jiande.Wang/working/scratch/C384-v17/OCEAN/\"\n",
    "expNames = [\"B1\", \"B2\", \"B3\"]\n",
    "vNames = ['Temp', 'Salt']\n",
    "depth_plot =31\n",
    "\n",
    "# path where figures will be saved\n",
    "out_dir = \"/home/Santha.Akella/for_folks/JiandeW/Sep2025/figs/\""
   ]
  },
  {
   "cell_type": "code",
   "execution_count": null,
   "id": "37bc3464-683d-41a9-b5b5-71901698a454",
   "metadata": {},
   "outputs": [],
   "source": [
    "# load data, calculate mean (dirty! not grid weighted.), save it to a file.\n",
    "\n",
    "for iexp, expName in enumerate(expNames):\n",
    "    # Load data\n",
    "    dPath = data_rootPath+f\"{expNames[iexp]}/gdas.*/*/model/ocean/history/\"\n",
    "    fNames = sorted(glob.glob(dPath + f\"gdas.ocean.t*z.inst.f006.nc\"))\n",
    "    ds = xr.open_mfdataset(fNames)\n",
    "    print(f'Gathered data for {expName}')\n",
    "    # calculate mean\n",
    "    for iVar, vName in enumerate(vNames):\n",
    "        meanVal=ds[vName].isel(z_l=depth_plot).mean(('xh','yh')).compute()\n",
    "        meanVal['time']=meanVal.indexes['time'].to_datetimeindex() # needed because Julian cal doesn't play nice with plotting.\n",
    "        # save file\n",
    "        fName = out_dir + 'glb_mean_' + f'{vName}_{expName}.nc'\n",
    "        meanVal.to_netcdf(fName)\n",
    "        print(f'Saved {fName}')"
   ]
  },
  {
   "cell_type": "markdown",
   "id": "575e4b43-874e-4b8f-9065-5d90424f44f2",
   "metadata": {},
   "source": [
    "## Load the calculated data and plot"
   ]
  },
  {
   "cell_type": "code",
   "execution_count": null,
   "id": "111cea0e-497b-4255-b7bc-2c50693ecb14",
   "metadata": {},
   "outputs": [],
   "source": [
    "for iVar, vName in enumerate(vNames):\n",
    "    fig = plt.figure(figsize=[10, 6], clear=True, dpi=120)\n",
    "    ax=plt.subplot(111)\n",
    "    for iexp, expName in enumerate(expNames):\n",
    "        fName = out_dir + 'glb_mean_' + f'{vName}_{expName}.nc'\n",
    "        ds = xr.open_dataset(fName)\n",
    "        ds[vName].plot(ax=ax, label=f'{expName}')\n",
    "    plt.legend(loc=1)\n",
    "    ax.set_title(f'depth=100 m')\n",
    "    figName = out_dir + 'glb_mean_tSeries' + f'{vName}.png'\n",
    "    plt.savefig(figName, bbox_inches='tight')\n",
    "    plt.close('all')"
   ]
  },
  {
   "cell_type": "code",
   "execution_count": null,
   "id": "3a2f785f-454e-4ce0-9da1-26af8a70a492",
   "metadata": {},
   "outputs": [],
   "source": []
  }
 ],
 "metadata": {
  "kernelspec": {
   "display_name": "Python 3 (ipykernel)",
   "language": "python",
   "name": "python3"
  },
  "language_info": {
   "codemirror_mode": {
    "name": "ipython",
    "version": 3
   },
   "file_extension": ".py",
   "mimetype": "text/x-python",
   "name": "python",
   "nbconvert_exporter": "python",
   "pygments_lexer": "ipython3",
   "version": "3.12.1"
  }
 },
 "nbformat": 4,
 "nbformat_minor": 5
}
