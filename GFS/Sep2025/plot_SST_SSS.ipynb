{
 "cells": [
  {
   "cell_type": "code",
   "execution_count": null,
   "id": "30b219fd-d1ce-489d-886c-29d24fc65e3b",
   "metadata": {},
   "outputs": [],
   "source": [
    "import glob as glob\n",
    "\n",
    "import numpy as np\n",
    "import xarray as xr\n",
    "import cartopy.crs as ccrs\n",
    "import cartopy.feature as cfeature\n",
    "\n",
    "import matplotlib.pyplot as plt\n",
    "%matplotlib inline"
   ]
  },
  {
   "cell_type": "code",
   "execution_count": null,
   "id": "47cd153f-42c1-4e52-a808-711c62269f53",
   "metadata": {},
   "outputs": [],
   "source": [
    "def read_vars(fName, vName, level_index):\n",
    "    ds = xr.open_dataset(fName)\n",
    "#    ds = ds.assign_coords({'geolon': ds['geolon'],\n",
    "#                           'geolat': ds['geolat']})\n",
    "    var = ds[vName].isel(z_l=level_index)\n",
    "    return var"
   ]
  },
  {
   "cell_type": "code",
   "execution_count": null,
   "id": "f68fd5d7-dc46-4e03-a25c-260e7a6bdde5",
   "metadata": {},
   "outputs": [],
   "source": [
    "def plot_var(out_dir, PDY, var, expName, varName, varUnits, cMin, cMax, cMap):\n",
    "    fig=plt.figure(figsize=(8, 6), clear=True, dpi=60)\n",
    "    ax = fig.add_subplot(111, projection=ccrs.Robinson())\n",
    "    im=ax.pcolormesh(var['xh'], var['yh'], var.squeeze(),\n",
    "                     vmin=cMin, vmax=cMax, cmap=cMap,\n",
    "                     transform=ccrs.PlateCarree())\n",
    "    \n",
    "    cbar=fig.colorbar(im, ax=ax, orientation='horizontal')\n",
    "    ax.set_title(f'{expName} {PDY}')\n",
    "    cbar.ax.set_title(f'{varName} [{varUnits}]')\n",
    "    figName = out_dir + varName+'_'+PDY+'_'+expName+'.png'\n",
    "    plt.savefig(figName, bbox_inches='tight')\n",
    "    print(f'Saved {figName}')\n",
    "    plt.close('all')"
   ]
  },
  {
   "cell_type": "code",
   "execution_count": null,
   "id": "4d2e719b-5674-451f-b8b5-3cec716621dd",
   "metadata": {},
   "outputs": [],
   "source": [
    "varUnits={\n",
    "    'Temp':'degC',\n",
    "    'Salt':'PSU'}\n",
    "\n",
    "varCbar={\n",
    "    'Temp':[-2, 32, 'gist_ncar'],\n",
    "    'Salt':[32, 40, 'nipy_spectral']}"
   ]
  },
  {
   "cell_type": "markdown",
   "id": "04f99aa6-4c26-40c7-8e44-6acb72248cda",
   "metadata": {},
   "source": [
    "## Set inputs:\n",
    "- Names of experiments.\n",
    "- Path to data.\n",
    "- Dates (yyyymmdd) and hours: `yyyymmddThh`"
   ]
  },
  {
   "cell_type": "code",
   "execution_count": null,
   "id": "7bd8e416-7caf-4f9b-bad2-8052a684903c",
   "metadata": {},
   "outputs": [],
   "source": [
    "data_rootPath = \"/scratch3/NCEPDEV/climate/Jiande.Wang/working/scratch/C384-v17/OCEAN/\"\n",
    "expNames = [\"B1\", \"B2\", \"B3\"]\n",
    "\n",
    "# set date \n",
    "#dateStr = \"20250101\" # start date\n",
    "#hrStr = \"06\" # starting hour (on start date)\n",
    "dateStr = \"20250126\" # end date\n",
    "hrStr = \"00\" # ending hour (on end date)\n",
    "\n",
    "# set (3-d) variable names and level\n",
    "vNames = [\"Temp\", \"Salt\"]\n",
    "level_index = 0 # level-1 (aka \"k-index\")\n",
    "\n",
    "PDY = dateStr + \"T\" + hrStr\n",
    "\n",
    "# path where figures will be saved\n",
    "out_dir = \"/home/Santha.Akella/for_folks/JiandeW/Sep2025/figs/\""
   ]
  },
  {
   "cell_type": "markdown",
   "id": "9777e40c-6353-4996-af9b-194898e4eba8",
   "metadata": {},
   "source": [
    "## Load datasets from all:\n",
    "- The experiments set in `expNames`.\n",
    "- Dates.\n",
    "- Plot user requested variables."
   ]
  },
  {
   "cell_type": "code",
   "execution_count": null,
   "id": "9779a628-a915-45c0-af49-3e712025b9f3",
   "metadata": {},
   "outputs": [],
   "source": [
    "for iexp, expName in enumerate(expNames):\n",
    "    print(f\"Processing data from:\\t{expName}\")\n",
    "    \n",
    "    dPath = data_rootPath+f\"{expName}/gdas.{dateStr}/{hrStr}/model/ocean/history/\"\n",
    "    fName = sorted(glob.glob(dPath + f\"gdas.ocean.t*z.inst.f000.nc\"))[0]\n",
    "    print(f\"Reading:\\t{fName}\")\n",
    "\n",
    "    for iVar, varName in enumerate(vNames):\n",
    "        var = read_vars(fName, varName, level_index)\n",
    "        plot_var(out_dir, PDY, var, expName, varName, varUnits[varName], \n",
    "                 varCbar[varName][0], varCbar[varName][1], varCbar[varName][2])"
   ]
  },
  {
   "cell_type": "code",
   "execution_count": null,
   "id": "856b7ed1-b829-4a0d-9bc1-c720c1cb783f",
   "metadata": {},
   "outputs": [],
   "source": []
  }
 ],
 "metadata": {
  "kernelspec": {
   "display_name": "Python 3 (ipykernel)",
   "language": "python",
   "name": "python3"
  },
  "language_info": {
   "codemirror_mode": {
    "name": "ipython",
    "version": 3
   },
   "file_extension": ".py",
   "mimetype": "text/x-python",
   "name": "python",
   "nbconvert_exporter": "python",
   "pygments_lexer": "ipython3",
   "version": "3.12.1"
  }
 },
 "nbformat": 4,
 "nbformat_minor": 5
}
