{
 "cells": [
  {
   "cell_type": "code",
   "execution_count": null,
   "id": "30b219fd-d1ce-489d-886c-29d24fc65e3b",
   "metadata": {},
   "outputs": [],
   "source": [
    "import glob as glob\n",
    "\n",
    "import numpy as np\n",
    "import xarray as xr\n",
    "import cartopy.crs as ccrs\n",
    "import cartopy.feature as cfeature\n",
    "\n",
    "import matplotlib.pyplot as plt\n",
    "%matplotlib inline"
   ]
  },
  {
   "cell_type": "code",
   "execution_count": null,
   "id": "47cd153f-42c1-4e52-a808-711c62269f53",
   "metadata": {},
   "outputs": [],
   "source": [
    "def read_vars(fName, vName):\n",
    "    ds = xr.open_dataset(fName)\n",
    "    var = ds[vName]\n",
    "    return var"
   ]
  },
  {
   "cell_type": "code",
   "execution_count": null,
   "id": "4d2e719b-5674-451f-b8b5-3cec716621dd",
   "metadata": {},
   "outputs": [],
   "source": [
    "varUnits={\n",
    "    'Temp':'degC',\n",
    "    'Salt':'PSU'}\n",
    "\n",
    "varCbar={\n",
    "    'Temp':[-2, 28, 'Spectral_r'],\n",
    "    'Salt':[33, 38, 'nipy_spectral']}"
   ]
  },
  {
   "cell_type": "markdown",
   "id": "04f99aa6-4c26-40c7-8e44-6acb72248cda",
   "metadata": {},
   "source": [
    "## Set inputs:\n",
    "- Names of experiments.\n",
    "- Path to data.\n",
    "- Dates (yyyymmdd) and hours: `yyyymmddThh`"
   ]
  },
  {
   "cell_type": "code",
   "execution_count": null,
   "id": "7bd8e416-7caf-4f9b-bad2-8052a684903c",
   "metadata": {},
   "outputs": [],
   "source": [
    "data_rootPath = \"/scratch3/NCEPDEV/climate/Jiande.Wang/working/scratch/C384-v17/OCEAN/\"\n",
    "expNames = [\"B1\", \"B2\", \"B3\"]\n",
    "\n",
    "# set date \n",
    "#dateStr = \"20250101\" # start date\n",
    "#hrStr = \"06\" # starting hour (on start date)\n",
    "dateStr = \"20250126\" # end date\n",
    "hrStr = \"00\" # ending hour (on end date)\n",
    "\n",
    "# set (3-d) variable names and level\n",
    "vNames = [\"Temp\", \"Salt\"]\n",
    "zMax = 500 # maximum depth to plot\n",
    "lon_plot = -10\n",
    "\n",
    "PDY = dateStr + \"T\" + hrStr\n",
    "\n",
    "# path where figures will be saved\n",
    "out_dir = \"/home/Santha.Akella/for_folks/JiandeW/Sep2025/figs/\""
   ]
  },
  {
   "cell_type": "markdown",
   "id": "9777e40c-6353-4996-af9b-194898e4eba8",
   "metadata": {},
   "source": [
    "## Load datasets from all:\n",
    "- WOA 2023.\n",
    "- The experiments set in `expNames`.\n",
    "- Dates.\n",
    "- Plot user requested variables.\n",
    "  1. Temperature.\n",
    "  2. Salinity."
   ]
  },
  {
   "cell_type": "code",
   "execution_count": null,
   "id": "9fb905b3-7521-4b96-944a-deadc5c934f1",
   "metadata": {},
   "outputs": [],
   "source": [
    "# WOA 2023\n",
    "WOA_ver=\"WOA 2023\"\n",
    "res, fPref, fSuff = [\"025\", \"woa23_decav91C0_\", \"04\"]\n",
    "woa_rootPath = \"/scratch3/NCEPDEV/climate/Jiande.Wang/OBS-data/WOA2023/\" + res+\"/\"\n",
    "\n",
    "monStr = \"02\" # which month? 01- 12?\n",
    "# set (3-d) variable names\n",
    "varStr = [\"t\", \"s\"]\n",
    "woa_vNames = [\"t_an\", \"s_an\"]\n",
    "\n",
    "fName_temp = sorted(glob.glob(woa_rootPath + fPref + varStr[0] + monStr + \"_\" + fSuff +\".nc\"))[0]\n",
    "print(f\"Read {WOA_ver} temperature from\\t{fName_temp}\")\n",
    "woa_t = xr.open_dataset(fName_temp,decode_times=False)[woa_vNames[0]]\n",
    "\n",
    "fName_salt = sorted(glob.glob(woa_rootPath + fPref + varStr[1] + monStr + \"_\" + fSuff +\".nc\"))[0]\n",
    "print(f\"Read {WOA_ver} salinity from\\t{fName_salt}\")\n",
    "woa_s = xr.open_dataset(fName_salt, decode_times=False)[woa_vNames[1]]"
   ]
  },
  {
   "cell_type": "markdown",
   "id": "490eccfa-c918-4611-b08f-99be18aa7a73",
   "metadata": {},
   "source": [
    "## Plot `potential temperature`"
   ]
  },
  {
   "cell_type": "code",
   "execution_count": null,
   "id": "9779a628-a915-45c0-af49-3e712025b9f3",
   "metadata": {},
   "outputs": [],
   "source": [
    "varName = vNames[0]\n",
    "\n",
    "fig=plt.figure(figsize=(12, 6), clear=True, dpi=120)\n",
    "\n",
    "for iexp, expName in enumerate(expNames):\n",
    "    print(f\"Processing data from:\\t{expName}\")\n",
    "    \n",
    "    dPath = data_rootPath+f\"{expName}/gdas.{dateStr}/{hrStr}/model/ocean/history/\"\n",
    "    fName = sorted(glob.glob(dPath + f\"gdas.ocean.t*z.inst.f000.nc\"))[0]\n",
    "    print(f\"Reading:\\t{fName}\")\n",
    "    var = read_vars(fName, varName)\n",
    "\n",
    "    ax = fig.add_subplot(2, 2, iexp+1)\n",
    "    var_section=var.sel(xh=lon_plot, method='nearest').sel(yh=slice(-70., 60)).sel(z_l=slice(0, zMax))\n",
    "    im=var_section.plot(ax=ax, yincrease=False, vmin=varCbar[varName][0], vmax=varCbar[varName][1], cmap=varCbar[varName][2])\n",
    "    ax.set_title(f'{expName} {PDY} [lon={lon_plot}]')\n",
    "        \n",
    "    if iexp<2:\n",
    "        ax.set_xlabel(\"\")\n",
    "    if iexp==1 or iexp==3:\n",
    "        ax.set_ylabel(\"\")\n",
    "\n",
    "ax = fig.add_subplot(2, 2, 4)\n",
    "woa_sec=woa_t.sel(lon=lon_plot, method='nearest').sel(lat=slice(-70., 60)).sel(depth=slice(0, zMax))\n",
    "woa_sec.plot(ax=ax, yincrease=False, vmin=varCbar[varName][0], vmax=varCbar[varName][1], cmap=varCbar[varName][2])\n",
    "ax.set_title(f'{WOA_ver} MON[{monStr}] [lon={lon_plot}]')\n",
    "ax.set_ylabel(\"\")"
   ]
  },
  {
   "cell_type": "markdown",
   "id": "cfe16040-d88a-4aec-916e-6d447dd6508c",
   "metadata": {},
   "source": [
    "## Plot `salinity`"
   ]
  },
  {
   "cell_type": "code",
   "execution_count": null,
   "id": "d5115ba5-ea6e-4b01-a164-50a8b42bca61",
   "metadata": {},
   "outputs": [],
   "source": [
    "varName = vNames[1]\n",
    "\n",
    "fig=plt.figure(figsize=(12, 6), clear=True, dpi=120)\n",
    "\n",
    "for iexp, expName in enumerate(expNames):\n",
    "    print(f\"Processing data from:\\t{expName}\")\n",
    "    \n",
    "    dPath = data_rootPath+f\"{expName}/gdas.{dateStr}/{hrStr}/model/ocean/history/\"\n",
    "    fName = sorted(glob.glob(dPath + f\"gdas.ocean.t*z.inst.f000.nc\"))[0]\n",
    "    print(f\"Reading:\\t{fName}\")\n",
    "    var = read_vars(fName, varName)\n",
    "\n",
    "    ax = fig.add_subplot(2, 2, iexp+1)\n",
    "    var_section=var.sel(xh=lon_plot, method='nearest').sel(yh=slice(-70., 60)).sel(z_l=slice(0, zMax))\n",
    "    im=var_section.plot(ax=ax, yincrease=False, vmin=varCbar[varName][0], vmax=varCbar[varName][1], cmap=varCbar[varName][2])\n",
    "    ax.set_title(f'{expName} {PDY} [lon={lon_plot}]')\n",
    "        \n",
    "    if iexp<2:\n",
    "        ax.set_xlabel(\"\")\n",
    "    if iexp==1 or iexp==3:\n",
    "        ax.set_ylabel(\"\")\n",
    "\n",
    "ax = fig.add_subplot(2, 2, 4)\n",
    "woa_sec=woa_s.sel(lon=lon_plot, method='nearest').sel(lat=slice(-70., 60)).sel(depth=slice(0, zMax))\n",
    "woa_sec.plot(ax=ax, yincrease=False, vmin=varCbar[varName][0], vmax=varCbar[varName][1], cmap=varCbar[varName][2])\n",
    "ax.set_title(f'{WOA_ver} {monStr} [lon={lon_plot}]')\n",
    "ax.set_ylabel(\"\")"
   ]
  },
  {
   "cell_type": "code",
   "execution_count": null,
   "id": "463b67b2-1e96-46f4-a096-5192e45f6523",
   "metadata": {},
   "outputs": [],
   "source": []
  }
 ],
 "metadata": {
  "kernelspec": {
   "display_name": "Python 3 (ipykernel)",
   "language": "python",
   "name": "python3"
  },
  "language_info": {
   "codemirror_mode": {
    "name": "ipython",
    "version": 3
   },
   "file_extension": ".py",
   "mimetype": "text/x-python",
   "name": "python",
   "nbconvert_exporter": "python",
   "pygments_lexer": "ipython3",
   "version": "3.12.1"
  }
 },
 "nbformat": 4,
 "nbformat_minor": 5
}
