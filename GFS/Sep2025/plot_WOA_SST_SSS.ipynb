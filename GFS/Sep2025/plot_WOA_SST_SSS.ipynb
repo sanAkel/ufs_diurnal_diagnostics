{
 "cells": [
  {
   "cell_type": "code",
   "execution_count": null,
   "id": "28319336-8d80-4837-a4d7-2e7d20fc0e7a",
   "metadata": {},
   "outputs": [],
   "source": [
    "import glob as glob\n",
    "\n",
    "import numpy as np\n",
    "import xarray as xr\n",
    "import cartopy.crs as ccrs\n",
    "import cartopy.feature as cfeature\n",
    "\n",
    "import matplotlib.pyplot as plt\n",
    "%matplotlib inline"
   ]
  },
  {
   "cell_type": "code",
   "execution_count": null,
   "id": "7e029aaf-1523-4866-9147-107f38415d6a",
   "metadata": {},
   "outputs": [],
   "source": [
    "def read_vars(fName, vName, level_index):\n",
    "    ds = xr.open_dataset(fName, decode_times=False)\n",
    "    var = ds[vName].isel(depth=level_index)\n",
    "    return var"
   ]
  },
  {
   "cell_type": "code",
   "execution_count": null,
   "id": "e4905453-ba8e-4475-87df-b64fc3f0019a",
   "metadata": {},
   "outputs": [],
   "source": [
    "def plot_var(out_dir, MON, var, varName, varUnits, cMin, cMax, cMap):\n",
    "    WOA_ver = 'WOA 2023'\n",
    "    \n",
    "    fig=plt.figure(figsize=(8, 6), clear=True, dpi=60)\n",
    "    ax = fig.add_subplot(111, projection=ccrs.Robinson())\n",
    "    im=ax.pcolormesh(var['lon'], var['lat'], var.squeeze(),\n",
    "                     vmin=cMin, vmax=cMax, cmap=cMap,\n",
    "                     transform=ccrs.PlateCarree())\n",
    "    \n",
    "    cbar=fig.colorbar(im, ax=ax, orientation='horizontal')\n",
    "    ax.set_title(f'{WOA_ver} {MON}')\n",
    "    cbar.ax.set_title(f'{varName} [{varUnits}]')\n",
    "    figName = out_dir + varName+'_'+MON+'.png'\n",
    "    plt.savefig(figName)\n",
    "    print(f'Saved {figName}', bbox_inches='tight')\n",
    "    plt.close('all')"
   ]
  },
  {
   "cell_type": "code",
   "execution_count": null,
   "id": "923dcc50-c701-4712-b6ce-3168358acf1d",
   "metadata": {},
   "outputs": [],
   "source": [
    "varUnits={\n",
    "    'Temp':'degC',\n",
    "    'Salt':'PSU'}\n",
    "\n",
    "varCbar={\n",
    "    'Temp':[-2, 32, 'gist_ncar'],\n",
    "    'Salt':[32, 40, 'nipy_spectral']}"
   ]
  },
  {
   "cell_type": "markdown",
   "id": "59b53aec-0017-4a83-85df-3a1e1b7e89e7",
   "metadata": {},
   "source": [
    "## Set inputs:\n",
    "- Path to data.\n",
    "- Month of dataset.\n",
    "- Variable names.\n",
    "- Depth (index).\n",
    "\n",
    "## Outputs:\n",
    "- Output path."
   ]
  },
  {
   "cell_type": "code",
   "execution_count": null,
   "id": "7a4cf1cc-ac8a-4555-9f03-0e59b8f907e5",
   "metadata": {},
   "outputs": [],
   "source": [
    "res = \"025\"\n",
    "fPref, fSuff = [\"woa23_decav91C0_\", \"04\"]\n",
    "\n",
    "monStr = \"01\"\n",
    "varStr = [\"t\", \"s\"]\n",
    "\n",
    "# set (3-d) variable names and level\n",
    "vNames = [\"t_an\", \"s_an\"]\n",
    "level_index = 0 # level-1 (aka \"k-index\")\n",
    "\n",
    "data_rootPath = \"/scratch3/NCEPDEV/climate/Jiande.Wang/OBS-data/WOA2023/\" + res+\"/\"\n",
    "\n",
    "# path where figures will be saved\n",
    "out_dir = \"/home/Santha.Akella/for_folks/JiandeW/Sep2025/figs/WOA/\""
   ]
  },
  {
   "cell_type": "markdown",
   "id": "f3ef8f7a-8a6b-4582-9a38-4884915f0ae2",
   "metadata": {},
   "source": [
    "## Read data"
   ]
  },
  {
   "cell_type": "code",
   "execution_count": null,
   "id": "5432abb0-565f-4005-bd4f-6fc3ea078500",
   "metadata": {},
   "outputs": [],
   "source": [
    "fName_temp = sorted(glob.glob(data_rootPath + fPref + varStr[0] + monStr + \"_\" + fSuff +\".nc\"))[0]\n",
    "print(f\"Read temperature from\\t{fName_temp}\")\n",
    "t_an = read_vars(fName_temp, vNames[0], level_index)\n",
    "\n",
    "fName_salt = sorted(glob.glob(data_rootPath + fPref + varStr[1] + monStr + \"_\" + fSuff +\".nc\"))[0]\n",
    "print(f\"Read salinity from\\t{fName_salt}\")\n",
    "s_an = read_vars(fName_salt, vNames[1], level_index)"
   ]
  },
  {
   "cell_type": "markdown",
   "id": "5677e292-13b8-4b61-8633-cab5cd209c4b",
   "metadata": {},
   "source": [
    "## Plot"
   ]
  },
  {
   "cell_type": "code",
   "execution_count": null,
   "id": "3de63157-987f-4279-9c56-908feff81f1c",
   "metadata": {},
   "outputs": [],
   "source": [
    "# Temperature - strictly it is in-situ, for \"SST\" it will pass!\n",
    "plot_var(out_dir, monStr, t_an, vNames[0], \n",
    "         varUnits['Temp'], varCbar['Temp'][0], varCbar['Temp'][1], varCbar['Temp'][2])\n",
    "\n",
    "# Salinity - strictly it needs to be converted to absolute salinity, but for 'SSS\" it will pass!\n",
    "plot_var(out_dir, monStr, s_an, vNames[1], \n",
    "         varUnits['Salt'], varCbar['Salt'][0], varCbar['Salt'][1], varCbar['Salt'][2])"
   ]
  }
 ],
 "metadata": {
  "kernelspec": {
   "display_name": "Python 3 (ipykernel)",
   "language": "python",
   "name": "python3"
  },
  "language_info": {
   "codemirror_mode": {
    "name": "ipython",
    "version": 3
   },
   "file_extension": ".py",
   "mimetype": "text/x-python",
   "name": "python",
   "nbconvert_exporter": "python",
   "pygments_lexer": "ipython3",
   "version": "3.12.1"
  }
 },
 "nbformat": 4,
 "nbformat_minor": 5
}
