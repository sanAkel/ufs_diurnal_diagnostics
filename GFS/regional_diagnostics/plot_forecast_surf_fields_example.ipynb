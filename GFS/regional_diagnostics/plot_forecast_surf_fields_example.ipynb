{
  "nbformat": 4,
  "nbformat_minor": 0,
  "metadata": {
    "colab": {
      "provenance": [],
      "authorship_tag": "ABX9TyOid3KPEd/e5s94vmy9YMf/",
      "include_colab_link": true
    },
    "kernelspec": {
      "name": "python3",
      "display_name": "Python 3"
    },
    "language_info": {
      "name": "python"
    }
  },
  "cells": [
    {
      "cell_type": "markdown",
      "metadata": {
        "id": "view-in-github",
        "colab_type": "text"
      },
      "source": [
        "<a href=\"https://colab.research.google.com/github/sanAkel/ufs_diurnal_diagnostics/blob/main/GFS/regional_diagnostics/plot_forecast_surf_fields_example.ipynb\" target=\"_parent\"><img src=\"https://colab.research.google.com/assets/colab-badge.svg\" alt=\"Open In Colab\"/></a>"
      ]
    },
    {
      "cell_type": "markdown",
      "source": [
        "## Install modules"
      ],
      "metadata": {
        "id": "d3eGDjomlS_D"
      }
    },
    {
      "cell_type": "code",
      "source": [
        "!pip install cartopy\n",
        "!pip install cmocean\n",
        "!pip install cftime"
      ],
      "metadata": {
        "collapsed": true,
        "id": "BeZvIKZwlT6B"
      },
      "execution_count": null,
      "outputs": []
    },
    {
      "cell_type": "code",
      "source": [
        "!mkdir -p data_prepared\n",
        "\n",
        "# manually upload data from RDHPCS\n",
        "\n",
        "!ls data_prepared/\n",
        "\n",
        "!pwd"
      ],
      "metadata": {
        "id": "umc5V5uZl2EN"
      },
      "execution_count": null,
      "outputs": []
    },
    {
      "cell_type": "code",
      "source": [
        "import glob as glob\n",
        "import xarray as xr\n",
        "\n",
        "import warnings\n",
        "warnings.filterwarnings('ignore')\n",
        "\n",
        "import matplotlib\n",
        "#matplotlib.use('Agg')\n",
        "from matplotlib import pyplot as plt\n",
        "import matplotlib.ticker as mticker\n",
        "\n",
        "import cartopy.crs as ccrs\n",
        "import cartopy.feature as cfeature\n",
        "from cartopy.mpl.gridliner import LONGITUDE_FORMATTER, LATITUDE_FORMATTER\n",
        "\n",
        "import cmocean"
      ],
      "metadata": {
        "id": "eilhNggKu-kQ"
      },
      "execution_count": null,
      "outputs": []
    },
    {
      "cell_type": "markdown",
      "source": [
        "## User inputs"
      ],
      "metadata": {
        "id": "Pkx68ntby_I_"
      }
    },
    {
      "cell_type": "code",
      "source": [
        "exp_name = \"HR5-winter\"\n",
        "fcst_date = '2019-12-03'# Assume 00UTC\n",
        "\n",
        "# US North East coast\n",
        "lon_s, lon_e = [-79, -74]\n",
        "lat_s, lat_e = [33, 41]\n",
        "\n",
        "cLat = -180 # central longitude (map proj)\n",
        "\n",
        "vName = 'SST'\n",
        "cMin, cMax, cMap = [-2., 32., cmocean.cm.thermal]\n",
        "color_ticks = [0,4,8,12,16,20,24,28,32]\n",
        "fSize=8 # text font size\n",
        "DPI = 120"
      ],
      "metadata": {
        "id": "EoI2MEENy4BX"
      },
      "execution_count": null,
      "outputs": []
    },
    {
      "cell_type": "markdown",
      "source": [
        "## Read prepared data:\n",
        "- Field(s) from forecast files.\n",
        "- Prepared via [this script.](https://github.com/sanAkel/ufs_diurnal_diagnostics/blob/main/GFS/regional_diagnostics/process_data.py)"
      ],
      "metadata": {
        "id": "maFgKh4JzcUU"
      }
    },
    {
      "cell_type": "code",
      "source": [
        "fName = sorted(glob.glob('/content/data_prepared/test.nc'))\n",
        "print(f\"Read data file:\\n{fName[0]}\")"
      ],
      "metadata": {
        "id": "raUBFpYXzuRt"
      },
      "execution_count": null,
      "outputs": []
    },
    {
      "cell_type": "code",
      "source": [
        "ds = xr.open_dataset(fName[0])\n",
        "ds = ds.assign_coords({'geolon': ds['geolon'],\n",
        "                       'geolat': ds['geolat']})"
      ],
      "metadata": {
        "id": "g-TKMr_-0aAZ"
      },
      "execution_count": null,
      "outputs": []
    },
    {
      "cell_type": "markdown",
      "source": [
        "## Plot global map\n",
        "### Note:\n",
        "- By setting  `x= ''` and `y = ''` you get the right projection for tripole data.\n",
        "- See [examples here for further details.](https://mom6-analysiscookbook.readthedocs.io/en/latest/notebooks/Plotting.html)"
      ],
      "metadata": {
        "id": "vImuN9Sj5Q-c"
      }
    },
    {
      "cell_type": "code",
      "source": [
        "subplot_kws=dict(projection=ccrs.PlateCarree(central_longitude=cLat), facecolor='grey')\n",
        "\n",
        "plt.figure(num=1, figsize=[8,6], dpi=DPI)\n",
        "im=ds[vName].plot(x='geolon', y='geolat', vmin=cMin, vmax=cMax, cmap=cMap,subplot_kws=subplot_kws, transform=ccrs.PlateCarree(),\n",
        "                  add_labels=False, add_colorbar=False)\n",
        "\n",
        "# add separate colorbar\n",
        "cb = plt.colorbar(im, ticks=color_ticks, shrink=0.5, pad=0.01)\n",
        "cb.ax.tick_params(labelsize=fSize)\n",
        "cb.ax.set_xlabel('{}'.format(ds[vName].units), fontsize=fSize)\n",
        "cb.ax.set_ylabel('{} {}'.format(vName.upper(), fcst_date))\n",
        "\n",
        "# draw parallels/meridiens and write labels\n",
        "gl = im.axes.gridlines(crs=ccrs.PlateCarree(), draw_labels=True, linewidth=2, color='gray', alpha=0.5, linestyle='--')\n",
        "\n",
        "# adjust labels to taste\n",
        "gl.top_labels = False\n",
        "gl.right_labels = False\n",
        "gl.ylocator = mticker.FixedLocator([-90, -60, -30, 0, 30, 60, 90])\n",
        "gl.xformatter = LONGITUDE_FORMATTER\n",
        "gl.yformatter = LATITUDE_FORMATTER\n",
        "gl.xlabel_style = {'size': fSize-2, 'color': 'black'}\n",
        "gl.ylabel_style = {'size': fSize-2, 'color': 'black'}"
      ],
      "metadata": {
        "id": "zoDuy8pB04Ga"
      },
      "execution_count": null,
      "outputs": []
    },
    {
      "cell_type": "markdown",
      "source": [
        "## Same as above, but for the region of interest"
      ],
      "metadata": {
        "id": "cZZBWDnC9lRK"
      }
    },
    {
      "cell_type": "code",
      "source": [
        "fig = plt.figure(num=1, figsize=[8,6], dpi=DPI)\n",
        "ax = fig.add_subplot(1,1,1, projection=ccrs.PlateCarree(central_longitude=cLat))\n",
        "ax.add_feature(cfeature.LAND, facecolor='grey', alpha=0.1)\n",
        "ax.coastlines()\n",
        "ax.set_extent([lon_s, lon_e, lat_s, lat_e], crs=ccrs.PlateCarree())\n",
        "\n",
        "im=ds[vName].plot(x='geolon', y='geolat', vmin=5, vmax=25, cmap='Set1_r',subplot_kws=subplot_kws, transform=ccrs.PlateCarree(),\n",
        "                  add_labels=False, add_colorbar=False)\n",
        "\n",
        "# add separate colorbar\n",
        "cb = plt.colorbar(im, ticks=color_ticks, shrink=0.75, pad=0.01)\n",
        "cb.ax.tick_params(labelsize=fSize)\n",
        "cb.ax.set_xlabel('{}'.format(ds[vName].units), fontsize=fSize)\n",
        "cb.ax.set_ylabel('{} {}'.format(vName.upper(), fcst_date))\n",
        "\n",
        "# draw parallels/meridiens and write labels\n",
        "gl = im.axes.gridlines(crs=ccrs.PlateCarree(), draw_labels=True, linewidth=1, color='gray', alpha=0.5, linestyle='--')\n",
        "\n",
        "# adjust labels to taste\n",
        "gl.top_labels = False\n",
        "gl.right_labels = False\n",
        "gl.xlabel_style = {'size': fSize, 'color': 'black'}\n",
        "gl.ylabel_style = {'size': fSize, 'color': 'black'}"
      ],
      "metadata": {
        "id": "Pp9XkEP28RJW"
      },
      "execution_count": null,
      "outputs": []
    }
  ]
}