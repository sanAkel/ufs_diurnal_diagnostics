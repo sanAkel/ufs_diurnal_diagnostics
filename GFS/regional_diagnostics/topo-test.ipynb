{
 "cells": [
  {
   "cell_type": "markdown",
   "id": "dcde98b9-569a-450e-b01b-7e3824baa010",
   "metadata": {},
   "source": [
    "# To plot grid and bathymetry"
   ]
  },
  {
   "cell_type": "code",
   "execution_count": null,
   "id": "ea2b1f1f-f226-4c13-8bc5-a6bd781a247b",
   "metadata": {},
   "outputs": [],
   "source": [
    "import xarray as xr\n",
    "import numpy as np\n",
    "\n",
    "import matplotlib.colors\n",
    "import matplotlib.colorbar as cbar\n",
    "import matplotlib.pyplot as plt\n",
    "\n",
    "import cartopy.crs as ccrs\n",
    "import cartopy.feature as cfeature\n",
    "\n",
    "%matplotlib inline"
   ]
  },
  {
   "cell_type": "code",
   "execution_count": null,
   "id": "3e53dc19-7168-4d3e-9410-b79b1973378b",
   "metadata": {},
   "outputs": [],
   "source": [
    "# OM4 0.25-deg\n",
    "dPath = \"/scratch1/NCEPDEV/stmp2/Jiande.Wang/FV3_RT/rt_1500930-CDEP/datm_cdeps_mx025_gefs_intel/INPUT/\"\n",
    "\n",
    "grid_fName = dPath + \"ocean_hgrid.nc\"\n",
    "topo_fName = dPath + \"ocean_topog.nc\""
   ]
  },
  {
   "cell_type": "code",
   "execution_count": null,
   "id": "5ba65a47-ea8e-4b7a-8242-fb6a0fbecee9",
   "metadata": {},
   "outputs": [],
   "source": [
    "grid = xr.open_dataset(grid_fName)\n",
    "topo = xr.open_dataset(topo_fName)"
   ]
  },
  {
   "cell_type": "code",
   "execution_count": null,
   "id": "b76df171-dab4-4576-8e3c-1003e4f238e4",
   "metadata": {},
   "outputs": [],
   "source": [
    "x= grid['x'][:][::2,::2]\n",
    "y= grid['y'][:][::2,::2]\n",
    "z=topo['depth'][:,:]"
   ]
  },
  {
   "cell_type": "markdown",
   "id": "3445aab7-33e2-432f-a0b4-360e8390a84b",
   "metadata": {},
   "source": [
    "## Plot topography (globe)"
   ]
  },
  {
   "cell_type": "code",
   "execution_count": null,
   "id": "d3ce32ed-6471-4115-b3c9-47ca01e55702",
   "metadata": {},
   "outputs": [],
   "source": [
    "vMin,vMax,cMap = [0,6000.,plt.cm.terrain_r]\n",
    "\n",
    "fig = plt.figure(num=1, figsize=(8,6))\n",
    "\n",
    "ax = fig.add_subplot(1,1,1, projection=ccrs.PlateCarree(central_longitude=180))\n",
    "ax.add_feature(cfeature.LAND, facecolor='grey', alpha=0.1)\n",
    "ax.coastlines()\n",
    "#ax.set_extent([lon_s, lon_e, lat_s, lat_e], crs=ccrs.PlateCarree())\n",
    "\n",
    "im = ax.pcolormesh(x, y, z,\\\n",
    "                   transform=ccrs.PlateCarree(), cmap=cMap, vmin=vMin, vmax=vMax)\n",
    "\n",
    "cb = plt.colorbar(im, orientation='horizontal',shrink=0.99, pad=0.01)\n",
    "cb.ax.tick_params(labelsize=12)\n",
    "cb.ax.set_xlabel('OM4 Topographic depth (m)', fontsize=12)"
   ]
  },
  {
   "cell_type": "markdown",
   "id": "95094cbc-127b-42f0-bc13-786979a95a9f",
   "metadata": {},
   "source": [
    "## Plot topography (`US North East coast`)"
   ]
  },
  {
   "cell_type": "code",
   "execution_count": null,
   "id": "8469fa41-42bb-4ccd-accc-285e65add1d5",
   "metadata": {},
   "outputs": [],
   "source": [
    "lon_s1, lon_e1 = [-79, -74]\n",
    "lat_s1, lat_e1 = [33, 41]\n",
    "\n",
    "lon_s2, lon_e2 = [-78, -75]\n",
    "lat_s2, lat_e2 = [34, 37]"
   ]
  },
  {
   "cell_type": "code",
   "execution_count": null,
   "id": "41a401d1-dae3-4b48-903a-742b62130142",
   "metadata": {},
   "outputs": [],
   "source": [
    "vMin,vMax,cMap = [0,100.,plt.cm.terrain_r]\n",
    "\n",
    "fig = plt.figure(num=1, figsize=(10,6))\n",
    "\n",
    "ax1 = fig.add_subplot(1,2,1, projection=ccrs.PlateCarree(central_longitude=180))\n",
    "ax1.add_feature(cfeature.LAND, facecolor='grey', alpha=0.25, zorder=10)\n",
    "ax1.coastlines(ls='-')\n",
    "ax1.set_extent([lon_s1, lon_e1, lat_s1, lat_e1], crs=ccrs.PlateCarree())\n",
    "\n",
    "im1 = ax1.pcolormesh(x, y, z,\\\n",
    "                   transform=ccrs.PlateCarree(), cmap=cMap, vmin=vMin, vmax=vMax)\n",
    "\n",
    "cb1 = plt.colorbar(im1, orientation='vertical',shrink=0.99, pad=0.01)\n",
    "cb1.ax.tick_params(labelsize=12)\n",
    "#cb1.ax.set_ylabel('OM4 Topographic depth (m)', fontsize=12)\n",
    "#\n",
    "\n",
    "vMin,vMax,cMap = [0,50.,plt.cm.gist_ncar]\n",
    "\n",
    "ax2 = fig.add_subplot(1,2,2, projection=ccrs.PlateCarree(central_longitude=180))\n",
    "ax2.add_feature(cfeature.LAND, facecolor='grey', alpha=0.25, zorder=10)\n",
    "ax2.coastlines(ls='-')\n",
    "ax2.set_extent([lon_s2, lon_e2, lat_s2, lat_e2], crs=ccrs.PlateCarree())\n",
    "\n",
    "im2 = ax2.pcolormesh(x, y, z,\\\n",
    "                   transform=ccrs.PlateCarree(), cmap=cMap, vmin=vMin, vmax=vMax)\n",
    "\n",
    "cb2 = plt.colorbar(im2, orientation='vertical',shrink=0.6, pad=0.01)\n",
    "cb2.ax.tick_params(labelsize=12)\n",
    "#cb2.ax.set_ylabel('OM4 Topographic depth (m)', fontsize=12)\n",
    "\n",
    "# draw parallels/meridiens and write labels\n",
    "gl = im2.axes.gridlines(crs=ccrs.PlateCarree(), draw_labels=True, linewidth=1, color='gray', alpha=0.5, linestyle='--')\n",
    "\n",
    "# adjust labels to taste\n",
    "gl.top_labels = False\n",
    "gl.right_labels = False\n",
    "gl.xlabel_style = {'size': 10, 'color': 'black'}\n",
    "gl.ylabel_style = {'size': 10, 'color': 'black'}"
   ]
  },
  {
   "cell_type": "code",
   "execution_count": null,
   "id": "4c0bb064-b65f-4e93-a047-bd650ab09238",
   "metadata": {},
   "outputs": [],
   "source": [
    "lon_s, lon_e = [-77.5, -75]\n",
    "lat_s, lat_e = [34, 36]\n",
    "#\n",
    "\n",
    "fig = plt.figure(num=1, figsize=(10,6))\n",
    "\n",
    "vMin,vMax,cMap = [0,50.,plt.cm.Spectral_r]\n",
    "\n",
    "ax = fig.add_subplot(1,1,1, projection=ccrs.PlateCarree(central_longitude=180))\n",
    "ax.add_feature(cfeature.LAND, facecolor='grey', alpha=0.25, zorder=10)\n",
    "ax.coastlines(ls='-')\n",
    "ax.set_extent([lon_s, lon_e, lat_s, lat_e], crs=ccrs.PlateCarree())\n",
    "\n",
    "im = ax.pcolormesh(x, y, z,\\\n",
    "                   transform=ccrs.PlateCarree(), cmap=cMap, vmin=vMin, vmax=vMax)\n",
    "\n",
    "cb = plt.colorbar(im, orientation='vertical',shrink=0.6, pad=0.01)\n",
    "cb.ax.tick_params(labelsize=12)\n",
    "\n",
    "# draw parallels/meridiens and write labels\n",
    "gl = im.axes.gridlines(crs=ccrs.PlateCarree(), draw_labels=True, linewidth=1, color='k', alpha=0.75, linestyle='--')\n",
    "\n",
    "# adjust labels to taste\n",
    "gl.top_labels = False\n",
    "gl.right_labels = False\n",
    "gl.xlabel_style = {'size': 8, 'color': 'black'}\n",
    "gl.ylabel_style = {'size': 8, 'color': 'black'}"
   ]
  },
  {
   "cell_type": "code",
   "execution_count": null,
   "id": "d7b0ca14-149a-4a91-8378-48d375b62db3",
   "metadata": {},
   "outputs": [],
   "source": []
  }
 ],
 "metadata": {
  "kernelspec": {
   "display_name": "Python 3 (ipykernel)",
   "language": "python",
   "name": "python3"
  },
  "language_info": {
   "codemirror_mode": {
    "name": "ipython",
    "version": 3
   },
   "file_extension": ".py",
   "mimetype": "text/x-python",
   "name": "python",
   "nbconvert_exporter": "python",
   "pygments_lexer": "ipython3",
   "version": "3.12.1"
  }
 },
 "nbformat": 4,
 "nbformat_minor": 5
}
