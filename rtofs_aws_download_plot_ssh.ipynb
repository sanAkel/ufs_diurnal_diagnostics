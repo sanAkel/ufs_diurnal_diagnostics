{
  "nbformat": 4,
  "nbformat_minor": 0,
  "metadata": {
    "colab": {
      "provenance": [],
      "authorship_tag": "ABX9TyNqg8RF6ZoDZVilNROUk93k",
      "include_colab_link": true
    },
    "kernelspec": {
      "name": "python3",
      "display_name": "Python 3"
    },
    "language_info": {
      "name": "python"
    }
  },
  "cells": [
    {
      "cell_type": "markdown",
      "metadata": {
        "id": "view-in-github",
        "colab_type": "text"
      },
      "source": [
        "<a href=\"https://colab.research.google.com/github/sanAkel/ufs_diurnal_diagnostics/blob/main/rtofs_aws_download_plot_ssh.ipynb\" target=\"_parent\"><img src=\"https://colab.research.google.com/assets/colab-badge.svg\" alt=\"Open In Colab\"/></a>"
      ]
    },
    {
      "cell_type": "markdown",
      "source": [
        "## RTOFS nowcast (`n`) 2d files from AWS s3"
      ],
      "metadata": {
        "id": "feOKTtAi7HZW"
      }
    },
    {
      "cell_type": "code",
      "source": [
        "import xarray as xr\n",
        "import numpy as np\n",
        "import pandas as pd\n",
        "\n",
        "import glob as glob\n",
        "from PIL import Image\n",
        "\n",
        "import matplotlib.pyplot as plt\n",
        "#%matplotlib inline"
      ],
      "metadata": {
        "id": "hQSyQfHH7YJI"
      },
      "execution_count": null,
      "outputs": []
    },
    {
      "cell_type": "code",
      "source": [
        "def plot_rtofs_ssh(ds, xMin, xMax, yMin, yMax, vName='ssh'):\n",
        "  # form date string\n",
        "  yyyymmdd = ds.MT.values[0].astype(\"str\")\n",
        "  dStr = yyyymmdd.split('T')[0]+'T'+yyyymmdd.split('T')[1].split(':')[0]\n",
        "  print(dStr)\n",
        "\n",
        "  fig=plt.figure(figsize=(8, 6), dpi=180)\n",
        "  ax=fig.add_subplot(111)\n",
        "\n",
        "  im1=ds[vName].sel(X=slice(xMin, xMax), Y=slice(yMin, yMax)).plot(ax=ax, vmin=-.5, vmax=.5, cmap=\"gist_ncar\", add_colorbar=False)\n",
        "\n",
        "  im2=ds[vName].sel(X=slice(xMin, xMax), Y=slice(yMin, yMax)).squeeze().plot.contour(ax=ax, vmin=-.5, vmax=.5, cmap=\"gray\")\n",
        "\n",
        "  cbar=plt.colorbar(im1, ax=ax)\n",
        "  if vName == 'ssh':\n",
        "    cbar.set_label(\"Sea Surface Height (m)\")\n",
        "\n",
        "  ax.set_title(\"{}\".format(dStr))\n",
        "  ax.set_xlabel(\"\")\n",
        "  ax.set_ylabel(\"\")\n",
        "\n",
        "  figName= vName + '_' + dStr + '.png'\n",
        "  plt.savefig(figName)\n",
        "  plt.close()"
      ],
      "metadata": {
        "id": "WDdxb9MrIQHA"
      },
      "execution_count": null,
      "outputs": []
    },
    {
      "cell_type": "markdown",
      "source": [
        "## User inputs"
      ],
      "metadata": {
        "id": "cDgeJ_z8GG7D"
      }
    },
    {
      "cell_type": "code",
      "source": [
        "start_date, end_date = [\"20240929\", \"20241015\"]\n",
        "hours = np.arange(0, 25, 3)\n",
        "\n",
        "# Plot region bounds in silly x and y!\n",
        "xMin, xMax = [2300, 2700]\n",
        "yMin, yMax = [1700, 1900]"
      ],
      "metadata": {
        "id": "I8rb5xW0GJUL"
      },
      "execution_count": null,
      "outputs": []
    },
    {
      "cell_type": "markdown",
      "source": [
        "### Set fixed parameters"
      ],
      "metadata": {
        "id": "KVv16J-FJyIh"
      }
    },
    {
      "cell_type": "code",
      "source": [
        "data_dates = pd.date_range(start=start_date, end=end_date)\n",
        "url_base = \"https://noaa-nws-rtofs-pds.s3.amazonaws.com/rtofs.\"\n",
        "fPref = \"rtofs_glo_2ds_n\"\n",
        "fSuff = \"_diag.nc\""
      ],
      "metadata": {
        "id": "ELFo1Z9TF9iD"
      },
      "execution_count": null,
      "outputs": []
    },
    {
      "cell_type": "markdown",
      "source": [
        "## Download files, plot, save figure and delete downloaded file"
      ],
      "metadata": {
        "id": "tuKai488J1sP"
      }
    },
    {
      "cell_type": "code",
      "source": [
        "for dd in data_dates:\n",
        "      print(\"Downloading data for:\\t\", dd.strftime(\"%Y%m%d\"))\n",
        "      for hr in hours:\n",
        "        url = url_base + dd.strftime(\"%Y%m%d\") + \"/\" +\\\n",
        "        fPref + str(hr).zfill(3)+ fSuff\n",
        "        #fName = fPref + str(hr).zfill(3)+ fSuff\n",
        "        fName_save = fPref + dd.strftime(\"_%Y%m%d_\") + str(hr).zfill(3)+ fSuff\n",
        "        #print(url, fName_save)\n",
        "\n",
        "        !wget $url -O $fName_save\n",
        "        ds = xr.open_dataset(fName_save)\n",
        "        plot_rtofs_ssh(ds, xMin, xMax, yMin, yMax)\n",
        "        !rm $fName_save"
      ],
      "metadata": {
        "id": "Lk5bB4qwGxvU"
      },
      "execution_count": null,
      "outputs": []
    },
    {
      "cell_type": "code",
      "source": [
        "!mkdir -p figs\n",
        "!mv *.png figs/"
      ],
      "metadata": {
        "id": "8YCfpUZDKCZL"
      },
      "execution_count": null,
      "outputs": []
    },
    {
      "cell_type": "markdown",
      "source": [
        "## Make a gif animation from png files"
      ],
      "metadata": {
        "id": "lG_bpRhKMcdZ"
      }
    },
    {
      "cell_type": "code",
      "source": [
        "png_files_path = 'figs/'\n",
        "png_files = sorted( glob.glob( png_files_path + '/' + 'ssh_*.png'))\n",
        "#print(fNames)\n",
        "\n",
        "DUR, LOOP = [150, 0] # Duration in milliseconds, infinite loop\n",
        "\n",
        "images = []\n",
        "for filename in png_files:\n",
        "  im = Image.open(filename)\n",
        "  images.append(im)\n",
        "\n",
        "# save as a gif\n",
        "fOut = 'rtofs_ssh_' + start_date + '_' + end_date + '.gif'\n",
        "images[0].save(fOut,save_all=True,\n",
        "               append_images=images[0:],\n",
        "               optimize=False,\n",
        "               duration=DUR, # Duration in milliseconds\n",
        "               loop=LOOP) # infinite loop\n",
        "\n",
        "print('\\nSaved:\\t{}\\n'.format(fOut))"
      ],
      "metadata": {
        "id": "AyrK1FjsMicn"
      },
      "execution_count": null,
      "outputs": []
    }
  ]
}