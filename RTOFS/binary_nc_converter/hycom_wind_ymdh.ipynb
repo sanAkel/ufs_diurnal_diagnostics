{
  "nbformat": 4,
  "nbformat_minor": 0,
  "metadata": {
    "colab": {
      "provenance": [],
      "authorship_tag": "ABX9TyMWaX+/sssy8T4wiMrwJeiI",
      "include_colab_link": true
    },
    "kernelspec": {
      "name": "python3",
      "display_name": "Python 3"
    },
    "language_info": {
      "name": "python"
    }
  },
  "cells": [
    {
      "cell_type": "markdown",
      "metadata": {
        "id": "view-in-github",
        "colab_type": "text"
      },
      "source": [
        "<a href=\"https://colab.research.google.com/github/sanAkel/ufs_diurnal_diagnostics/blob/main/RTOFS/binary_nc_converter/hycom_wind_ymdh.ipynb\" target=\"_parent\"><img src=\"https://colab.research.google.com/assets/colab-badge.svg\" alt=\"Open In Colab\"/></a>"
      ]
    },
    {
      "cell_type": "code",
      "source": [
        "import numpy as np"
      ],
      "metadata": {
        "id": "2OhhJevFdUbs"
      },
      "execution_count": null,
      "outputs": []
    },
    {
      "cell_type": "markdown",
      "source": [
        "### Convert time stamp in archive to yyyy/mm/dd:hh\n",
        " - Based on [hycom_wind_ymdh.f](https://github.com/HYCOM/HYCOM-tools/blob/master/bin/hycom_wind_ymdh.f)"
      ],
      "metadata": {
        "id": "WdfDI0c9eHbf"
      }
    },
    {
      "cell_type": "code",
      "source": [
        "def hycom_wind_ymdh(dtime, yrflag=3):\n",
        "\n",
        "  if yrflag !=3:\n",
        "    raise ValueError(\"yrflag must be 3\")\n",
        "\n",
        "  [iyear, month, iday, ihour] = fordate(dtime)\n",
        "\n",
        "  return iyear, month, iday, ihour\n",
        "# --\n",
        "\n",
        "def fordate(dtime):\n",
        "\n",
        "  month0=np.asarray([[1,  31,  61,  91, 121, 151, 181, 211, 241, 271, 301, 331, 361],\n",
        "               [1,  32,  60,  91, 121, 152, 182, 213, 244, 274, 305, 335, 366],\n",
        "               [1,  32,  61,  92, 122, 153, 183, 214, 245, 275, 306, 336, 367]])\n",
        "\n",
        "  [iyear, jday, ihour] = forday(dtime)\n",
        "  #print(f\"fordate: dtime, iyear, jday, ihour\", dtime, iyear, jday, ihour)\n",
        "\n",
        "  if (np.mod(iyear, 4) == 0):\n",
        "    k = 3  #leap year\n",
        "  else:\n",
        "    k = 2  #standard year\n",
        "  #print(f\"fordate: k\", k)\n",
        "\n",
        "  for m in range(0, 12):\n",
        "    #print(jday, month0[k-1, m], month0[k-1, m+1])\n",
        "    if ((jday >= month0[k-1, m]) and (jday < month0[k-1, m+1])):\n",
        "      month = m+1\n",
        "      iday  = jday - month0[k-1, m] + 1\n",
        "  #print(f\"fordate: month, iday\", month, iday)\n",
        "\n",
        "  return iyear, month, iday, ihour\n",
        "# --\n",
        "\n",
        "def forday(dtime):\n",
        "  # model day is calendar days since 01/01/1901\n",
        "  print(f\"forday INPUT dtime: \", dtime)\n",
        "\n",
        "  iyr   = int((dtime-1.)/365.25)\n",
        "  nleap = int(iyr/4.)\n",
        "  dtim1 = 365.0*iyr + nleap + 1.\n",
        "  day   = dtime - dtim1 + 1.\n",
        "  print(f\"forday: iyr, nleap, dtim1, day\\n\", iyr, nleap, dtim1, day)\n",
        "\n",
        "  if dtim1 > dtime:\n",
        "    iyr = iyr - 1\n",
        "  elif day >= 367.:\n",
        "    iyr = iyr + 1\n",
        "  elif ((day >= 366.0) and (np.mod(iyr,4) != 3)):\n",
        "    iyr = iyr + 1\n",
        "  nleap = int(iyr/4.)\n",
        "  dtim1 = 365.0*iyr + nleap + 1.\n",
        "  #print(f\"forday: iyr, nleap, dtim1\", iyr, nleap, dtim1)\n",
        "\n",
        "  iyear =  int(1901 + iyr)\n",
        "  iday  =  int(dtime - dtim1 + 1.)\n",
        "  ihour = int( (dtime - dtim1 + 1.001 - iday)*24.)\n",
        "  #print(f\"forday: iyear, iday, ihour:\", iyear, iday, ihour)\n",
        "\n",
        "  return iyear, iday, ihour"
      ],
      "metadata": {
        "id": "T3ln3rPCkZSs"
      },
      "execution_count": null,
      "outputs": []
    },
    {
      "cell_type": "markdown",
      "source": [
        "### Test"
      ],
      "metadata": {
        "id": "BcL37VrOhFI7"
      }
    },
    {
      "cell_type": "code",
      "source": [
        "hycom_wind_ymdh(45370.0)\n",
        "\n",
        "print(\"\\n\")\n",
        "\n",
        "hycom_wind_ymdh(45382.0)"
      ],
      "metadata": {
        "id": "dXQz6JIChAdl"
      },
      "execution_count": null,
      "outputs": []
    },
    {
      "cell_type": "code",
      "source": [],
      "metadata": {
        "id": "yPl2qy75hO4t"
      },
      "execution_count": null,
      "outputs": []
    }
  ]
}