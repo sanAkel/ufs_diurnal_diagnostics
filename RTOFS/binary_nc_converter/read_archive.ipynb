{
  "nbformat": 4,
  "nbformat_minor": 0,
  "metadata": {
    "colab": {
      "provenance": [],
      "authorship_tag": "ABX9TyPeXdhP7QLAs0m0G0vWBq9W",
      "include_colab_link": true
    },
    "kernelspec": {
      "name": "python3",
      "display_name": "Python 3"
    },
    "language_info": {
      "name": "python"
    }
  },
  "cells": [
    {
      "cell_type": "markdown",
      "metadata": {
        "id": "view-in-github",
        "colab_type": "text"
      },
      "source": [
        "<a href=\"https://colab.research.google.com/github/sanAkel/ufs_diurnal_diagnostics/blob/main/RTOFS/binary_nc_converter/read_archive.ipynb\" target=\"_parent\"><img src=\"https://colab.research.google.com/assets/colab-badge.svg\" alt=\"Open In Colab\"/></a>"
      ]
    },
    {
      "cell_type": "code",
      "source": [
        "!pip install cartopy"
      ],
      "metadata": {
        "collapsed": true,
        "id": "iOWBhngsyfwg"
      },
      "execution_count": null,
      "outputs": []
    },
    {
      "cell_type": "code",
      "execution_count": null,
      "metadata": {
        "id": "Up4hA7bQLtnm"
      },
      "outputs": [],
      "source": [
        "import xarray as xr\n",
        "import numpy as np\n",
        "\n",
        "import cartopy.crs as ccrs\n",
        "import cartopy.feature as cfeature\n",
        "\n",
        "import matplotlib.pyplot as plt\n",
        "%matplotlib inline"
      ]
    },
    {
      "cell_type": "code",
      "source": [
        "# mount drive\n",
        "from google.colab import drive\n",
        "drive.mount('/content/drive')\n",
        "\n",
        "data_path=\"/content/drive/MyDrive/datasets/tmp/read_archive/\""
      ],
      "metadata": {
        "id": "4hyOy-NjLySc"
      },
      "execution_count": null,
      "outputs": []
    },
    {
      "cell_type": "code",
      "source": [
        "!ls -al $data_path"
      ],
      "metadata": {
        "id": "vh_Uyk6KNk4w"
      },
      "execution_count": null,
      "outputs": []
    },
    {
      "cell_type": "markdown",
      "source": [
        "### These functions are based on those at [pyhycom.](https://github.com/uwincm/pyhycom/blob/master/pyhycom.py)"
      ],
      "metadata": {
        "id": "YoCoqHarMiJY"
      }
    },
    {
      "cell_type": "code",
      "source": [
        "# return file handle\n",
        "def open_a_file(filename, mode):\n",
        "    file = open(filename[:-1]+'a',mode=mode)\n",
        "    return file\n",
        "\n",
        "#Return the name of the corresponding HYCOM \"b\" file.\n",
        "def get_b_filename(fName):\n",
        "    bfilename = fName[:-1]+'b'\n",
        "    return bfilename\n",
        "\n",
        "#Return a list where each element contains text from each line of `b file`\n",
        "def getTextFile(fName):\n",
        "    return [line.rstrip() for line in open(fName,'r').readlines()]"
      ],
      "metadata": {
        "id": "_BfZCXW6McFQ"
      },
      "execution_count": null,
      "outputs": []
    },
    {
      "cell_type": "code",
      "source": [
        "# get dimensions of an archive from .b file\n",
        "def getDims(fName, topo_file=False):\n",
        "\n",
        "  f = getTextFile(get_b_filename(fName))\n",
        "  idmFound, jdmFound = [False, False]\n",
        "\n",
        "  if topo_file:\n",
        "    for line in f:\n",
        "        if 'i/jdm' in line:\n",
        "          xx = line.split()[3]; jdm = xx[0:4]\n",
        "          idm = line.split()[2]\n",
        "          idmFound = True\n",
        "          jdmFound = True\n",
        "        if idmFound and jdmFound:break\n",
        "  else:\n",
        "    for line in f:\n",
        "        if 'idm' in line:\n",
        "          idm = line.split()[0]\n",
        "          idmFound = True\n",
        "        if 'jdm' in line:\n",
        "          jdm = line.split()[0]\n",
        "          jdmFound = True\n",
        "        if idmFound and jdmFound:break\n",
        "\n",
        "  return int(jdm), int(idm)"
      ],
      "metadata": {
        "id": "2jedyr2lP9X8"
      },
      "execution_count": null,
      "outputs": []
    },
    {
      "cell_type": "code",
      "source": [
        "def getFieldIndex(field, fName):\n",
        "    f = getTextFile(get_b_filename(fName))\n",
        "    if 'arch' in fName.split('/')[-1]:f = f[10:] # skip first 10 lines\n",
        "    if 'grid' in fName.split('/')[-1]:f = f[3:] # skip first 3 lines\n",
        "    fieldIndex = []\n",
        "    for line in f:\n",
        "      if field == line.split()[0].replace('.','').replace(':',''):\n",
        "        fieldIndex.append(f.index(line))\n",
        "    return fieldIndex"
      ],
      "metadata": {
        "id": "w4e9vmUbY2gk"
      },
      "execution_count": null,
      "outputs": []
    },
    {
      "cell_type": "code",
      "source": [
        "def getField(field, fName, undef=np.nan, x_range=None, y_range=None):\n",
        "\n",
        "  dims = getDims(fName)\n",
        "  if dims.__len__() == 2:\n",
        "    jdm, idm = dims\n",
        "  else:\n",
        "    jdm, idm, kdm = dims\n",
        "    print(\"\\n-- CAUTION! Read 3d archive is not yet ready!\\n\")\n",
        "\n",
        "  reclen = 4*idm*jdm # Record length in bytes\n",
        "  # HYCOM binary data is written out in chunks/\"words\" of multiples of 4096*4 bytes.\n",
        "  # Length of one level of one variable (reclen) will be between\n",
        "  # consecutive multiples of the wordlen. Data is padded to bring the volume\n",
        "  # up to the next multiple. The \"pad\" value below is equal to the bytes that are needed to do this.\n",
        "  wordlen = 4096*4\n",
        "  pad = wordlen * np.ceil(reclen / wordlen) - reclen   # Pad size in bytes\n",
        "  fieldRecords = getFieldIndex(field,fName)         # Get field record indices\n",
        "  fieldAddresses = np.array(fieldRecords)*(reclen+pad) # Address in bytes\n",
        "\n",
        "  file = open_a_file(fName,mode='rb') # Open file\n",
        "  if dims.__len__() == 2: # 2-d field\n",
        "    field = np.zeros((jdm,idm))\n",
        "    file.seek(int(fieldAddresses[0]),0) # Move to address of the field\n",
        "    data = file.read(idm*jdm*4)\n",
        "    field = np.reshape(np.frombuffer(data, dtype='float32', count=idm*jdm),(jdm,idm)).byteswap()\n",
        "\n",
        "    if not x_range is None:\n",
        "      field = field[:,:,x_range]\n",
        "    if not y_range is None:\n",
        "      field = field[:,y_range,:]\n",
        "\n",
        "  #field = field.byteswap() # Convert to little-endian\n",
        "  file.close()\n",
        "  field[field == np.float32(2**100)] = undef\n",
        "\n",
        "  return field"
      ],
      "metadata": {
        "id": "LHXp8F7kjZkO"
      },
      "execution_count": null,
      "outputs": []
    },
    {
      "cell_type": "code",
      "source": [
        "# Number of records in the binary file, read from .b\n",
        "def getNumberOfRecords(fName):\n",
        "  f = getTextFile(get_b_filename(fName))\n",
        "  if 'arch' in fName:\n",
        "      f = f[10:]; return len(f)\n",
        "  if 'grid' in fName:\n",
        "      f = f[3:]; return len(f)\n",
        "  if 'depth' in fName:\n",
        "      return 1\n",
        "  if 'restart' in fName:\n",
        "      f = f[2:]; return len(f)"
      ],
      "metadata": {
        "id": "itb1a8ufcwwj"
      },
      "execution_count": null,
      "outputs": []
    },
    {
      "cell_type": "code",
      "source": [
        "def getBathymetry(grid_fName, topog_fName, undef=np.nan):\n",
        "\n",
        "  jdm,idm = getDims(grid_fName)\n",
        "\n",
        "  file = open_a_file(topog_fName, mode='rb')\n",
        "  #Data is in float32, which has 4 bytes/value\n",
        "  data = file.read(idm*jdm*4)\n",
        "  field = np.reshape(np.frombuffer(data,dtype='float32',count=idm*jdm).byteswap(),(jdm,idm))\n",
        "  file.close()\n",
        "\n",
        "  print(f\"field.shape={field.shape}\")\n",
        "  field[field>2**99] = undef\n",
        "\n",
        "  return field"
      ],
      "metadata": {
        "id": "OxhwGhhTgOb2"
      },
      "execution_count": null,
      "outputs": []
    },
    {
      "cell_type": "code",
      "source": [
        "bFile=get_b_filename(data_path+\"/regional.grid.a\")\n",
        "print(f\"Reading {bFile}\\n\")\n",
        "\n",
        "jm, im = getDims(data_path+\"/regional.grid.a\")\n",
        "print(f\"im={im}, jm={jm}\")\n",
        "\n",
        "jm, im = getDims(data_path+\"/depth_GLBb0.08_09m11.a\", topo_file=True)\n",
        "print(f\"im={im}, jm={jm}\")"
      ],
      "metadata": {
        "id": "i3azNte8NSj8"
      },
      "execution_count": null,
      "outputs": []
    },
    {
      "cell_type": "code",
      "source": [
        "fn1 = data_path+\"/regional.grid.a\"\n",
        "print(getFieldIndex('plat',fn1))\n",
        "print(\"\\n\")\n",
        "\n",
        "fn2 = data_path+\"/v2.4_rtofs_glo.t00z.n00.archs.a\"\n",
        "print(getFieldIndex('srfhgt',fn2))\n",
        "print(getFieldIndex('salin',fn2))"
      ],
      "metadata": {
        "id": "a7pCQkvcTgnB"
      },
      "execution_count": null,
      "outputs": []
    },
    {
      "cell_type": "code",
      "source": [
        "print(getNumberOfRecords(data_path+\"/regional.grid.a\"))\n",
        "print(\"\\n\")\n",
        "print(getNumberOfRecords(data_path+\"/depth_GLBb0.08_09m11.a\"))\n",
        "print(\"\\n\")\n",
        "print(getNumberOfRecords(data_path+\"/v2.4_rtofs_glo.t00z.n00.archs.a\"))"
      ],
      "metadata": {
        "id": "yOfDnmOkbVrd"
      },
      "execution_count": null,
      "outputs": []
    },
    {
      "cell_type": "code",
      "source": [
        "depth=getBathymetry(data_path+\"/regional.grid.a\", data_path+\"/depth_GLBb0.08_09m11.a\")"
      ],
      "metadata": {
        "id": "giGhn4X_dv4m"
      },
      "execution_count": null,
      "outputs": []
    },
    {
      "cell_type": "code",
      "source": [
        "plt.imshow(depth, origin='lower')\n",
        "plt.colorbar()"
      ],
      "metadata": {
        "id": "wJHR67UBqLVM"
      },
      "execution_count": null,
      "outputs": []
    },
    {
      "cell_type": "code",
      "source": [
        "plon = getField('plon', data_path+\"/regional.grid.a\")\n",
        "plat = getField('plat', data_path+\"/regional.grid.a\")\n",
        "\n",
        "# variables\n",
        "sst = getField('temp',   data_path+\"/v2.4_rtofs_glo.t00z.n00.archs.a\")\n",
        "sss = getField('salin',  data_path+\"/v2.4_rtofs_glo.t00z.n00.archs.a\")\n",
        "ssh = getField('srfhgt', data_path+\"/v2.4_rtofs_glo.t00z.n00.archs.a\")\n",
        "\n",
        "uvel = getField('u-vel', data_path+\"/v2.4_rtofs_glo.t00z.n00.archs.a\")\n",
        "vvel = getField('v-vel', data_path+\"/v2.4_rtofs_glo.t00z.n00.archs.a\")"
      ],
      "metadata": {
        "id": "Q5rbCnZbiDA4"
      },
      "execution_count": null,
      "outputs": []
    },
    {
      "cell_type": "code",
      "source": [
        "# SSH in m\n",
        "grav = 9.81\n",
        "ssh = ssh/grav #https://github.com/HYCOM/HYCOM-src/blob/5c9f48918374965e2df09042180ea8a69c650dc4/mod_cb_arrays.F90#L90"
      ],
      "metadata": {
        "id": "6rUlLdrCwxdr"
      },
      "execution_count": null,
      "outputs": []
    },
    {
      "cell_type": "code",
      "source": [
        "plt.figure(figsize=(10,10))\n",
        "\n",
        "plt.subplot(2,2,1)\n",
        "plt.imshow(sst, origin='lower'); plt.colorbar(shrink=0.4)\n",
        "\n",
        "plt.subplot(2,2,2)\n",
        "plt.imshow(sss, origin='lower'); plt.colorbar(shrink=0.4)\n",
        "\n",
        "plt.subplot(2,2,3)\n",
        "plt.imshow(ssh, origin='lower'); plt.colorbar(shrink=0.4)\n",
        "\n",
        "plt.subplot(2,2,4)\n",
        "plt.imshow( np.sqrt(uvel**2 + vvel**2), origin='lower'); plt.colorbar(shrink=0.4)"
      ],
      "metadata": {
        "id": "C3s_Dqjmj7T8"
      },
      "execution_count": null,
      "outputs": []
    },
    {
      "cell_type": "code",
      "source": [
        "!cat $data_path/v2.4_rtofs_glo.t00z.n00.archs.b"
      ],
      "metadata": {
        "id": "a1I70kpGtbYw"
      },
      "execution_count": null,
      "outputs": []
    },
    {
      "cell_type": "markdown",
      "source": [
        "## Create (xarray) dataset to simply life!"
      ],
      "metadata": {
        "id": "d1zqidSFlBPr"
      }
    },
    {
      "cell_type": "code",
      "source": [
        "# convert time stamp in archive to yyyy/mm/dd:hh:mm:ss\n",
        "# translation of https://github.com/HYCOM/HYCOM-tools/blob/master/bin/hycom_wind_ymdh.f\n",
        "\n",
        "def hycom_wind_ymdh(dtime, yrflag=3):\n",
        "\n",
        "  if yrflag !=3:\n",
        "    raise ValueError(\"yrflag must be 3\")\n",
        "\n",
        "  [iyear, month, iday, ihour] = fordate(dtime, yrflag)\n",
        "\n",
        "  return iyear, month, iday, ihour\n",
        "\n",
        "def fordate(dtime, yrflag=3):\n",
        "\n",
        "  if yrflag !=3:\n",
        "    raise ValueError(\"yrflag must be 3\")\n",
        "\n",
        "  month0=np.asarray([[1,  31,  61,  91, 121, 151, 181, 211, 241, 271, 301, 331, 361],\n",
        "               [1,  32,  60,  91, 121, 152, 182, 213, 244, 274, 305, 335, 366],\n",
        "               [1,  32,  61,  92, 122, 153, 183, 214, 245, 275, 306, 336, 367]])\n",
        "\n",
        "  [iyear, jday, ihour] = forday(dtime, yrflag)\n",
        "\n",
        "  if (np.mod(iyear,4) == 0):\n",
        "    k = 3  #leap year\n",
        "  else:\n",
        "    k = 2  #standard year\n",
        "\n",
        "  for m in range(0, 12):\n",
        "    #print(jday, month0[k-1, m], month0[k-1, m+1])\n",
        "    if ((jday >= month0[k-1, m]) and (jday < month0[k-1, m+1])):\n",
        "      month = m+1\n",
        "      iday  = jday - month0[k-1, m] + 1\n",
        "  #print(month, iday)\n",
        "\n",
        "  return iyear, month, iday, ihour\n",
        "\n",
        "def forday(dtime, yrflag=3): # yrflag is always set to 3.\n",
        "  \"\"\"\n",
        "  # Follow @awallcraft's logic to undo hycom_wind_date conversion\n",
        "  # https://github.com/HYCOM/HYCOM-tools/blob/3647ab0efbce59bcb2d8d6b3f66978b4a661b6b6/bin/hycom_wind_date.f#L54\n",
        "  \"\"\"\n",
        "\n",
        "  if yrflag !=3:\n",
        "    raise ValueError(\"yrflag must be 3\")\n",
        "\n",
        "  # model day is calendar days since 01/01/1901\n",
        "  iyr   = (dtime-1.)/365.25\n",
        "  nleap = iyr/4.\n",
        "  dtim1 = 365.0*iyr + nleap + 1.\n",
        "  day   = dtime - dtim1 + 1.\n",
        "  #print(iyr, nleap, dtim1, day)\n",
        "\n",
        "  if dtim1 > dtime:\n",
        "    iyr = iyr - 1\n",
        "  elif day >= 367.:\n",
        "    iyr = iyr + 1\n",
        "  elif ((day >= 366.0) and (np.mod(iyr,4) != 3)):\n",
        "    iyr = iyr + 1\n",
        "\n",
        "  nleap = iyr/4\n",
        "  dtim1 = 365.0*iyr + nleap + 1.\n",
        "  #print(iyr, nleap, dtim1)\n",
        "\n",
        "  iyear =  1901 + iyr\n",
        "  iday  =  dtime - dtim1 + 1\n",
        "  ihour = (dtime - dtim1 + 1.001 - iday)*24.\n",
        "  #print(iyear, iday, ihour)\n",
        "\n",
        "  return iyear, iday, ihour"
      ],
      "metadata": {
        "id": "OQS7xRvb3NYV"
      },
      "execution_count": null,
      "outputs": []
    },
    {
      "cell_type": "code",
      "source": [
        "dummy_date = '2099-01-01'\n",
        "\n",
        "#print(hycom_wind_ymdh(45370.000)) # 2025/03/20\n",
        "#print(hycom_wind_ymdh(45382.000)) # 2025/04/01"
      ],
      "metadata": {
        "id": "GbgBe-OI1w3c"
      },
      "execution_count": null,
      "outputs": []
    },
    {
      "cell_type": "code",
      "source": [
        "ds = xr.Dataset()\n",
        "\n",
        "ds['Latitude'] = xr.DataArray(plat,\n",
        "    dims=(\"Y\", \"X\"),\n",
        "    coords={\"Y\": np.arange(1, plat.shape[0]+1), \"X\": np.arange(1, plat.shape[1]+1)},\n",
        "    name=\"Latitude\",\n",
        "    attrs={\"units\": \"degrees_north\", \"long_name\": \"latitude\"})\n",
        "\n",
        "ds['Longitude'] = xr.DataArray(plon,\n",
        "    dims=(\"Y\", \"X\"),\n",
        "    coords={\"Y\": np.arange(1, plon.shape[0]+1), \"X\": np.arange(1, plon.shape[1]+1)},\n",
        "    name=\"Longitude\",\n",
        "    attrs={\"units\": \"degrees_east\", \"long_name\": \"longitude\", \"modulo\": \"360 degrees\"})\n",
        "\n",
        "ds['time'] = np.array([str(dummy_date)], dtype='datetime64')\n",
        "\n",
        "ds['srfhgt'] = xr.DataArray(ssh,\n",
        "    dims=(\"Y\", \"X\"),\n",
        "    coords={\"Y\": np.arange(1, ssh.shape[0]+1), \"X\": np.arange(1, ssh.shape[1]+1)},\n",
        "    name=\"srfhgt\",\n",
        "    attrs={\"units\": \"m\", \"long_name\": \"surface height\"})\n",
        "\n",
        "ds.attrs = {\"source\": \"NCEP RTOFS v2.5\",\n",
        "            \"history\": \"converted archive to netcdf\",\n",
        "            \"using\": \"https://github.com/NOAA-EMC/RTOFS_GLO\"}\n",
        "\n",
        "ds=ds.set_coords([\"Latitude\", \"Longitude\", \"time\"])"
      ],
      "metadata": {
        "id": "bnCcuV1WnW-H"
      },
      "execution_count": null,
      "outputs": []
    },
    {
      "cell_type": "code",
      "source": [
        "ds"
      ],
      "metadata": {
        "id": "ItZAvXA112gp"
      },
      "execution_count": null,
      "outputs": []
    },
    {
      "cell_type": "markdown",
      "source": [
        "## Plot few regions/projections:\n",
        "- N Pole (Arctic).\n",
        "- Globe.\n",
        "- S Pole (Antarctic)."
      ],
      "metadata": {
        "id": "TL_pnVXRy5Mw"
      }
    },
    {
      "cell_type": "code",
      "source": [
        "fig = plt.figure(figsize=[8,6])\n",
        "\n",
        "ax = fig.add_subplot(1,1,1, projection=ccrs.NorthPolarStereo(central_longitude=-30.0))\n",
        "ax.add_feature(cfeature.LAND, facecolor='grey', alpha=0.1)\n",
        "ax.coastlines(color='k', alpha=0.1)\n",
        "ax.set_extent([-300, 60, 50, 90], ccrs.PlateCarree())\n",
        "\n",
        "im = ds.srfhgt.plot(ax=ax, x='Longitude', y='Latitude',\n",
        "            vmin=-1, vmax=1, cmap='bwr',\n",
        "            transform=ccrs.PlateCarree(),\n",
        "            add_labels=False, add_colorbar=False)\n",
        "\n",
        "im.axes.gridlines(color='black', alpha=0.5, linestyle='--', draw_labels=True)\n",
        "\n",
        "cax = ax.inset_axes([0.8, 0.3, 0.03, 0.6])\n",
        "fig.colorbar(im, cax=cax, orientation='vertical', ticks=[-1, -0.75, -0.5, -0.25, 0, 0.25, 0.5, 0.75, 1.])\n",
        "cax.tick_params(labelsize=10, rotation=0)\n",
        "cax.set_title('{} [{}]'.format(ds.srfhgt.attrs['long_name'], ds.srfhgt.attrs['units']))\n",
        "#cax.set_title('{}/{}/{}'.format(ds.time.dt.year.values[0], ds.time.dt.month.values[0], ds.time.dt.day.values[0]))"
      ],
      "metadata": {
        "id": "gi7Bx6pIy36r"
      },
      "execution_count": null,
      "outputs": []
    },
    {
      "cell_type": "code",
      "source": [],
      "metadata": {
        "id": "OyUhofmu6FZx"
      },
      "execution_count": null,
      "outputs": []
    },
    {
      "cell_type": "code",
      "source": [
        "fig = plt.figure(figsize=[8,6])\n",
        "\n",
        "ax = fig.add_subplot(1,1,1, projection=ccrs.Miller(central_longitude=-180.0))\n",
        "ax.add_feature(cfeature.LAND, facecolor='grey', alpha=0.1)\n",
        "ax.coastlines(color='k', alpha=0.1)\n",
        "#ax.set_extent([-300, 60, -60, 60], ccrs.PlateCarree())\n",
        "\n",
        "im = ds.srfhgt.plot(ax=ax, x='Longitude', y='Latitude',\n",
        "            vmin=-1, vmax=1, cmap='bwr',\n",
        "            transform=ccrs.PlateCarree(),\n",
        "            add_labels=False, add_colorbar=False)\n",
        "\n",
        "im.axes.gridlines(color='black', alpha=0.5, linestyle='--', draw_labels=True)\n",
        "\n",
        "cax = ax.inset_axes([0.02, 0.05, 0.4, 0.03])\n",
        "fig.colorbar(im, cax=cax, orientation='horizontal', ticks=[-1, -0.75, -0.5, -0.25, 0, 0.25, 0.5, 0.75, 1.])\n",
        "cax.tick_params(labelsize=8, rotation=0)\n",
        "cax.set_title('{} [{}]'.format(ds.srfhgt.attrs['long_name'], ds.srfhgt.attrs['units']))\n",
        "#cax.set_title('{}/{}/{}'.format(ds.time.dt.year.values[0], ds.time.dt.month.values[0], ds.time.dt.day.values[0]))"
      ],
      "metadata": {
        "id": "dGUfEVrhzPra"
      },
      "execution_count": null,
      "outputs": []
    },
    {
      "cell_type": "code",
      "source": [
        "fig = plt.figure(figsize=[8,6])\n",
        "\n",
        "ax = fig.add_subplot(1,1,1, projection=ccrs.SouthPolarStereo(central_longitude=-120.0))\n",
        "ax.add_feature(cfeature.LAND, facecolor='grey', alpha=0.1)\n",
        "ax.coastlines(color='k', alpha=0.1)\n",
        "ax.set_extent([-300, 60, -40, -90], ccrs.PlateCarree())\n",
        "\n",
        "im = ds.srfhgt.plot(ax=ax, x='Longitude', y='Latitude',\n",
        "                  vmin=-1, vmax=1, cmap='bwr',\n",
        "                  transform=ccrs.PlateCarree(),\n",
        "                 add_labels=False, add_colorbar=False)\n",
        "\n",
        "im.axes.gridlines(color='black', alpha=0.5, linestyle='--', draw_labels=True)\n",
        "\n",
        "cax = ax.inset_axes([0.3, 0.45, 0.35, 0.03])\n",
        "fig.colorbar(im, cax=cax, orientation='horizontal', ticks=[-1, -0.75, -0.5, -0.25, 0, 0.25, 0.5, 0.75, 1.])\n",
        "cax.tick_params(labelsize=6, rotation=30)\n",
        "cax.set_title('{} [{}]'.format(ds.srfhgt.attrs['long_name'], ds.srfhgt.attrs['units']))\n",
        "##cax.set_title('{}/{}/{}'.format(ds.time.dt.year.values[0], ds.time.dt.month.values[0], ds.time.dt.day.values[0]))"
      ],
      "metadata": {
        "id": "uInk2scS0HUB"
      },
      "execution_count": null,
      "outputs": []
    },
    {
      "cell_type": "markdown",
      "source": [
        "## Read time stamp in archive [b] file"
      ],
      "metadata": {
        "id": "7yD8hiiY6Mdm"
      }
    },
    {
      "cell_type": "code",
      "source": [
        "def get_model_day(fName, varName):\n",
        "  bFile = getTextFile( get_b_filename(fName))\n",
        "  for line in bFile:\n",
        "    if varName in line:\n",
        "      model_day = line.split()[3]\n",
        "  print(model_day)"
      ],
      "metadata": {
        "id": "AUkVUY120dpL"
      },
      "execution_count": null,
      "outputs": []
    },
    {
      "cell_type": "code",
      "source": [
        "get_model_day(data_path+\"/v2.4_rtofs_glo.t00z.n00.archs.a\", 'srfhgt')"
      ],
      "metadata": {
        "id": "cCnSWh-_6hoR"
      },
      "execution_count": null,
      "outputs": []
    },
    {
      "cell_type": "code",
      "source": [],
      "metadata": {
        "id": "cFRg9QNy87RD"
      },
      "execution_count": null,
      "outputs": []
    }
  ]
}