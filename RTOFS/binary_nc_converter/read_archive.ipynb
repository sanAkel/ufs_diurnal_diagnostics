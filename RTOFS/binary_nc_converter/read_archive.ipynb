{
  "nbformat": 4,
  "nbformat_minor": 0,
  "metadata": {
    "colab": {
      "provenance": [],
      "authorship_tag": "ABX9TyMqJKEAMj2XlaLM7kj+Ga8D",
      "include_colab_link": true
    },
    "kernelspec": {
      "name": "python3",
      "display_name": "Python 3"
    },
    "language_info": {
      "name": "python"
    }
  },
  "cells": [
    {
      "cell_type": "markdown",
      "metadata": {
        "id": "view-in-github",
        "colab_type": "text"
      },
      "source": [
        "<a href=\"https://colab.research.google.com/github/sanAkel/ufs_diurnal_diagnostics/blob/main/RTOFS/binary_nc_converter/read_archive.ipynb\" target=\"_parent\"><img src=\"https://colab.research.google.com/assets/colab-badge.svg\" alt=\"Open In Colab\"/></a>"
      ]
    },
    {
      "cell_type": "code",
      "execution_count": null,
      "metadata": {
        "id": "Up4hA7bQLtnm"
      },
      "outputs": [],
      "source": [
        "import xarray as xr\n",
        "import numpy as np\n",
        "\n",
        "import matplotlib.pyplot as plt\n",
        "%matplotlib inline"
      ]
    },
    {
      "cell_type": "code",
      "source": [
        "# mount drive\n",
        "from google.colab import drive\n",
        "drive.mount('/content/drive')\n",
        "\n",
        "data_path=\"/content/drive/MyDrive/datasets/tmp/read_archive/\""
      ],
      "metadata": {
        "id": "4hyOy-NjLySc"
      },
      "execution_count": null,
      "outputs": []
    },
    {
      "cell_type": "code",
      "source": [
        "!ls -al $data_path"
      ],
      "metadata": {
        "id": "vh_Uyk6KNk4w"
      },
      "execution_count": null,
      "outputs": []
    },
    {
      "cell_type": "markdown",
      "source": [
        "### These functions are based on those at [pyhycom.](https://github.com/uwincm/pyhycom/blob/master/pyhycom.py)"
      ],
      "metadata": {
        "id": "YoCoqHarMiJY"
      }
    },
    {
      "cell_type": "code",
      "source": [
        "# return file handle\n",
        "def open_a_file(filename, mode):\n",
        "    file = open(filename[:-1]+'a',mode=mode)\n",
        "    return file\n",
        "\n",
        "#Return the name of the corresponding HYCOM \"b\" file.\n",
        "def get_b_filename(fName):\n",
        "    bfilename = fName[:-1]+'b'\n",
        "    return bfilename\n",
        "\n",
        "#Return a list where each element contains text from each line of `b file`\n",
        "def getTextFile(fName):\n",
        "    return [line.rstrip() for line in open(fName,'r').readlines()]"
      ],
      "metadata": {
        "id": "_BfZCXW6McFQ"
      },
      "execution_count": null,
      "outputs": []
    },
    {
      "cell_type": "code",
      "source": [
        "# get dimensions of an archive from .b file\n",
        "def getDims(fName, topo_file=False):\n",
        "\n",
        "  f = getTextFile(get_b_filename(fName))\n",
        "  idmFound, jdmFound = [False, False]\n",
        "\n",
        "  if topo_file:\n",
        "    for line in f:\n",
        "        if 'i/jdm' in line:\n",
        "          xx = line.split()[3]; jdm = xx[0:4]\n",
        "          idm = line.split()[2]\n",
        "          idmFound = True\n",
        "          jdmFound = True\n",
        "        if idmFound and jdmFound:break\n",
        "  else:\n",
        "    for line in f:\n",
        "        if 'idm' in line:\n",
        "          idm = line.split()[0]\n",
        "          idmFound = True\n",
        "        if 'jdm' in line:\n",
        "          jdm = line.split()[0]\n",
        "          jdmFound = True\n",
        "        if idmFound and jdmFound:break\n",
        "\n",
        "  return int(jdm), int(idm)"
      ],
      "metadata": {
        "id": "2jedyr2lP9X8"
      },
      "execution_count": null,
      "outputs": []
    },
    {
      "cell_type": "code",
      "source": [
        "def getFieldIndex(field, fName):\n",
        "    f = getTextFile(get_b_filename(fName))\n",
        "    if 'arch' in fName.split('/')[-1]:f = f[10:] # skip first 10 lines\n",
        "    if 'grid' in fName.split('/')[-1]:f = f[3:] # skip first 3 lines\n",
        "    fieldIndex = []\n",
        "    for line in f:\n",
        "      if field == line.split()[0].replace('.','').replace(':',''):\n",
        "        fieldIndex.append(f.index(line))\n",
        "    return fieldIndex"
      ],
      "metadata": {
        "id": "w4e9vmUbY2gk"
      },
      "execution_count": null,
      "outputs": []
    },
    {
      "cell_type": "code",
      "source": [
        "def getField(field, fName, undef=np.nan, x_range=None, y_range=None):\n",
        "\n",
        "  dims = getDims(fName)\n",
        "  if dims.__len__() == 2:\n",
        "    jdm, idm = dims\n",
        "  else:\n",
        "    jdm, idm, kdm = dims\n",
        "    print(\"\\n-- CAUTION! Read 3d archive is not yet ready!\\n\")\n",
        "\n",
        "  reclen = 4*idm*jdm # Record length in bytes\n",
        "  # HYCOM binary data is written out in chunks/\"words\" of multiples of 4096*4 bytes.\n",
        "  # Length of one level of one variable (reclen) will be between\n",
        "  # consecutive multiples of the wordlen. Data is padded to bring the volume\n",
        "  # up to the next multiple. The \"pad\" value below is equal to the bytes that are needed to do this.\n",
        "  wordlen = 4096*4\n",
        "  pad = wordlen * np.ceil(reclen / wordlen) - reclen   # Pad size in bytes\n",
        "  fieldRecords = getFieldIndex(field,fName)         # Get field record indices\n",
        "  fieldAddresses = np.array(fieldRecords)*(reclen+pad) # Address in bytes\n",
        "\n",
        "  file = open_a_file(fName,mode='rb') # Open file\n",
        "  if dims.__len__() == 2: # 2-d field\n",
        "    field = np.zeros((jdm,idm))\n",
        "    file.seek(int(fieldAddresses[0]),0) # Move to address of the field\n",
        "    data = file.read(idm*jdm*4)\n",
        "    field = np.reshape(np.frombuffer(data, dtype='float32', count=idm*jdm),(jdm,idm)).byteswap()\n",
        "\n",
        "    if not x_range is None:\n",
        "      field = field[:,:,x_range]\n",
        "    if not y_range is None:\n",
        "      field = field[:,y_range,:]\n",
        "\n",
        "  #field = field.byteswap() # Convert to little-endian\n",
        "  file.close()\n",
        "  field[field == np.float32(2**100)] = undef\n",
        "\n",
        "  return field"
      ],
      "metadata": {
        "id": "LHXp8F7kjZkO"
      },
      "execution_count": null,
      "outputs": []
    },
    {
      "cell_type": "code",
      "source": [
        "# Number of records in the binary file, read from .b\n",
        "def getNumberOfRecords(fName):\n",
        "  f = getTextFile(get_b_filename(fName))\n",
        "  if 'arch' in fName:\n",
        "      f = f[10:]; return len(f)\n",
        "  if 'grid' in fName:\n",
        "      f = f[3:]; return len(f)\n",
        "  if 'depth' in fName:\n",
        "      return 1\n",
        "  if 'restart' in fName:\n",
        "      f = f[2:]; return len(f)"
      ],
      "metadata": {
        "id": "itb1a8ufcwwj"
      },
      "execution_count": null,
      "outputs": []
    },
    {
      "cell_type": "code",
      "source": [
        "def getBathymetry(grid_fName, topog_fName, undef=np.nan):\n",
        "\n",
        "  jdm,idm = getDims(grid_fName)\n",
        "\n",
        "  file = open_a_file(topog_fName, mode='rb')\n",
        "  #Data is in float32, which has 4 bytes/value\n",
        "  data = file.read(idm*jdm*4)\n",
        "  field = np.reshape(np.frombuffer(data,dtype='float32',count=idm*jdm).byteswap(),(jdm,idm))\n",
        "  file.close()\n",
        "\n",
        "  print(f\"field.shape={field.shape}\")\n",
        "  field[field>2**99] = undef\n",
        "\n",
        "  return field"
      ],
      "metadata": {
        "id": "OxhwGhhTgOb2"
      },
      "execution_count": null,
      "outputs": []
    },
    {
      "cell_type": "code",
      "source": [
        "bFile=get_b_filename(data_path+\"/regional.grid.a\")\n",
        "print(f\"Reading {bFile}\\n\")\n",
        "\n",
        "jm, im = getDims(data_path+\"/regional.grid.a\")\n",
        "print(f\"im={im}, jm={jm}\")\n",
        "\n",
        "jm, im = getDims(data_path+\"/depth_GLBb0.08_09m11.a\", topo_file=True)\n",
        "print(f\"im={im}, jm={jm}\")"
      ],
      "metadata": {
        "id": "i3azNte8NSj8"
      },
      "execution_count": null,
      "outputs": []
    },
    {
      "cell_type": "code",
      "source": [
        "fn1 = data_path+\"/regional.grid.a\"\n",
        "print(getFieldIndex('plat',fn1))\n",
        "print(\"\\n\")\n",
        "\n",
        "fn2 = data_path+\"/v2.4_rtofs_glo.t00z.n00.archs.a\"\n",
        "print(getFieldIndex('srfhgt',fn2))\n",
        "print(getFieldIndex('salin',fn2))"
      ],
      "metadata": {
        "id": "a7pCQkvcTgnB"
      },
      "execution_count": null,
      "outputs": []
    },
    {
      "cell_type": "code",
      "source": [
        "print(getNumberOfRecords(data_path+\"/regional.grid.a\"))\n",
        "print(\"\\n\")\n",
        "print(getNumberOfRecords(data_path+\"/depth_GLBb0.08_09m11.a\"))\n",
        "print(\"\\n\")\n",
        "print(getNumberOfRecords(data_path+\"/v2.4_rtofs_glo.t00z.n00.archs.a\"))"
      ],
      "metadata": {
        "id": "yOfDnmOkbVrd"
      },
      "execution_count": null,
      "outputs": []
    },
    {
      "cell_type": "code",
      "source": [
        "depth=getBathymetry(data_path+\"/regional.grid.a\", data_path+\"/depth_GLBb0.08_09m11.a\")"
      ],
      "metadata": {
        "id": "giGhn4X_dv4m"
      },
      "execution_count": null,
      "outputs": []
    },
    {
      "cell_type": "code",
      "source": [
        "plt.imshow(depth, origin='lower')\n",
        "plt.colorbar()"
      ],
      "metadata": {
        "id": "wJHR67UBqLVM"
      },
      "execution_count": null,
      "outputs": []
    },
    {
      "cell_type": "code",
      "source": [
        "plon = getField('plon', data_path+\"/regional.grid.a\")\n",
        "plat = getField('plat', data_path+\"/regional.grid.a\")\n",
        "\n",
        "# variables\n",
        "sst = getField('temp',   data_path+\"/v2.4_rtofs_glo.t00z.n00.archs.a\")\n",
        "sss = getField('salin',  data_path+\"/v2.4_rtofs_glo.t00z.n00.archs.a\")\n",
        "ssh = getField('srfhgt', data_path+\"/v2.4_rtofs_glo.t00z.n00.archs.a\")\n",
        "\n",
        "uvel = getField('u-vel', data_path+\"/v2.4_rtofs_glo.t00z.n00.archs.a\")\n",
        "vvel = getField('v-vel', data_path+\"/v2.4_rtofs_glo.t00z.n00.archs.a\")"
      ],
      "metadata": {
        "id": "Q5rbCnZbiDA4"
      },
      "execution_count": null,
      "outputs": []
    },
    {
      "cell_type": "code",
      "source": [
        "plt.figure(figsize=(10,10))\n",
        "\n",
        "plt.subplot(2,2,1)\n",
        "plt.imshow(sst, origin='lower'); plt.colorbar(shrink=0.4)\n",
        "\n",
        "plt.subplot(2,2,2)\n",
        "plt.imshow(sss, origin='lower'); plt.colorbar(shrink=0.4)\n",
        "\n",
        "plt.subplot(2,2,3)\n",
        "plt.imshow(ssh, origin='lower'); plt.colorbar(shrink=0.4)\n",
        "\n",
        "plt.subplot(2,2,4)\n",
        "plt.imshow( np.sqrt(uvel**2 + vvel**2), origin='lower'); plt.colorbar(shrink=0.4)"
      ],
      "metadata": {
        "id": "C3s_Dqjmj7T8"
      },
      "execution_count": null,
      "outputs": []
    },
    {
      "cell_type": "code",
      "source": [
        "!cat $data_path/v2.4_rtofs_glo.t00z.n00.archs.b"
      ],
      "metadata": {
        "id": "a1I70kpGtbYw"
      },
      "execution_count": null,
      "outputs": []
    },
    {
      "cell_type": "code",
      "source": [],
      "metadata": {
        "id": "sn0pzpmitu6h"
      },
      "execution_count": null,
      "outputs": []
    }
  ]
}