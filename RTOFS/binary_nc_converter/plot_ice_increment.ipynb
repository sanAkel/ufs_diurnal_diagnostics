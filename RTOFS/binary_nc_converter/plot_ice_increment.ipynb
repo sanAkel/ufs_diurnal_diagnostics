{
  "nbformat": 4,
  "nbformat_minor": 0,
  "metadata": {
    "colab": {
      "provenance": [],
      "authorship_tag": "ABX9TyPzB24+TwRBafFaiPjffeHR",
      "include_colab_link": true
    },
    "kernelspec": {
      "name": "python3",
      "display_name": "Python 3"
    },
    "language_info": {
      "name": "python"
    }
  },
  "cells": [
    {
      "cell_type": "markdown",
      "metadata": {
        "id": "view-in-github",
        "colab_type": "text"
      },
      "source": [
        "<a href=\"https://colab.research.google.com/github/sanAkel/ufs_diurnal_diagnostics/blob/main/RTOFS%20/binary_nc_converter/plot_ice_increment.ipynb\" target=\"_parent\"><img src=\"https://colab.research.google.com/assets/colab-badge.svg\" alt=\"Open In Colab\"/></a>"
      ]
    },
    {
      "cell_type": "code",
      "source": [
        "!pip install cartopy"
      ],
      "metadata": {
        "collapsed": true,
        "id": "VXWJS5fONdUn"
      },
      "execution_count": null,
      "outputs": []
    },
    {
      "cell_type": "code",
      "execution_count": null,
      "metadata": {
        "id": "qryi44S4NY9c"
      },
      "outputs": [],
      "source": [
        "import xarray as xr\n",
        "import numpy as np\n",
        "\n",
        "import cartopy.crs as ccrs\n",
        "import cartopy.feature as cfeature\n",
        "\n",
        "import matplotlib.pyplot as plt"
      ]
    },
    {
      "cell_type": "code",
      "source": [
        "# mount drive\n",
        "from google.colab import drive\n",
        "drive.mount('/content/drive')\n",
        "\n",
        "dPath = '/content/drive/MyDrive/datasets/tmp/'"
      ],
      "metadata": {
        "id": "wbrYch_lOEl5"
      },
      "execution_count": null,
      "outputs": []
    },
    {
      "cell_type": "code",
      "source": [
        "fName = dPath + 'ice_cov.nc'\n",
        "ds = xr.open_dataset(fName)"
      ],
      "metadata": {
        "collapsed": true,
        "id": "2ePpnxvHOSdi"
      },
      "execution_count": null,
      "outputs": []
    },
    {
      "cell_type": "markdown",
      "source": [
        "## Arctic"
      ],
      "metadata": {
        "id": "oYVtLqQgPKix"
      }
    },
    {
      "cell_type": "code",
      "source": [
        "fig = plt.figure(figsize=[8,6])\n",
        "\n",
        "ax = fig.add_subplot(1,1,1, projection=ccrs.NorthPolarStereo(central_longitude=-30.0))\n",
        "ax.add_feature(cfeature.LAND, facecolor='grey', alpha=0.1)\n",
        "ax.coastlines()\n",
        "ax.set_extent([-300, 60, 50, 90], ccrs.PlateCarree())\n",
        "\n",
        "im = ds.ice_cov.plot(ax=ax, x='Longitude', y='Latitude',\n",
        "                  vmin=-1, vmax=1, cmap='bwr',\n",
        "                  transform=ccrs.PlateCarree(),\n",
        "                 add_labels=False, add_colorbar=False)\n",
        "\n",
        "im.axes.gridlines(color='black', alpha=0.5, linestyle='--', draw_labels=True)\n",
        "\n",
        "cax = ax.inset_axes([0.8, 0.3, 0.03, 0.6])\n",
        "fig.colorbar(im, cax=cax, orientation='vertical', ticks=[-1, -0.5, -0.25, 0, 0.25, 0.5, 1.])\n",
        "cax.tick_params(labelsize=10, rotation=0)\n",
        "#cax.set_ylabel('{} [{}]'.format(ds.ice_cov.attrs['standard_name'], ds.ice_cov.attrs['units']))\n",
        "cax.set_title('{}/{}/{}'.format(ds.time.dt.year.values[0], ds.time.dt.month.values[0], ds.time.dt.day.values[0]))"
      ],
      "metadata": {
        "id": "XOEYIxa1NsQO"
      },
      "execution_count": null,
      "outputs": []
    },
    {
      "cell_type": "markdown",
      "source": [
        "## Antarctic"
      ],
      "metadata": {
        "id": "PLwer8z6VwsO"
      }
    },
    {
      "cell_type": "code",
      "source": [
        "fig = plt.figure(figsize=[8,6])\n",
        "\n",
        "ax = fig.add_subplot(1,1,1, projection=ccrs.SouthPolarStereo(central_longitude=-120.0))\n",
        "ax.add_feature(cfeature.LAND, facecolor='grey', alpha=0.1)\n",
        "ax.coastlines()\n",
        "ax.set_extent([-300, 60, -40, -90], ccrs.PlateCarree())\n",
        "\n",
        "im = ds.ice_cov.plot(ax=ax, x='Longitude', y='Latitude',\n",
        "                  vmin=-1, vmax=1, cmap='bwr',\n",
        "                  transform=ccrs.PlateCarree(),\n",
        "                 add_labels=False, add_colorbar=False)\n",
        "\n",
        "im.axes.gridlines(color='black', alpha=0.5, linestyle='--', draw_labels=True)\n",
        "\n",
        "cax = ax.inset_axes([0.1, 0.1, 0.75, 0.03])\n",
        "fig.colorbar(im, cax=cax, orientation='horizontal', ticks=[-1, -0.5, -0.25, 0, 0.25, 0.5, 1.])\n",
        "cax.tick_params(labelsize=10, rotation=0)\n",
        "#cax.set_title('{} [{}]'.format(ds.ice_cov.attrs['standard_name'], ds.ice_cov.attrs['units']))\n",
        "cax.set_title('{}/{}/{}'.format(ds.time.dt.year.values[0], ds.time.dt.month.values[0], ds.time.dt.day.values[0]))"
      ],
      "metadata": {
        "id": "MZGyDaoDNvwu"
      },
      "execution_count": null,
      "outputs": []
    },
    {
      "cell_type": "code",
      "source": [],
      "metadata": {
        "id": "Mn9mYg_wVtCi"
      },
      "execution_count": null,
      "outputs": []
    }
  ]
}