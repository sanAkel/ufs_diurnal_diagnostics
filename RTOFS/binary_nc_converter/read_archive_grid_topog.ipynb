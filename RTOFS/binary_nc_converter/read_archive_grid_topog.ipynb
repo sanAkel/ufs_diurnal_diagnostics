{
  "nbformat": 4,
  "nbformat_minor": 0,
  "metadata": {
    "colab": {
      "provenance": [],
      "authorship_tag": "ABX9TyOCZvpsbARtbxqgKwys3Vx4",
      "include_colab_link": true
    },
    "kernelspec": {
      "name": "python3",
      "display_name": "Python 3"
    },
    "language_info": {
      "name": "python"
    }
  },
  "cells": [
    {
      "cell_type": "markdown",
      "metadata": {
        "id": "view-in-github",
        "colab_type": "text"
      },
      "source": [
        "<a href=\"https://colab.research.google.com/github/sanAkel/ufs_diurnal_diagnostics/blob/main/RTOFS/binary_nc_converter/read_archive_grid_topog.ipynb\" target=\"_parent\"><img src=\"https://colab.research.google.com/assets/colab-badge.svg\" alt=\"Open In Colab\"/></a>"
      ]
    },
    {
      "cell_type": "code",
      "source": [
        "import xarray as xr\n",
        "import numpy as np\n",
        "\n",
        "import matplotlib.pyplot as plt\n",
        "%matplotlib inline"
      ],
      "metadata": {
        "id": "oh37vkEB2SDb"
      },
      "execution_count": null,
      "outputs": []
    },
    {
      "cell_type": "code",
      "source": [
        "\"From https://github.com/DmitryDukhovskoy/RTOFS_utilities/blob/master-hera/MyPython/hycom_utils/mod_read_hycom.py\"\n",
        "def get_im_jm(grid_file):\n",
        "  fgb = open(grid_file + \".b\",'r')\n",
        "  fgb.seek(0)\n",
        "  # IM\n",
        "  data = fgb.readline().split()\n",
        "  IM = int(data[0])\n",
        "  #JM\n",
        "  data = fgb.readline().split()\n",
        "  JM = int(data[0])\n",
        "  print(f\"IM: {IM}, JM: {JM}\")\n",
        "  fgb.close()\n",
        "  return IM, JM"
      ],
      "metadata": {
        "id": "McC0mW-0D4NG"
      },
      "execution_count": null,
      "outputs": []
    },
    {
      "cell_type": "code",
      "source": [
        "\"\"\"\n",
        "f_lon: 180 - return [-180, 180]\n",
        "       360 - return [0, 360]\n",
        "      else - whatever is in grid file\n",
        "\"\"\"\n",
        "\n",
        "def get_lat_lon(grid_file, im, jm, f_lon=180):\n",
        "\n",
        "  ijdm = im*jm\n",
        "  npad =4096-(ijdm)%4096 # constant for GLBb0.08\n",
        "\n",
        "  # Read direct access binary file\n",
        "  fga = open(grid_file + '.a','rb')\n",
        "\n",
        "  # Longitude\n",
        "  fga.seek(0)\n",
        "  plon = np.fromfile(fga,dtype='>f',count=ijdm)\n",
        "\n",
        "  if f_lon == 180:\n",
        "    while any(plon > 180.):\n",
        "      plon = np.where(plon<=180.,plon,plon-360.)\n",
        "\n",
        "    while any(plon < -180.):\n",
        "      plon = np.where(plon >= -180., plon, plon+360.)\n",
        "\n",
        "  if f_lon == 360:\n",
        "    while any(plon < 0.):\n",
        "      plon = np.where(plon >= 0., plon, plon+360.)\n",
        "    while any(plon > 360.):\n",
        "      plon = np.where(plon <= 360., plon, plon-360.)\n",
        "\n",
        "  plon = plon.reshape((jm,im))\n",
        "\n",
        "  # Latitude\n",
        "  fga.seek(4*(npad+ijdm),0)\n",
        "  plat = np.fromfile(fga, dtype='>f',count=ijdm)\n",
        "  plat = plat.reshape((jm,im))\n",
        "\n",
        "  fga.close()\n",
        "\n",
        "  print(f\"plon: min, max={np.min(plon)}, {np.max(plon)}\")\n",
        "  print(f\"plat: min, max={np.min(plat)}, {np.max(plat)}\")\n",
        "\n",
        "  return plat, plon"
      ],
      "metadata": {
        "id": "lqfVeRzBKxNy"
      },
      "execution_count": null,
      "outputs": []
    },
    {
      "cell_type": "code",
      "source": [
        "def read_topo(topog_file, im, jm):\n",
        "\n",
        "  ijdm = im*jm\n",
        "  npad =4096-ijdm%4096 # constant for GLBb0.08\n",
        "\n",
        "  print(f\"Reading topography from: {topog_file}.a\")\n",
        "  print(f\"Grid dimensions: IM={im}, JM={jm}\")\n",
        "\n",
        "# Read bottom topography\n",
        "  fbt = open(topog_file+'.a','rb')\n",
        "  fbt.seek(0)\n",
        "  HH = np.fromfile(fbt, dtype='>f', count=ijdm) # Big endian float 32\n",
        "  HH = HH.reshape((jm, im))\n",
        "  fbt.close()\n",
        "\n",
        "  HH[HH>1.e5] = np.nan # _mask_ land\n",
        "\n",
        "  print(f\"Min/max Depth {np.nanmin(HH)},{np.nanmax(HH)}\")\n",
        "\n",
        "  return HH"
      ],
      "metadata": {
        "id": "92tVWKnpTXkL"
      },
      "execution_count": null,
      "outputs": []
    },
    {
      "cell_type": "markdown",
      "source": [
        "## Download datasets"
      ],
      "metadata": {
        "id": "zgvI9YadzEtG"
      }
    },
    {
      "cell_type": "code",
      "execution_count": null,
      "metadata": {
        "id": "4gq9m-JEwEJe"
      },
      "outputs": [],
      "source": [
        "# mount drive\n",
        "from google.colab import drive\n",
        "drive.mount('/content/drive')\n",
        "\n",
        "!mkdir -p /content/drive/MyDrive/datasets/tmp/read_archive/"
      ]
    },
    {
      "cell_type": "code",
      "source": [
        "url_base = \"https://data.hycom.org/datasets/GLBb0.08/expt_93.0/topo/\"\n",
        "\n",
        "fNames = [\"depth_GLBb0.08_09m11\", \"regional.grid\"]\n",
        "formats = [\".a\", \".b\", \".nc\"]\n",
        "\n",
        "for fName in fNames:\n",
        "  print(f\"Downloading {fName}\")\n",
        "  for fFormat in formats:\n",
        "    print(f\"{fFormat} file\")\n",
        "    !wget -O /content/drive/MyDrive/datasets/tmp/read_archive/{fName}{fFormat} {url_base}{fName}{fFormat}\n",
        "  print(\"\\n\")"
      ],
      "metadata": {
        "collapsed": true,
        "id": "HBvG3q1Ry9ip"
      },
      "execution_count": null,
      "outputs": []
    },
    {
      "cell_type": "markdown",
      "source": [
        "## Grid"
      ],
      "metadata": {
        "id": "ErtEMAqmS43D"
      }
    },
    {
      "cell_type": "code",
      "source": [
        "grid_file = \"/content/drive/MyDrive/datasets/tmp/read_archive/regional.grid\"\n",
        "print(grid_file)"
      ],
      "metadata": {
        "id": "iAqLp0Hf79lk"
      },
      "execution_count": null,
      "outputs": []
    },
    {
      "cell_type": "code",
      "source": [
        "# read netcdf\n",
        "ds=xr.open_dataset(\"regional_grid.nc\", decode_times=False)"
      ],
      "metadata": {
        "id": "0T9Y7EjCC-BM"
      },
      "execution_count": null,
      "outputs": []
    },
    {
      "cell_type": "code",
      "source": [
        "# read [a,b]\n",
        "im, jm = get_im_jm(grid_file)\n",
        "lat, lon = get_lat_lon(grid_file, im, jm, -99)"
      ],
      "metadata": {
        "id": "2JIOEQ7NDayn"
      },
      "execution_count": null,
      "outputs": []
    },
    {
      "cell_type": "markdown",
      "source": [
        "## Plot to verify both formats look alike\n",
        "- Latitude\n",
        "- Longitude"
      ],
      "metadata": {
        "id": "PwbpS543O385"
      }
    },
    {
      "cell_type": "code",
      "source": [
        "fig = plt.figure(figsize=(10,6))\n",
        "\n",
        "plt.subplot(1,2,1)\n",
        "plt.imshow(plat, origin='lower', cmap='bwr')\n",
        "plt.colorbar(shrink=0.4)\n",
        "plt.title(\"[ab] format\")\n",
        "\n",
        "plt.subplot(1,2,2)\n",
        "plt.imshow(ds.Latitude, origin='lower', cmap='bwr')\n",
        "plt.colorbar(shrink=0.4)\n",
        "plt.title(\"netcdf format\")"
      ],
      "metadata": {
        "id": "I5Ricrg7LVwU"
      },
      "execution_count": null,
      "outputs": []
    },
    {
      "cell_type": "code",
      "source": [
        "fig = plt.figure(figsize=(10,6))\n",
        "\n",
        "plt.subplot(1,2,1)\n",
        "plt.imshow(plon, origin='lower')\n",
        "plt.colorbar(shrink=0.4)\n",
        "plt.title(\"[ab] format\")\n",
        "\n",
        "plt.subplot(1,2,2)\n",
        "plt.imshow(ds.Longitude, origin='lower')\n",
        "plt.colorbar(shrink=0.4)\n",
        "plt.title(\"netcdf format\")"
      ],
      "metadata": {
        "id": "ZXIy6SubMVWg"
      },
      "execution_count": null,
      "outputs": []
    },
    {
      "cell_type": "markdown",
      "source": [
        "## Topography"
      ],
      "metadata": {
        "id": "Ffp3RhB6VXIV"
      }
    },
    {
      "cell_type": "code",
      "source": [
        "topog_file = \"/content/drive/MyDrive/datasets/tmp/read_archive/depth_GLBb0.08_09m11\"\n",
        "print(topog_file)"
      ],
      "metadata": {
        "id": "BEJnJXB0ViWs"
      },
      "execution_count": null,
      "outputs": []
    },
    {
      "cell_type": "code",
      "source": [
        "# archive format\n",
        "depth = read_topo(topog_file, im, jm)\n",
        "\n",
        "# netcdf format\n",
        "ds=xr.open_dataset(\"/content/drive/MyDrive/datasets/tmp/read_archive/\"+\"depth_GLBb0.08_09m11.nc\", decode_times=False)"
      ],
      "metadata": {
        "id": "5KkeCJxIRoUT"
      },
      "execution_count": null,
      "outputs": []
    },
    {
      "cell_type": "markdown",
      "source": [
        "## Plot to verify both formats look alike"
      ],
      "metadata": {
        "id": "5X_RqFJdWGDA"
      }
    },
    {
      "cell_type": "code",
      "source": [
        "fig = plt.figure(figsize=(10,6))\n",
        "\n",
        "plt.subplot(1,2,1)\n",
        "plt.imshow(depth, origin='lower')\n",
        "plt.colorbar(shrink=0.4)\n",
        "plt.title(\"[ab] format\")\n",
        "\n",
        "plt.subplot(1,2,2)\n",
        "plt.imshow(ds.depth.squeeze(), origin='lower')\n",
        "plt.colorbar(shrink=0.4)\n",
        "plt.title(\"netcdf format\")"
      ],
      "metadata": {
        "id": "t9E9nt93VcwA"
      },
      "execution_count": null,
      "outputs": []
    }
  ]
}