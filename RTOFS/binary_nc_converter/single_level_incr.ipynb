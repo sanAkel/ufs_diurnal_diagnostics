{
  "nbformat": 4,
  "nbformat_minor": 0,
  "metadata": {
    "colab": {
      "provenance": [],
      "authorship_tag": "ABX9TyNHKyPbmHDI+m5ZbDqLO/J0",
      "include_colab_link": true
    },
    "kernelspec": {
      "name": "python3",
      "display_name": "Python 3"
    },
    "language_info": {
      "name": "python"
    }
  },
  "cells": [
    {
      "cell_type": "markdown",
      "metadata": {
        "id": "view-in-github",
        "colab_type": "text"
      },
      "source": [
        "<a href=\"https://colab.research.google.com/github/sanAkel/ufs_diurnal_diagnostics/blob/main/RTOFS/binary_nc_converter/single_level_incr.ipynb\" target=\"_parent\"><img src=\"https://colab.research.google.com/assets/colab-badge.svg\" alt=\"Open In Colab\"/></a>"
      ]
    },
    {
      "cell_type": "markdown",
      "source": [
        "## To read (binary formatted) NCODA/RTOFS DA increment file and write it out to a netcdf formatted file.\n",
        "\n",
        "Inspired by [Dmitry Dukhovsky's increment file reader.](https://github.com/DmitryDukhovskoy/RTOFS_utilities/blob/master-hera/MyPython/ncoda_utils/mod_read_ncoda.py)"
      ],
      "metadata": {
        "id": "RmjY2pg8oTBJ"
      }
    },
    {
      "cell_type": "code",
      "source": [
        "import xarray as xr\n",
        "import numpy as np\n",
        "\n",
        "import matplotlib.pyplot as plt\n",
        "%matplotlib inline"
      ],
      "metadata": {
        "id": "3DAoIzeVtsHC"
      },
      "execution_count": null,
      "outputs": []
    },
    {
      "cell_type": "code",
      "source": [
        "def read_ncoda_increment_2d(data_path, fName):\n",
        "\n",
        "  vName =fName.split('_')[0]\n",
        "  im, jm = [int(fName.split('_')[2][2:6]), int(fName.split('_')[2][7:11])]\n",
        "  fDate = fName.split('_')[3]\n",
        "  fDate = fDate[0:4] + '-' + fDate[4:6] + '-' + fDate[6:8]# + ':' + fDate[8:10] # Always at 00 UTC\n",
        "  fTime = np.array([str(fDate)], dtype='datetime64')\n",
        "\n",
        "  print(f'\\nReading RTOFS DA {vName} increment on\\n{fTime} with [x,y] dim = {im,jm}.\\n')\n",
        "\n",
        "  f = open(data_path + fName, 'rb')\n",
        "  vals = []\n",
        "  f.seek(0)\n",
        "  dummy = np.fromfile(f, dtype='>f',count=jm*im) # read 2d file (1 layer)\n",
        "  #dummy = dummy.reshape((jm,im))\n",
        "  #vals = np.copy(dummy)\n",
        "  vals = dummy.reshape((jm,im))\n",
        "  f.close()\n",
        "\n",
        "  return vName, fTime, vals"
      ],
      "metadata": {
        "id": "LksWMo2hsDGn"
      },
      "execution_count": null,
      "outputs": []
    },
    {
      "cell_type": "code",
      "source": [
        "# mount drive\n",
        "from google.colab import drive\n",
        "drive.mount('/content/drive')\n",
        "\n",
        "dPath = '/content/drive/MyDrive/datasets/tmp/'"
      ],
      "metadata": {
        "id": "tCKVxpeDvUvA"
      },
      "execution_count": null,
      "outputs": []
    },
    {
      "cell_type": "markdown",
      "source": [
        "## Need:\n",
        "- Grid (Longitude, Latitude).\n",
        "- Bathymetry information.\n",
        "\n",
        "We'll use them to create land-sea mask"
      ],
      "metadata": {
        "id": "DWKIGFYXdFX1"
      }
    },
    {
      "cell_type": "markdown",
      "source": [
        "## Get them from hycom.org"
      ],
      "metadata": {
        "id": "A5W2eUEUm6xK"
      }
    },
    {
      "cell_type": "code",
      "source": [
        "!wget https://data.hycom.org/datasets/GLBb0.08/expt_93.0/topo/depth_GLBb0.08_09m11.nc"
      ],
      "metadata": {
        "id": "ciIRqExlyS87"
      },
      "execution_count": null,
      "outputs": []
    },
    {
      "cell_type": "code",
      "source": [
        "ds_topo = xr.open_dataset('depth_GLBb0.08_09m11.nc', decode_times=False)"
      ],
      "metadata": {
        "id": "6UowuB7ryYPf"
      },
      "execution_count": null,
      "outputs": []
    },
    {
      "cell_type": "code",
      "source": [
        "ds_topo"
      ],
      "metadata": {
        "id": "Obny3KtEC-Xs"
      },
      "execution_count": null,
      "outputs": []
    },
    {
      "cell_type": "markdown",
      "source": [
        "## Create a land-sea mask from bathymetry:\n",
        "- land: `0`.\n",
        "- sea: `1`."
      ],
      "metadata": {
        "id": "jlBnb9h_KyPC"
      }
    },
    {
      "cell_type": "code",
      "source": [
        "ls_mask = ds_topo.copy(deep=True)\n",
        "ls_mask['depth'] = xr.where(np.isnan(ls_mask.depth), 0, 1)\n",
        "ls_mask = ls_mask.rename({'depth':'mask'}) # rename"
      ],
      "metadata": {
        "id": "bthGa99_IaNw"
      },
      "execution_count": null,
      "outputs": []
    },
    {
      "cell_type": "code",
      "source": [
        "ls_mask"
      ],
      "metadata": {
        "id": "UsoLQ__TY1jV",
        "collapsed": true
      },
      "execution_count": null,
      "outputs": []
    },
    {
      "cell_type": "markdown",
      "source": [
        "## Visually verify to make sure we got what we wanted"
      ],
      "metadata": {
        "id": "ZwZmwhQBUpmA"
      }
    },
    {
      "cell_type": "code",
      "source": [
        "ls_mask.mask.plot(vmin=0, vmax=1, cmap='Set1_r')"
      ],
      "metadata": {
        "id": "bdFkDjgiMIzV"
      },
      "execution_count": null,
      "outputs": []
    },
    {
      "cell_type": "code",
      "source": [
        "# Read an increment file\n",
        "fName = 'icecov_sfc_1o4500x3298_2024123100_0000_analinc'\n",
        "vName, incDate, ice_cov = read_ncoda_increment_2d(dPath, fName)\n",
        "\n",
        "# This increment in ice coverage is in percentage (why??!!)\n",
        "ice_cov = ice_cov / 100 # convert it to [-1, 1]"
      ],
      "metadata": {
        "id": "BsTQBBpKdasF"
      },
      "execution_count": null,
      "outputs": []
    },
    {
      "cell_type": "markdown",
      "source": [
        "## Create a dataset with ice coverage (that was read in from binary file)"
      ],
      "metadata": {
        "id": "AzfY7aHPU0ea"
      }
    },
    {
      "cell_type": "code",
      "source": [
        "ds_ice_cov = xr.open_dataset('depth_GLBb0.08_09m11.nc', decode_times=False)\n",
        "ds_ice_cov['ice_cov'] = (('Y', 'X'), ice_cov)"
      ],
      "metadata": {
        "id": "IKeZfoeqEaOq"
      },
      "execution_count": null,
      "outputs": []
    },
    {
      "cell_type": "code",
      "source": [
        "# Make sure concentration over land = 0.\n",
        "# Land values will be made to nan anyway, so this is done only for sanity sake!\n",
        "ds_ice_cov['ice_cov'] = ds_ice_cov.ice_cov * ls_mask.mask.squeeze()"
      ],
      "metadata": {
        "id": "zf4DFOzFG3wD"
      },
      "execution_count": null,
      "outputs": []
    },
    {
      "cell_type": "code",
      "source": [
        "ds_ice_cov.ice_cov.plot(vmin=-1, vmax=1, cmap='Spectral_r')"
      ],
      "metadata": {
        "id": "Zkc16uouG5fn"
      },
      "execution_count": null,
      "outputs": []
    },
    {
      "cell_type": "markdown",
      "source": [
        "## Ice concentration:\n",
        "- Has values ranging from 0- 1 (as above).\n",
        "- We can't tell (visually) where land/sea is!\n",
        "\n",
        "Apply the land sea mask created above"
      ],
      "metadata": {
        "id": "cpFXMBYTdezf"
      }
    },
    {
      "cell_type": "code",
      "source": [
        "ds_ice_cov['ice_cov'] = ds_ice_cov.ice_cov.where(ls_mask.mask == 1, np.nan)"
      ],
      "metadata": {
        "id": "yenLE9X6TTew"
      },
      "execution_count": null,
      "outputs": []
    },
    {
      "cell_type": "code",
      "source": [
        "ds_ice_cov.ice_cov.plot(vmin=-1, vmax=1, cmap='Spectral_r')"
      ],
      "metadata": {
        "id": "ELxbq0khbrUH"
      },
      "execution_count": null,
      "outputs": []
    },
    {
      "cell_type": "markdown",
      "source": [
        "## Save the ice coverage to a netcdf file:\n",
        "- Only write ice coverage; drop bathymetry.\n",
        "- Fix attributes.\n"
      ],
      "metadata": {
        "id": "Q86w-RcoeEs5"
      }
    },
    {
      "cell_type": "code",
      "source": [
        "ds_ice_cov = ds_ice_cov.drop_vars(['depth', 'Date']) # drop bathymetry\n",
        "\n",
        "ds_ice_cov=ds_ice_cov.rename({'MT': 'time'}) # rename MT to time\n",
        "ds_ice_cov['time'] = incDate # add time value\n",
        "\n",
        "# fix attributes\n",
        "ds_ice_cov = ds_ice_cov.drop_attrs(deep=True)\n",
        "ds_ice_cov.ice_cov.attrs['units'] = '1'\n",
        "ds_ice_cov.ice_cov.attrs['standard_name'] = vName\n",
        "ds_ice_cov.ice_cov.attrs['description'] = 'Increment in sea ice concentration'\n",
        "ds_ice_cov.attrs['source'] = 'NCEP RTOFS v2.5'\n",
        "\n",
        "# save file\n",
        "ds_ice_cov.to_netcdf('ice_cov.nc')"
      ],
      "metadata": {
        "id": "kMZfvPAXbuCC"
      },
      "execution_count": null,
      "outputs": []
    },
    {
      "cell_type": "markdown",
      "source": [
        "## Read back in to verify"
      ],
      "metadata": {
        "id": "7SV2k57veuC7"
      }
    },
    {
      "cell_type": "code",
      "source": [
        "xx = xr.open_dataset('ice_cov.nc')\n",
        "xx"
      ],
      "metadata": {
        "id": "oUOfDg8jelfo"
      },
      "execution_count": null,
      "outputs": []
    },
    {
      "cell_type": "code",
      "source": [
        "xx.ice_cov.plot(vmin=-1, vmax=1, cmap='Spectral_r')"
      ],
      "metadata": {
        "id": "ZHUjGONieqWJ"
      },
      "execution_count": null,
      "outputs": []
    }
  ]
}