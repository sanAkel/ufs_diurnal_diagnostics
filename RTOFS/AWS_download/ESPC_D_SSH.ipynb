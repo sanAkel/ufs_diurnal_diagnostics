{
  "nbformat": 4,
  "nbformat_minor": 0,
  "metadata": {
    "colab": {
      "provenance": [],
      "authorship_tag": "ABX9TyNWV9ljilxnaxNskrzz+chK",
      "include_colab_link": true
    },
    "kernelspec": {
      "name": "python3",
      "display_name": "Python 3"
    },
    "language_info": {
      "name": "python"
    }
  },
  "cells": [
    {
      "cell_type": "markdown",
      "metadata": {
        "id": "view-in-github",
        "colab_type": "text"
      },
      "source": [
        "<a href=\"https://colab.research.google.com/github/sanAkel/ufs_diurnal_diagnostics/blob/main/RTOFS/AWS_download/ESPC_D_SSH.ipynb\" target=\"_parent\"><img src=\"https://colab.research.google.com/assets/colab-badge.svg\" alt=\"Open In Colab\"/></a>"
      ]
    },
    {
      "cell_type": "code",
      "source": [
        "!pip install cartopy"
      ],
      "metadata": {
        "collapsed": true,
        "id": "eozkn5shBSuZ"
      },
      "execution_count": null,
      "outputs": []
    },
    {
      "cell_type": "markdown",
      "source": [
        "## Download `SSH` [from ESPC-D](https://data.hycom.org/datasets/ESPC-D-V02/data/archive/2025/) and plot it."
      ],
      "metadata": {
        "id": "hh9wXCP32BVd"
      }
    },
    {
      "cell_type": "code",
      "source": [
        "import xarray as xr\n",
        "import numpy as np\n",
        "import pandas as pd\n",
        "import matplotlib.pyplot as plt\n",
        "\n",
        "import glob as glob\n",
        "from PIL import Image\n",
        "\n",
        "import cartopy.crs as ccrs\n",
        "import cartopy.feature as cfeature\n",
        "from cartopy.mpl.gridliner import LONGITUDE_FORMATTER, LATITUDE_FORMATTER\n",
        "\n",
        "%matplotlib inline"
      ],
      "metadata": {
        "id": "cECMMxGC2SEh"
      },
      "execution_count": null,
      "outputs": []
    },
    {
      "cell_type": "code",
      "source": [
        "def plot_region(plot_data, plot_date, vName='surf_el',\n",
        "                vMin=-0.3, vMax=0.8, cMap='gist_ncar'):\n",
        "\n",
        "  fig = plt.figure(figsize=(10, 12), dpi=180)\n",
        "  ax = fig.add_subplot(1,1,1,\n",
        "                       projection=ccrs.PlateCarree(central_longitude=-180.0))\n",
        "\n",
        "  ax.add_feature(cfeature.LAND, zorder=0,\n",
        "                 edgecolor='k', facecolor=(\"lightgray\"), alpha=0.7)\n",
        "  ax.coastlines(alpha=0.2)\n",
        "\n",
        "  gl = ax.gridlines(draw_labels=True)\n",
        "  gl.top_labels = False\n",
        "  gl.right_labels = False\n",
        "  gl.xformatter = LONGITUDE_FORMATTER\n",
        "  gl.yformatter = LATITUDE_FORMATTER\n",
        "  gl.xlabel_style = {'size': 6}\n",
        "  gl.ylabel_style = {'size': 6}\n",
        "\n",
        "  im= ax.pcolormesh(plot_data['lon'].values,\n",
        "                     plot_data['lat'].values,\n",
        "                     plot_data[vName].values.squeeze(),\n",
        "                     transform=ccrs.PlateCarree(),\n",
        "                     vmin=vMin, vmax=vMax, cmap=cMap)\n",
        "\n",
        "  cbar=plt.colorbar(im, ax=ax, pad=0.03, orientation='horizontal', shrink=0.85)\n",
        "\n",
        "  if vName == 'surf_el':\n",
        "    cbar.set_label(\"Sea Surface Height (m)\")\n",
        "\n",
        "  ax.set_title(\"{}\".format(plot_date))\n",
        "\n",
        "  figName= vName + '_' + plot_date + '.png'\n",
        "  plt.savefig(figName, bbox_inches='tight')\n",
        "  plt.close()"
      ],
      "metadata": {
        "id": "_pC3Hh_DB-hn"
      },
      "execution_count": null,
      "outputs": []
    },
    {
      "cell_type": "markdown",
      "source": [
        "## User inputs"
      ],
      "metadata": {
        "id": "LDfGMK6F2vkR"
      }
    },
    {
      "cell_type": "code",
      "source": [
        "url_base = \"https://data.hycom.org/datasets/ESPC-D-V02/data/archive/\"\n",
        "fPref = \"US058GCOM-OPSnce.espc-d-031-hycom_fcst_glby008_\"\n",
        "\n",
        "start_date, end_date = [\"20250320\", \"20250321\"]\n",
        "\n",
        "fld = \"ssh\" #options: Sssh (steric SSH)/ice/s3z/ssh/t3z/u3z/v3z\n",
        "vName = \"surf_el\" # name in file\n",
        "\n",
        "hSkip=3 # plot every hour\n",
        "hours = np.arange(0, 24, hSkip)\n",
        "\n",
        "# Plot region bounds\n",
        "lat_s, lat_e = [-50, 50]\n",
        "lon_s, lon_e = [100, 290]\n",
        "\n",
        "#US058GCOM-OPSnce.espc-d-031-hycom_fcst_glby008_202503 25 12_t0000_Sssh.nc\""
      ],
      "metadata": {
        "id": "MsrTbtgW2Wb0"
      },
      "execution_count": null,
      "outputs": []
    },
    {
      "cell_type": "code",
      "source": [
        "data_dates = pd.date_range(start=start_date, end=end_date)\n",
        "\n",
        "for dd in data_dates:\n",
        "  print(\"Downloading data for:\\t\", dd.strftime(\"%Y%m%d\"))\n",
        "  for hr in hours:\n",
        "    url = url_base+dd.strftime(\"%Y/\")+\\\n",
        "    fPref + dd.strftime(\"%Y%m%d\") +\"12\"+\\\n",
        "     \"_t\" + str(hr).zfill(4)+ \"_\"+ fld + \".nc\"\n",
        "    #print(url)\n",
        "    fName_save = fld+\"_\"+dd.strftime(\"%Y%m%d\")+\"_\"+str(hr).zfill(4)+\".nc\"\n",
        "\n",
        "    !wget $url -O $fName_save"
      ],
      "metadata": {
        "collapsed": true,
        "id": "VQ8XbOBe4w_A"
      },
      "execution_count": null,
      "outputs": []
    },
    {
      "cell_type": "code",
      "source": [
        "ds = xr.open_mfdataset(fld+'*.nc', decode_times=False)"
      ],
      "metadata": {
        "id": "kyf0OxS4AKYd"
      },
      "execution_count": null,
      "outputs": []
    },
    {
      "cell_type": "markdown",
      "source": [
        "## Plot SSH (`surf_el`) in the selected region"
      ],
      "metadata": {
        "id": "sqhNPSy8Bs_U"
      }
    },
    {
      "cell_type": "code",
      "source": [
        "print(f'Plotting data from:\\n')\n",
        "for iD, dd in enumerate(data_dates):\n",
        "  for hr in hours:\n",
        "    plot_date = dd.strftime(\"%Y%m%d\")+\"_\"+str(hr).zfill(4)\n",
        "    print(f\"{plot_date}\")\n",
        "\n",
        "    # cut region\n",
        "    plot_data = ds.isel(time=iD).\\\n",
        "    sel(lat=slice(lat_s, lat_e), lon=slice(lon_s, lon_e))\n",
        "\n",
        "    plot_region(plot_data, plot_date)"
      ],
      "metadata": {
        "id": "fTqMKOenAfnK"
      },
      "execution_count": null,
      "outputs": []
    },
    {
      "cell_type": "code",
      "source": [
        "!mkdir -p figs\n",
        "!mv *.png figs/"
      ],
      "metadata": {
        "id": "E6FpE2kqCTzp"
      },
      "execution_count": null,
      "outputs": []
    },
    {
      "cell_type": "markdown",
      "source": [
        "## Make a gif animation from png files"
      ],
      "metadata": {
        "id": "fWJn5BdcE__4"
      }
    },
    {
      "cell_type": "code",
      "source": [
        "png_files_path = 'figs/'\n",
        "png_files = sorted( glob.glob( png_files_path + '/' + '{}_*.png'.format(vName)))\n",
        "#print(fNames)\n",
        "\n",
        "DUR, LOOP = [150, 0] # Duration in milliseconds, infinite loop\n",
        "\n",
        "images = []\n",
        "for filename in png_files:\n",
        "  im = Image.open(filename)\n",
        "  images.append(im)\n",
        "\n",
        "# save as a gif\n",
        "fOut = 'espc-d_{}_'.format(vName) + start_date + '_' + end_date + '.gif'\n",
        "images[0].save(fOut,save_all=True,\n",
        "               append_images=images[0:],\n",
        "               optimize=False,\n",
        "               duration=DUR, # Duration in milliseconds\n",
        "               loop=LOOP) # infinite loop\n",
        "\n",
        "print('\\nSaved:\\t{}\\n'.format(fOut))"
      ],
      "metadata": {
        "id": "15IF2fG2D3Jk"
      },
      "execution_count": null,
      "outputs": []
    },
    {
      "cell_type": "code",
      "source": [],
      "metadata": {
        "id": "3FRPrWmDFwHL"
      },
      "execution_count": null,
      "outputs": []
    }
  ]
}