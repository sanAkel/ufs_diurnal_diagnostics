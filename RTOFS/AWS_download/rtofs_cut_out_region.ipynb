{
  "nbformat": 4,
  "nbformat_minor": 0,
  "metadata": {
    "colab": {
      "provenance": [],
      "authorship_tag": "ABX9TyPKEh0r9CCJpHOO49L+tmnR",
      "include_colab_link": true
    },
    "kernelspec": {
      "name": "python3",
      "display_name": "Python 3"
    },
    "language_info": {
      "name": "python"
    }
  },
  "cells": [
    {
      "cell_type": "markdown",
      "metadata": {
        "id": "view-in-github",
        "colab_type": "text"
      },
      "source": [
        "<a href=\"https://colab.research.google.com/github/sanAkel/ufs_diurnal_diagnostics/blob/main/RTOFS/AWS_download/rtofs_cut_out_region.ipynb\" target=\"_parent\"><img src=\"https://colab.research.google.com/assets/colab-badge.svg\" alt=\"Open In Colab\"/></a>"
      ]
    },
    {
      "cell_type": "code",
      "execution_count": null,
      "metadata": {
        "id": "vc1_y4VoyS2N"
      },
      "outputs": [],
      "source": [
        "import xarray as xr\n",
        "import numpy as np\n",
        "\n",
        "import matplotlib.pyplot as plt\n",
        "%matplotlib inline"
      ]
    },
    {
      "cell_type": "code",
      "source": [
        "def get_index(lat_array, lon_array, lat0, lon0):\n",
        "  # First, find the index of the grid point nearest a specific lat/lon.\n",
        "  abslat = np.abs(lat_array-lat0)\n",
        "  abslon = np.abs(lon_array-lon0)\n",
        "  c = np.maximum(abslon, abslat)\n",
        "\n",
        "  ([xloc], [yloc]) = np.where(c == np.min(c))\n",
        "\n",
        "  #point_ds = ds.sel(X=xloc, Y=yloc)\n",
        "  #print(xloc, yloc)\n",
        "  return [xloc, yloc]"
      ],
      "metadata": {
        "id": "uHo3pvmUzDp8"
      },
      "execution_count": null,
      "outputs": []
    },
    {
      "cell_type": "code",
      "source": [
        "# download a data file to test\n",
        "\n",
        "url=\"https://noaa-nws-rtofs-pds.s3.amazonaws.com/rtofs.20250301/rtofs_glo_2ds_n000_diag.nc\"\n",
        "\n",
        "fName_save=\"rtofs_glo_2ds_n_20250301_000_diag.nc\"\n",
        "\n",
        "print(url, fName_save)\n",
        "\n",
        "!wget $url -O $fName_save"
      ],
      "metadata": {
        "id": "gj9-waijzVnu"
      },
      "execution_count": null,
      "outputs": []
    },
    {
      "cell_type": "code",
      "source": [
        "ds = xr.open_dataset(fName_save)"
      ],
      "metadata": {
        "id": "15lrjNooz0SH"
      },
      "execution_count": null,
      "outputs": []
    },
    {
      "cell_type": "code",
      "source": [
        "# To cut out a region:\n",
        "# --------------------\n",
        "#\n",
        "#         x (P3) ---- x (P4)\n",
        "#         |           |\n",
        "#         x (P1) ---- x (P2)\n",
        "#\n",
        "#\n",
        "#P1\n",
        "[x1, y1] = get_index(ds.Latitude.values, ds.Longitude.values, -10, 100)\n",
        "#P2\n",
        "[x2, y2] = get_index(ds.Latitude.values, ds.Longitude.values, -10, 290)\n",
        "# x1 will be same as x2\n",
        "# ----------------------\n",
        "#P3\n",
        "[x3, y3] = get_index(ds.Latitude.values, ds.Longitude.values, 10, 100)\n",
        "#P4\n",
        "[x4, y4] = get_index(ds.Latitude.values, ds.Longitude.values, 10, 290)\n",
        "# x3 will be same as x4\n",
        "# ----------------------\n",
        "\n",
        "print(f'Lower left [lon, lat]= {ds.Longitude.values[x1, y1]}, {ds.Latitude.values[x2, y2]}')\n",
        "\n",
        "print(f'Upper right [lon, lat]: {ds.Longitude.values[x4, y4]}, {ds.Latitude.values[x4, y4]}')\n",
        "\n",
        "print(\"\\n--\\n\")\n",
        "print(x1, y1, x2, y2)\n",
        "print(\"\\n--\\n\")\n",
        "print(x3, y3, x4, y4)"
      ],
      "metadata": {
        "id": "EDnHMBdgz4NV"
      },
      "execution_count": null,
      "outputs": []
    },
    {
      "cell_type": "code",
      "source": [
        "ds.sel(X=slice(1, 4500), Y=slice(1000, 2000)).ssh.plot()\n",
        "\n",
        "plt.axvline(x=y1, color='k', ls='-')\n",
        "plt.axvline(x=y2, color='k', ls='--')\n",
        "\n",
        "plt.axhline(y=x1, color='b', ls='-')\n",
        "plt.axhline(y=x3, color='b', ls='--')"
      ],
      "metadata": {
        "id": "tD-7eMHC0GXl"
      },
      "execution_count": null,
      "outputs": []
    },
    {
      "cell_type": "markdown",
      "source": [
        "## Check to make sure the cut-out region is correct."
      ],
      "metadata": {
        "id": "K0Zxvi880brA"
      }
    },
    {
      "cell_type": "code",
      "source": [
        "ds.sel(X=slice(y1, y2), Y=slice(x1, x3)).ssh.plot()\n",
        "\n",
        "plt.plot(y1, x1, 'ko', ms=20)\n",
        "plt.plot(y2, x3, 'bs', ms=20)\n",
        "#\n",
        "plt.plot(y2, x1, 'go', ms=20)\n",
        "plt.plot(y1, x3, 'cs', ms=20)"
      ],
      "metadata": {
        "id": "7bIHrJt70OXy"
      },
      "execution_count": null,
      "outputs": []
    },
    {
      "cell_type": "code",
      "source": [],
      "metadata": {
        "id": "IZicrl8R0Y7T"
      },
      "execution_count": null,
      "outputs": []
    }
  ]
}