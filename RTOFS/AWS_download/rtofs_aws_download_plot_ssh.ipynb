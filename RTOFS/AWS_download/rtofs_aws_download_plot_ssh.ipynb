{
  "nbformat": 4,
  "nbformat_minor": 0,
  "metadata": {
    "colab": {
      "provenance": [],
      "authorship_tag": "ABX9TyOnm9MD7BamYVCX5EvKyMAR",
      "include_colab_link": true
    },
    "kernelspec": {
      "name": "python3",
      "display_name": "Python 3"
    },
    "language_info": {
      "name": "python"
    }
  },
  "cells": [
    {
      "cell_type": "markdown",
      "metadata": {
        "id": "view-in-github",
        "colab_type": "text"
      },
      "source": [
        "<a href=\"https://colab.research.google.com/github/sanAkel/ufs_diurnal_diagnostics/blob/main/RTOFS/AWS_download/rtofs_aws_download_plot_ssh.ipynb\" target=\"_parent\"><img src=\"https://colab.research.google.com/assets/colab-badge.svg\" alt=\"Open In Colab\"/></a>"
      ]
    },
    {
      "cell_type": "markdown",
      "source": [
        "## RTOFS nowcast (`n`) 2d files from [AWS s3](https://registry.opendata.aws/noaa-rtofs/)\n",
        "\n",
        "### Download from [this url.](https://noaa-nws-rtofs-pds.s3.amazonaws.com/index.html)"
      ],
      "metadata": {
        "id": "feOKTtAi7HZW"
      }
    },
    {
      "cell_type": "code",
      "source": [
        "!pip install cartopy"
      ],
      "metadata": {
        "collapsed": true,
        "id": "1ZXzNSKMRUe8"
      },
      "execution_count": null,
      "outputs": []
    },
    {
      "cell_type": "code",
      "source": [
        "import xarray as xr\n",
        "import numpy as np\n",
        "import pandas as pd\n",
        "\n",
        "import glob as glob\n",
        "from PIL import Image\n",
        "\n",
        "import matplotlib.pyplot as plt\n",
        "\n",
        "import cartopy.crs as ccrs\n",
        "import cartopy.feature as cfeature\n",
        "from cartopy.mpl.gridliner import LONGITUDE_FORMATTER, LATITUDE_FORMATTER\n",
        "\n",
        "#%matplotlib inline"
      ],
      "metadata": {
        "id": "hQSyQfHH7YJI"
      },
      "execution_count": null,
      "outputs": []
    },
    {
      "cell_type": "markdown",
      "source": [
        "## Cut-out region coordinates. See [this notebook if there are issues.](https://github.com/sanAkel/ufs_diurnal_diagnostics/blob/main/RTOFS/AWS_download/rtofs_cut_out_region.ipynb)"
      ],
      "metadata": {
        "id": "uiqzfzxx_uFu"
      }
    },
    {
      "cell_type": "code",
      "source": [
        "def get_index(lat_array, lon_array, lat0, lon0):\n",
        "  # First, find the index of the grid point nearest a specific lat/lon.\n",
        "  abslat = np.abs(lat_array-lat0)\n",
        "  abslon = np.abs(lon_array-lon0)\n",
        "  c = np.maximum(abslon, abslat)\n",
        "\n",
        "  ([xloc], [yloc]) = np.where(c == np.min(c))\n",
        "\n",
        "  #point_ds = ds.sel(X=xloc, Y=yloc)\n",
        "  #print(xloc, yloc)\n",
        "  return [xloc, yloc]\n",
        "\n",
        "def get_cutOut(ds, lon_s, lon_e, lat_s, lat_e):\n",
        "  # Lower left\n",
        "  [x1, y1] = get_index(ds.Latitude.values, ds.Longitude.values, lat_s, lon_s)\n",
        "  # Lower right\n",
        "  [x2, y2] = get_index(ds.Latitude.values, ds.Longitude.values, lat_s, lon_e)\n",
        "  # x1 will be same as x2\n",
        "  # ----------------------\n",
        "  # Upper left\n",
        "  [x3, y3] = get_index(ds.Latitude.values, ds.Longitude.values, lat_e, lon_s)\n",
        "  # Upper right\n",
        "  [x4, y4] = get_index(ds.Latitude.values, ds.Longitude.values, lat_e, lon_e)\n",
        "  # x3 will be same as x4\n",
        "\n",
        "  #ds_cutOut=ds.sel(X=slice(y1, y2), Y=slice(x1, x3))\n",
        "  return [y1, y2, x1, x3]"
      ],
      "metadata": {
        "id": "EfN8aCTpx-HB"
      },
      "execution_count": null,
      "outputs": []
    },
    {
      "cell_type": "code",
      "source": [
        "def plot_rtofs_ssh(ds, xMin, xMax, yMin, yMax,\n",
        "                   vName1='ssh',\n",
        "                   vName2='surf_curr'):\n",
        "  # form date string\n",
        "  yyyymmdd = ds.MT.values[0].astype(\"str\")\n",
        "  dStr = yyyymmdd.split('T')[0]+'T'+yyyymmdd.split('T')[1].split(':')[0]\n",
        "  print(dStr)\n",
        "\n",
        "  fig=plt.figure(figsize=(8, 6), dpi=180)\n",
        "  ax=fig.add_subplot(111)\n",
        "\n",
        "  im1=ds[vName].sel(X=slice(xMin, xMax), Y=slice(yMin, yMax)).plot(ax=ax, vmin=-.5, vmax=.5, cmap=\"gist_ncar\", add_colorbar=False)\n",
        "\n",
        "  im2=ds[vName].sel(X=slice(xMin, xMax), Y=slice(yMin, yMax)).squeeze().plot.contour(ax=ax, vmin=-.5, vmax=.5, cmap=\"gray\")\n",
        "\n",
        "  cbar=plt.colorbar(im1, ax=ax)\n",
        "  if vName == 'ssh':\n",
        "    cbar.set_label(\"Sea Surface Height (m)\")\n",
        "\n",
        "  ax.set_title(\"{}\".format(dStr))\n",
        "  ax.set_xlabel(\"\")\n",
        "  ax.set_ylabel(\"\")\n",
        "\n",
        "  figName= vName + '_' + dStr + '.png'\n",
        "  plt.savefig(figName)\n",
        "  plt.close()"
      ],
      "metadata": {
        "id": "WDdxb9MrIQHA"
      },
      "execution_count": null,
      "outputs": []
    },
    {
      "cell_type": "code",
      "source": [
        "def plot_region(plot_data, vName1='ssh', vName2='surf_curr',\n",
        "                vMin1=-0.3, vMax1=0.8, cMap1='gist_ncar',\n",
        "                vMin2=0., vMax2=1., cMap2='gray'):\n",
        "\n",
        "  fig = plt.figure(figsize=(10, 12), dpi=180)\n",
        "  ax = fig.add_subplot(1,1,1, projection=ccrs.PlateCarree(central_longitude=-180.0))\n",
        "\n",
        "\n",
        "  ax.add_feature(cfeature.LAND, zorder=0,\n",
        "                 edgecolor='k', facecolor=(\"lightgray\"), alpha=0.7)\n",
        "  ax.coastlines(alpha=0.2)\n",
        "\n",
        "  gl = ax.gridlines(draw_labels=True)\n",
        "  gl.top_labels = False\n",
        "  gl.right_labels = False\n",
        "  gl.xformatter = LONGITUDE_FORMATTER\n",
        "  gl.yformatter = LATITUDE_FORMATTER\n",
        "  gl.xlabel_style = {'size': 6}\n",
        "  gl.ylabel_style = {'size': 6}\n",
        "\n",
        "  im1= ax.pcolormesh(plot_data['Longitude'].values,\n",
        "                     plot_data['Latitude'].values,\n",
        "                     plot_data[vName1].values.squeeze(),\n",
        "                     transform=ccrs.PlateCarree(),\n",
        "                     vmin=vMin1, vmax=vMax1, cmap=cMap1)\n",
        "\n",
        "  im2= ax.contour(plot_data['Longitude'].values,\n",
        "                  plot_data['Latitude'].values,\n",
        "                  plot_data[vName2].values.squeeze(),\n",
        "                  transform=ccrs.PlateCarree(),\n",
        "                  vmin=vMin2, vmax=vMax2, cmap=cMap2, alpha=0.3)\n",
        "\n",
        "  cbar=plt.colorbar(im1, ax=ax, pad=0.03, orientation='horizontal', shrink=0.85)\n",
        "\n",
        "  if vName1 == 'ssh':\n",
        "    cbar.set_label(\"Sea Surface Height (m)\")\n",
        "\n",
        "  # form date string\n",
        "  yyyymmdd = ds.MT.values[0].astype(\"str\")\n",
        "  dStr = yyyymmdd.split('T')[0]+'HH'+yyyymmdd.split('T')[1].split(':')[0]\n",
        "  print(dStr)\n",
        "  ax.set_title(\"{}\".format(dStr))\n",
        "\n",
        "  figName= vName1 + '_' + vName2 + '_' + dStr + '.png'\n",
        "  plt.savefig(figName, bbox_inches='tight')\n",
        "  plt.close()"
      ],
      "metadata": {
        "id": "hl7DNv6ObZrZ"
      },
      "execution_count": null,
      "outputs": []
    },
    {
      "cell_type": "markdown",
      "source": [
        "## User inputs"
      ],
      "metadata": {
        "id": "cDgeJ_z8GG7D"
      }
    },
    {
      "cell_type": "code",
      "source": [
        "# file name and time-stamp -1 day lag\n",
        "start_date, end_date = [\"20250321\", \"20250331\"]\n",
        "\n",
        "hSkip=12 # plot every hour\n",
        "hours = np.arange(0, 25, hSkip)\n",
        "\n",
        "# Plot region bounds\n",
        "lat_s, lat_e = [-50, 50]\n",
        "lon_s, lon_e = [100, 290]"
      ],
      "metadata": {
        "id": "I8rb5xW0GJUL"
      },
      "execution_count": null,
      "outputs": []
    },
    {
      "cell_type": "markdown",
      "source": [
        "### Set fixed parameters"
      ],
      "metadata": {
        "id": "KVv16J-FJyIh"
      }
    },
    {
      "cell_type": "code",
      "source": [
        "data_dates = pd.date_range(start=start_date, end=end_date)\n",
        "url_base = \"https://noaa-nws-rtofs-pds.s3.amazonaws.com/rtofs.\"\n",
        "fPref = \"rtofs_glo_2ds_n\"\n",
        "fSuff = \"_diag.nc\""
      ],
      "metadata": {
        "id": "ELFo1Z9TF9iD"
      },
      "execution_count": null,
      "outputs": []
    },
    {
      "cell_type": "markdown",
      "source": [
        "## Download files, plot, save figure and delete downloaded file"
      ],
      "metadata": {
        "id": "tuKai488J1sP"
      }
    },
    {
      "cell_type": "code",
      "source": [
        "for dd in data_dates:\n",
        "      print(\"Downloading data for:\\t\", dd.strftime(\"%Y%m%d\"))\n",
        "      for hr in hours:\n",
        "        url = url_base + dd.strftime(\"%Y%m%d\") + \"/\" +\\\n",
        "        fPref + str(hr).zfill(3)+ fSuff\n",
        "        #fName = fPref + str(hr).zfill(3)+ fSuff\n",
        "        fName_save = fPref + dd.strftime(\"_%Y%m%d_\") + str(hr).zfill(3)+ fSuff\n",
        "        #print(url, fName_save)\n",
        "\n",
        "        !wget $url -O $fName_save\n",
        "        ds = xr.open_dataset(fName_save)\n",
        "\n",
        "        if (dd == data_dates[0] and hr== hours[0]):\n",
        "          # Get cut-out box limits\n",
        "          [y1, y2, x1, x3] = get_cutOut(ds, lon_s, lon_e, lat_s, lat_e)\n",
        "\n",
        "        plot_data=ds.sel(X=slice(y1, y2), Y=slice(x1, x3))\n",
        "        plot_data['surf_curr'] = np.sqrt(plot_data['u_barotropic_velocity']**2 + plot_data['v_barotropic_velocity']**2)\n",
        "\n",
        "        #plot_rtofs_ssh(ds, xMin, xMax, yMin, yMax)\n",
        "        plot_region(plot_data) # nicer plot than what above makes\n",
        "\n",
        "        !rm $fName_save"
      ],
      "metadata": {
        "id": "Lk5bB4qwGxvU"
      },
      "execution_count": null,
      "outputs": []
    },
    {
      "cell_type": "code",
      "source": [
        "!mkdir -p figs\n",
        "!mv *.png figs/"
      ],
      "metadata": {
        "id": "8YCfpUZDKCZL"
      },
      "execution_count": null,
      "outputs": []
    },
    {
      "cell_type": "markdown",
      "source": [
        "## Make a gif animation from png files"
      ],
      "metadata": {
        "id": "lG_bpRhKMcdZ"
      }
    },
    {
      "cell_type": "code",
      "source": [
        "png_files_path = 'figs/'\n",
        "png_files = sorted( glob.glob( png_files_path + '/' + 'ssh_*.png'))\n",
        "#print(fNames)\n",
        "\n",
        "DUR, LOOP = [150, 0] # Duration in milliseconds, infinite loop\n",
        "\n",
        "images = []\n",
        "for filename in png_files:\n",
        "  im = Image.open(filename)\n",
        "  images.append(im)\n",
        "\n",
        "# save as a gif\n",
        "fOut = 'rtofs_ssh_' + start_date + '_' + end_date + '.gif'\n",
        "images[0].save(fOut,save_all=True,\n",
        "               append_images=images[0:],\n",
        "               optimize=False,\n",
        "               duration=DUR, # Duration in milliseconds\n",
        "               loop=LOOP) # infinite loop\n",
        "\n",
        "print('\\nSaved:\\t{}\\n'.format(fOut))"
      ],
      "metadata": {
        "id": "AyrK1FjsMicn"
      },
      "execution_count": null,
      "outputs": []
    }
  ]
}