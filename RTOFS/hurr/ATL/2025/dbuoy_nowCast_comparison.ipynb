{
  "nbformat": 4,
  "nbformat_minor": 0,
  "metadata": {
    "colab": {
      "provenance": [],
      "mount_file_id": "1e5GzIO1in0cpZUSl2jUoEWYAAMJOjvj8",
      "authorship_tag": "ABX9TyOsokNltx7voNT6YxO8AeZm",
      "include_colab_link": true
    },
    "kernelspec": {
      "name": "python3",
      "display_name": "Python 3"
    },
    "language_info": {
      "name": "python"
    }
  },
  "cells": [
    {
      "cell_type": "markdown",
      "metadata": {
        "id": "view-in-github",
        "colab_type": "text"
      },
      "source": [
        "<a href=\"https://colab.research.google.com/github/sanAkel/ufs_diurnal_diagnostics/blob/main/RTOFS/hurr/ATL/2025/dbuoy_nowCast_comparison.ipynb\" target=\"_parent\"><img src=\"https://colab.research.google.com/assets/colab-badge.svg\" alt=\"Open In Colab\"/></a>"
      ]
    },
    {
      "cell_type": "code",
      "execution_count": null,
      "metadata": {
        "id": "RNeBvMo2S2md"
      },
      "outputs": [],
      "source": [
        "# Download surface in-situ data from NESDIS iQuam\n",
        "#\n",
        "!wget https://www.star.nesdis.noaa.gov/pub/socd/sst/iquam/v2.10/202510-STAR-L2i_GHRSST-SST-iQuam-V2.10-v01.0-fv00.0.nc"
      ]
    },
    {
      "cell_type": "code",
      "source": [
        "!pip install cartopy\n",
        "\n",
        "!pip install boto3\n",
        "!pip install botocore"
      ],
      "metadata": {
        "collapsed": true,
        "id": "qWqhsY2STNbz"
      },
      "execution_count": null,
      "outputs": []
    },
    {
      "cell_type": "code",
      "source": [
        "import boto3\n",
        "import botocore\n",
        "\n",
        "import glob as glob\n",
        "\n",
        "import pandas as pd\n",
        "import numpy as np\n",
        "import xarray as xr\n",
        "\n",
        "import matplotlib.pyplot as plt\n",
        "\n",
        "import cartopy.crs as ccrs\n",
        "import cartopy.feature as cfeature\n",
        "from cartopy.mpl.gridliner import LONGITUDE_FORMATTER, LATITUDE_FORMATTER\n",
        "import matplotlib.ticker as mticker"
      ],
      "metadata": {
        "id": "jOcIzaVQTQ_L"
      },
      "execution_count": null,
      "outputs": []
    },
    {
      "cell_type": "code",
      "source": [
        "obs_ids = {'ship': 1,\n",
        "          'buoy': 2,\n",
        "          'tMoor': 3,\n",
        "          'cMoor': 4,\n",
        "          'Argo': 5}\n",
        "\n",
        "# Note: Here we'll use buoy and coastal moorings only."
      ],
      "metadata": {
        "id": "5uiXgFDqTVoK"
      },
      "execution_count": null,
      "outputs": []
    },
    {
      "cell_type": "code",
      "source": [
        "def load_iquam_data(iquam_file_path, obs_ids, obsType):\n",
        "  \"\"\"\n",
        "  Loads iQuam data from a NetCDF file and subsets it based on:\n",
        "  - Observation type.\n",
        "\n",
        "  Args:\n",
        "    iquam_file_path: Path to the iQuam NetCDF file.\n",
        "    obs_ids: Dictionary mapping observation type names to their IDs.\n",
        "    obsType: String representing the desired observation type (e.g., 'buoy').\n",
        "\n",
        "  Returns:\n",
        "    A tuple containing the subsetted data arrays:\n",
        "    (oType_subset, year, month, day, hour, minute, pType, lat, lon, sst, qcFlag)\n",
        "  \"\"\"\n",
        "  ds = xr.open_dataset(iquam_file_path, decode_timedelta=False)\n",
        "\n",
        "  oType = ds.platform_type.values[:]\n",
        "  oType_subset = oType[oType == obs_ids[obsType]]\n",
        "\n",
        "  year = ds.year.values[:][oType == obs_ids[obsType]]\n",
        "  month = ds.month.values[:][oType == obs_ids[obsType]]\n",
        "  day = ds.day.values[:][oType == obs_ids[obsType]]\n",
        "  hour = ds.hour.values[:][oType == obs_ids[obsType]]\n",
        "  minute = ds.minute.values[:][oType == obs_ids[obsType]]\n",
        "\n",
        "  pId = ds.platform_id.values[:][oType == obs_ids[obsType]]\n",
        "\n",
        "  lat = ds.lat.values[:][oType == obs_ids[obsType]]\n",
        "  lon = ds.lon.values[:][oType == obs_ids[obsType]]\n",
        "  sst = ds.sst.values[:][oType == obs_ids[obsType]]\n",
        "  qcFlag = ds.quality_level.values[:][oType == obs_ids[obsType]]\n",
        "\n",
        "  #depth = None\n",
        "  #if obsType == 'Argo':\n",
        "  #depth = ds.depth.values[:][oType == obs_ids[obsType]]\n",
        "\n",
        "  return (oType_subset, year, month, day, hour, minute, pId, lat, lon, sst, qcFlag)"
      ],
      "metadata": {
        "id": "lQlV-IN6TY12"
      },
      "execution_count": null,
      "outputs": []
    },
    {
      "cell_type": "code",
      "source": [
        "def load_and_subset_iquam_data(obsType, oType, year, month, day, hour, minute, pId, lat, lon, sst, qcFlag, best_quality_value):\n",
        "\n",
        "  mask = qcFlag == best_quality_value\n",
        "\n",
        "  # Apply the mask to all data arrays\n",
        "  oType_filtered = oType[mask]\n",
        "  year_filtered = year[mask]\n",
        "  month_filtered = month[mask]\n",
        "  day_filtered = day[mask]\n",
        "  hour_filtered = hour[mask]\n",
        "  minute_filtered = minute[mask]\n",
        "  pId_filtered = pId[mask]\n",
        "  lat_filtered = lat[mask]\n",
        "  lon_filtered = lon[mask]\n",
        "  sst_filtered = sst[mask]\n",
        "  qcFlag_filtered = qcFlag[mask]\n",
        "\n",
        "  #if obsType == 'Argo':\n",
        "  #depth_filtered = depth[mask]\n",
        "\n",
        "  return (oType_filtered, year_filtered, month_filtered, day_filtered,\n",
        "          hour_filtered, minute_filtered, pId_filtered, lat_filtered,\n",
        "          lon_filtered, sst_filtered, qcFlag_filtered)"
      ],
      "metadata": {
        "id": "MD2c77M7Tc-I"
      },
      "execution_count": null,
      "outputs": []
    },
    {
      "cell_type": "code",
      "source": [
        "def filter_iquam_by_track_date(oType, year, month, day, hour, minute, pId, lat, lon, sst, qcFlag, track_year, track_mon, track_day):\n",
        "    \"\"\"\n",
        "    Filters iQuam data arrays based on the year, month, and day of the hurricane track.\n",
        "\n",
        "    Args:\n",
        "        oType, year, month, day, hour, minute, pType, lat, lon, sst, qcFlag: Data arrays.\n",
        "        track_year, track_mon, track_day: Integer values for the year, month, and day of the track.\n",
        "\n",
        "    Returns:\n",
        "        A tuple containing the filtered data arrays.\n",
        "    \"\"\"\n",
        "    mask = (year == track_year) & (month == track_mon) & (day == track_day)\n",
        "\n",
        "    oType_filtered = oType[mask]\n",
        "    year_filtered = year[mask]\n",
        "    month_filtered = month[mask]\n",
        "    day_filtered = day[mask]\n",
        "    hour_filtered = hour[mask]\n",
        "    minute_filtered = minute[mask]\n",
        "    pId_filtered = pId[mask]\n",
        "    lat_filtered = lat[mask]\n",
        "    lon_filtered = lon[mask]\n",
        "    sst_filtered = sst[mask]\n",
        "    qcFlag_filtered = qcFlag[mask]\n",
        "\n",
        "    return (oType_filtered, year_filtered, month_filtered, day_filtered,\n",
        "            hour_filtered, minute_filtered, pId_filtered, lat_filtered,\n",
        "            lon_filtered, sst_filtered, qcFlag_filtered)"
      ],
      "metadata": {
        "id": "BmjkbaTuVcHc"
      },
      "execution_count": null,
      "outputs": []
    },
    {
      "cell_type": "code",
      "source": [
        "# Create a boolean mask based on extent of the storm and return what's within that domain\n",
        "def filter_by_extent(lon_min, lon_max, lat_min, lat_max, oType, year, month, day, hour, minute, pId, lon, lat, sst, qcFlag):\n",
        "\n",
        "  mask = (lon > lon_min) & (lon < lon_max) & (lat > lat_min) & (lat < lat_max)\n",
        "\n",
        "  # Apply the above defined mask\n",
        "  filtered_oType = oType[mask]\n",
        "  filtered_year = year[mask]\n",
        "  filtered_month = month[mask]\n",
        "  filtered_day = day[mask]\n",
        "  filtered_hour = hour[mask]\n",
        "  filtered_minute = minute[mask]\n",
        "  filtered_pId = pId[mask]\n",
        "  filtered_lat = lat[mask]\n",
        "  filtered_lon = lon[mask]\n",
        "  filtered_sst = sst[mask]\n",
        "  filtered_qcFlag = qcFlag[mask]\n",
        "\n",
        "  return (filtered_oType, filtered_year, filtered_month, filtered_day,\n",
        "          filtered_hour, filtered_minute, filtered_pId, filtered_lat,\n",
        "          filtered_lon, filtered_sst, filtered_qcFlag)"
      ],
      "metadata": {
        "id": "Oh_DQl0tTgWl"
      },
      "execution_count": null,
      "outputs": []
    },
    {
      "cell_type": "code",
      "source": [
        "def download_s3_file(BUCKET_NAME, KEY, fname):\n",
        "    \"\"\"\n",
        "    Downloads a file from an AWS S3 bucket.\n",
        "\n",
        "    Args:\n",
        "        BUCKET_NAME (str): The name of the S3 bucket.\n",
        "        KEY (str): The key (prefix) of the object in the bucket.\n",
        "        fname (str): The filename of the object to download.\n",
        "\n",
        "    Returns:\n",
        "        str or None: The local filename if successful, None otherwise.\n",
        "    \"\"\"\n",
        "    KEY_WITH_FNAME = f'{KEY}{fname}' # Construct the full key with the filename\n",
        "\n",
        "    s3 = boto3.client('s3', config=botocore.config.Config(signature_version=botocore.UNSIGNED))\n",
        "\n",
        "    try:\n",
        "        s3.download_file(BUCKET_NAME, KEY_WITH_FNAME, fname) # Use the constructed key and fname for local filename\n",
        "        print(f\"Successfully downloaded {KEY_WITH_FNAME} to {fname}\")\n",
        "        return fname\n",
        "    except botocore.exceptions.ClientError as e:\n",
        "        if e.response['Error']['Code'] == \"404\":\n",
        "            print(f\"The object does not exist: {KEY_WITH_FNAME}\")\n",
        "        else:\n",
        "            print(f\"An error occurred: {e}\")\n",
        "        return None"
      ],
      "metadata": {
        "id": "Qcu2iW-xbWGZ"
      },
      "execution_count": null,
      "outputs": []
    },
    {
      "cell_type": "code",
      "source": [
        "def create_and_save_buoy_dataset(buoy_year, buoy_month, buoy_day, buoy_hour, buoy_minute, buoy_lat, buoy_lon, buoy_sst, pId, buoy_ID, save_data_path):\n",
        "    \"\"\"\n",
        "    Creates an xarray dataset from buoy data arrays and saves it to a NetCDF file.\n",
        "\n",
        "    Args:\n",
        "        buoy_year, buoy_month, buoy_day, buoy_hour, buoy_minute, buoy_lat, buoy_lon, buoy_sst: Data arrays for a specific buoy.\n",
        "        pId_masked: Platform ID values masked for the specific buoy.\n",
        "        buoy_ID: ID of the buoy.\n",
        "        save_data_path: Path to the directory where the dataset will be saved.\n",
        "\n",
        "    Returns:\n",
        "        An xarray Dataset containing the buoy data.\n",
        "    \"\"\"\n",
        "    # Create a time coordinate using np.datetime64\n",
        "    time_coords = [np.datetime64(f'{int(buoy_year[i]):04d}-{int(buoy_month[i]):02d}-{int(buoy_day[i]):02d}T{int(buoy_hour[i]):02d}:{int(buoy_minute[i]):02d}')\n",
        "                   for i in range(len(pId))]\n",
        "\n",
        "    ds_buoy = xr.Dataset(\n",
        "        {\n",
        "            \"sst\": ((\"time\"), buoy_sst),\n",
        "            \"lat\": ((\"time\"), buoy_lat),\n",
        "            \"lon\": ((\"time\"), buoy_lon),\n",
        "            \"year\": ((\"time\"), buoy_year),\n",
        "            \"month\": ((\"time\"), buoy_month),\n",
        "            \"day\": ((\"time\"), buoy_day),\n",
        "            \"hour\": ((\"time\"), buoy_hour),\n",
        "            \"minute\": ((\"time\"), buoy_minute),\n",
        "            \"pId\": ((\"time\"), pId),\n",
        "        },\n",
        "        coords={\"time\": time_coords},\n",
        "    )\n",
        "\n",
        "    fName_save = save_data_path + f'buoy_{buoy_ID}.nc'\n",
        "    ds_buoy.to_netcdf(fName_save)\n",
        "    print(f'Saved to: {fName_save}')\n",
        "\n",
        "    return ds_buoy"
      ],
      "metadata": {
        "id": "2Rt4FhlKVfCt"
      },
      "execution_count": null,
      "outputs": []
    },
    {
      "cell_type": "markdown",
      "source": [
        "# Inputs"
      ],
      "metadata": {
        "id": "F5MjDUhZ90gw"
      }
    },
    {
      "cell_type": "code",
      "source": [
        "# Surface observations from iQuam\n",
        "iquam_file = sorted(glob.glob(\"*.nc\"))\n",
        "\n",
        "obsType = 'buoy' # 'buoy' 'cMoor'\n",
        "use_best_quality = True # Use certain quality of obs?\n",
        "best_quality_value = 5 # Threshold for quality flag\n",
        "\n",
        "target_year, target_month = [2025, 10]\n",
        "\n",
        "lon_roi = [-90, -60.0]\n",
        "lat_roi = [10, 25]\n",
        "day_start, day_end = [21, 27]\n",
        "\n",
        "# Zoom-region\n",
        "lon_zoom_in = [-75, -67.5]\n",
        "lat_zoom_in = [16, 20]\n",
        "\n",
        "save_data_path = '/content/drive/MyDrive/RTOFS/publications/Melissa2025_nATL/saved_data/'"
      ],
      "metadata": {
        "id": "sGN40Eb8TmmP"
      },
      "execution_count": null,
      "outputs": []
    },
    {
      "cell_type": "code",
      "source": [
        "# RTOFS from S3 bucket\n",
        "\n",
        "BUCKET_NAME = 'noaa-nws-rtofs-pds'\n",
        "KEY = 'rtofs.20251026/'\n",
        "fname = 'rtofs_glo_3dz_n024_6hrly_hvr_US_east.nc'\n",
        "rtofs_dStr = '2025-10-26T00'\n",
        "\n",
        "download_s3_file(BUCKET_NAME, KEY, fname)\n",
        "ds = xr.open_dataset(fname)"
      ],
      "metadata": {
        "id": "j9AQCCewbBtJ"
      },
      "execution_count": null,
      "outputs": []
    },
    {
      "cell_type": "code",
      "source": [
        "# Create a figure and axes with a PlateCarree projection\n",
        "fig = plt.figure(figsize=(10, 6))\n",
        "ax = fig.add_subplot(1, 1, 1, projection=ccrs.PlateCarree())\n",
        "\n",
        "im1=ds.temperature.isel(Depth=0).plot(x=\"Longitude\", y=\"Latitude\", transform=ccrs.PlateCarree(), vmin=28, vmax=34., cmap=\"bone_r\",\n",
        "cbar_kwargs={'shrink': 0.75})\n",
        "\n",
        "for target_day in range(day_start, day_end):\n",
        "  # observations of selected type and selected quality\n",
        "  oType, year, month, day, hour, minute, pId, lat, lon, sst, qcFlag =\\\n",
        "  load_iquam_data(iquam_file[0], obs_ids, obsType)\n",
        "\n",
        "  if use_best_quality:\n",
        "    oType, year, month, day, hour, minute, pId, lat, lon, sst, qcFlag =\\\n",
        "    load_and_subset_iquam_data(obsType, oType, year, month, day, hour, minute, pId, lat, lon, sst, qcFlag, best_quality_value)\n",
        "\n",
        "  oType, year, month, day, hour, minute, pId, lat, lon, sst, qcFlag = filter_iquam_by_track_date(oType, year, month, day, hour, minute, pId, lat, lon, sst, qcFlag, target_year, target_month, target_day)\n",
        "\n",
        "  im2=ax.scatter(lon, lat, transform=ccrs.PlateCarree(), s=16,\\\n",
        "                label=f'{target_year}/{target_month}/{target_day}')\n",
        "\n",
        "ax.legend(loc=2, ncol=2)\n",
        "\n",
        "# Add coastlines and land features\n",
        "ax.coastlines(color='black', linewidth=1)\n",
        "ax.add_feature(cfeature.LAND, edgecolor='black', alpha=0.75)\n",
        "\n",
        "# Add gridlines\n",
        "gl = ax.gridlines(draw_labels=True, zorder=0)\n",
        "gl.top_labels = False\n",
        "gl.right_labels = False\n",
        "gl.xformatter = LONGITUDE_FORMATTER\n",
        "gl.yformatter = LATITUDE_FORMATTER\n",
        "gl.xlabel_style = {'size': 10}\n",
        "gl.ylabel_style = {'size': 10}\n",
        "\n",
        "ax.set_extent([lon_roi[0], lon_roi[1], lat_roi[0], lat_roi[1]])\n",
        "\n",
        "ax.set_title(f'RTOFS SST valid for: {rtofs_dStr}')"
      ],
      "metadata": {
        "id": "5gkxN_xsWQUN"
      },
      "execution_count": null,
      "outputs": []
    },
    {
      "cell_type": "markdown",
      "source": [
        "# Same as above but with Salinity"
      ],
      "metadata": {
        "id": "Nrvn4sHQfHOA"
      }
    },
    {
      "cell_type": "code",
      "source": [
        "# Create a figure and axes with a PlateCarree projection\n",
        "fig = plt.figure(figsize=(10, 6))\n",
        "ax = fig.add_subplot(1, 1, 1, projection=ccrs.PlateCarree())\n",
        "\n",
        "im1=ds.salinity.isel(Depth=0).plot(x=\"Longitude\", y=\"Latitude\", transform=ccrs.PlateCarree(), vmin=34, vmax=38., cmap=\"bone_r\",\n",
        "cbar_kwargs={'shrink': 0.75})\n",
        "\n",
        "for target_day in range(day_start, day_end):\n",
        "  # observations of selected type and selected quality\n",
        "  oType, year, month, day, hour, minute, pId, lat, lon, sst, qcFlag =\\\n",
        "  load_iquam_data(iquam_file[0], obs_ids, obsType)\n",
        "\n",
        "  if use_best_quality:\n",
        "    oType, year, month, day, hour, minute, pId, lat, lon, sst, qcFlag =\\\n",
        "    load_and_subset_iquam_data(obsType, oType, year, month, day, hour, minute, pId, lat, lon, sst, qcFlag, best_quality_value)\n",
        "\n",
        "  oType, year, month, day, hour, minute, pId, lat, lon, sst, qcFlag = filter_iquam_by_track_date(oType, year, month, day, hour, minute, pId, lat, lon, sst, qcFlag, target_year, target_month, target_day)\n",
        "\n",
        "  im2=ax.scatter(lon, lat, transform=ccrs.PlateCarree(), s=16,\\\n",
        "                label=f'{target_year}/{target_month}/{target_day}')\n",
        "\n",
        "ax.legend(loc=2, ncol=2)\n",
        "\n",
        "# Add coastlines and land features\n",
        "ax.coastlines(color='black', linewidth=1)\n",
        "ax.add_feature(cfeature.LAND, edgecolor='black', alpha=0.75)\n",
        "\n",
        "# Add gridlines\n",
        "gl = ax.gridlines(draw_labels=True, zorder=0)\n",
        "gl.top_labels = False\n",
        "gl.right_labels = False\n",
        "gl.xformatter = LONGITUDE_FORMATTER\n",
        "gl.yformatter = LATITUDE_FORMATTER\n",
        "gl.xlabel_style = {'size': 10}\n",
        "gl.ylabel_style = {'size': 10}\n",
        "\n",
        "ax.set_extent([lon_roi[0], lon_roi[1], lat_roi[0], lat_roi[1]])\n",
        "\n",
        "ax.set_title(f'RTOFS SSS valid for: {rtofs_dStr}')"
      ],
      "metadata": {
        "id": "i7vTb_NIfD_B"
      },
      "execution_count": null,
      "outputs": []
    },
    {
      "cell_type": "markdown",
      "source": [
        "## Zoom-in to see how close is RTOFS analysis SST to that from observations- a particular location/buoy"
      ],
      "metadata": {
        "id": "CUDcfdAfg0Wl"
      }
    },
    {
      "cell_type": "code",
      "source": [
        "cMin, cMax, cMap = [27, 31, \"gist_ncar\"]\n",
        "\n",
        "# Create a figure and axes with a PlateCarree projection\n",
        "fig = plt.figure(figsize=(10, 6))\n",
        "ax = fig.add_subplot(1, 1, 1, projection=ccrs.PlateCarree())\n",
        "\n",
        "im1=ds.temperature.isel(Depth=0).plot(x=\"Longitude\", y=\"Latitude\", transform=ccrs.PlateCarree(), vmin=cMin, vmax=cMax, cmap=cMap,\n",
        "cbar_kwargs={'shrink': 0.75})\n",
        "\n",
        "for target_day in range(day_start, day_end):\n",
        "  # observations of selected type and selected quality\n",
        "  oType, year, month, day, hour, minute, pId, lat, lon, sst, qcFlag =\\\n",
        "  load_iquam_data(iquam_file[0], obs_ids, obsType)\n",
        "\n",
        "  if use_best_quality:\n",
        "    oType, year, month, day, hour, minute, pId, lat, lon, sst, qcFlag =\\\n",
        "    load_and_subset_iquam_data(obsType, oType, year, month, day, hour, minute, pId, lat, lon, sst, qcFlag, best_quality_value)\n",
        "\n",
        "  oType, year, month, day, hour, minute, pId, lat, lon, sst, qcFlag = filter_iquam_by_track_date(oType, year, month, day, hour, minute, pId, lat, lon, sst, qcFlag, target_year, target_month, target_day)\n",
        "\n",
        "  # target region\n",
        "  #oType, year, month, day,hour, minute, pId, lat, lon, sst, qcFlag = filter_by_extent(lon_zoom_in[0], lon_zoom_in[1], lat_zoom_in[0], lat_zoom_in[1], oType, year, month, day, hour, minute, pId, lon, lat, sst, qcFlag)\n",
        "\n",
        "  # target region - NW of Jamaica\n",
        "  oType, year, month, day,hour, minute, pId, lat, lon, sst, qcFlag = filter_by_extent(-70, -65, 20., 24., oType, year, month, day, hour, minute, pId, lon, lat, sst, qcFlag)\n",
        "\n",
        "  if target_day == day_start:\n",
        "    found_buoy_ids = np.unique(pId)\n",
        "    print(f'Found data from ID: {found_buoy_ids}')\n",
        "    #buoy_ID = pId[0]\n",
        "\n",
        "  im2=ax.scatter(lon, lat, transform=ccrs.PlateCarree(), c=sst-273.15, s=20,\\\n",
        "                 vmin=cMin, vmax=cMax, cmap=cMap,\\\n",
        "                 marker='s', edgecolor='none')\n",
        "\n",
        "#ax.legend(loc=2, ncol=2)\n",
        "\n",
        "# Add coastlines and land features\n",
        "ax.coastlines(color='black', linewidth=1)\n",
        "ax.add_feature(cfeature.LAND, edgecolor='black', alpha=0.75)\n",
        "\n",
        "# Add gridlines\n",
        "gl = ax.gridlines(draw_labels=True, zorder=0)\n",
        "gl.top_labels = False\n",
        "gl.right_labels = False\n",
        "gl.xformatter = LONGITUDE_FORMATTER\n",
        "gl.yformatter = LATITUDE_FORMATTER\n",
        "gl.xlabel_style = {'size': 10}\n",
        "gl.ylabel_style = {'size': 10}\n",
        "\n",
        "ax.set_title(f'RTOFS SST valid for: {rtofs_dStr}')\n",
        "\n",
        "#ax.set_extent([lon_zoom_in[0], lon_zoom_in[1], lat_zoom_in[0], lat_zoom_in[1]])\n",
        "#ax.text(-69.5, 16.75,f\"Drifting Buoy\\nID: {buoy_ID}\", transform=ccrs.PlateCarree(), fontsize=16)\n",
        "\n",
        "ax.set_extent([-75, -65, 16., 24.])\n",
        "ax.text(-69, 23,f\"Drifting Buoy\\nID:\\n {found_buoy_ids}\", transform=ccrs.PlateCarree(), fontsize=16)"
      ],
      "metadata": {
        "id": "JHhZzhSDcwcg"
      },
      "execution_count": null,
      "outputs": []
    },
    {
      "cell_type": "code",
      "source": [
        "for target_day in range(day_start, day_end):\n",
        "  # observations of selected type and selected quality\n",
        "  oType, year, month, day, hour, minute, pId, lat, lon, sst, qcFlag =\\\n",
        "  load_iquam_data(iquam_file[0], obs_ids, obsType)\n",
        "\n",
        "  if use_best_quality:\n",
        "    oType, year, month, day, hour, minute, pId, lat, lon, sst, qcFlag =\\\n",
        "    load_and_subset_iquam_data(obsType, oType, year, month, day, hour, minute, pId, lat, lon, sst, qcFlag, best_quality_value)\n",
        "\n",
        "  oType, year, month, day, hour, minute, pId, lat, lon, sst, qcFlag = filter_iquam_by_track_date(oType, year, month, day, hour, minute, pId, lat, lon, sst, qcFlag, target_year, target_month, target_day)\n",
        "\n",
        "  # target region\n",
        "  #oType, year, month, day,hour, minute, pId, lat, lon, sst, qcFlag = filter_by_extent(lon_zoom_in[0], lon_zoom_in[1], lat_zoom_in[0], lat_zoom_in[1], oType, year, month, day, hour, minute, pId, lon, lat, sst, qcFlag)\n",
        "\n",
        "  # target region - NW of Jamaica\n",
        "  oType, year, month, day,hour, minute, pId, lat, lon, sst, qcFlag = filter_by_extent(-70, -65, 20., 24., oType, year, month, day, hour, minute, pId, lon, lat, sst, qcFlag)\n",
        "\n",
        "  if target_day == day_start:\n",
        "    found_buoy_ids = np.unique(pId)\n",
        "    print(f'Found data from ID: {found_buoy_ids}')\n",
        "    #buoy_ID = pId[0]"
      ],
      "metadata": {
        "id": "MMVZv-jPFmH7"
      },
      "execution_count": null,
      "outputs": []
    },
    {
      "cell_type": "markdown",
      "source": [
        "# SST time-series from a **specific** buoy(s) - that was found in the `zoom-in` region."
      ],
      "metadata": {
        "id": "o_GziZo7KzSc"
      }
    },
    {
      "cell_type": "code",
      "source": [
        "for buoy_ID in found_buoy_ids:\n",
        "  print(f'Processing data for buoy ID: {buoy_ID}')\n",
        "\n",
        "  # Create a figure and axes with a PlateCarree projection\n",
        "  oType, year, month, day, hour, minute, pId, lat, lon, sst, qcFlag =\\\n",
        "  load_iquam_data(iquam_file[0], obs_ids, obsType)\n",
        "\n",
        "  if use_best_quality:\n",
        "    oType, year, month, day, hour, minute, pId, lat, lon, sst, qcFlag =\\\n",
        "    load_and_subset_iquam_data(obsType, oType, year, month, day, hour, minute, pId, lat, lon, sst, qcFlag, best_quality_value)\n",
        "\n",
        "  mask = pId == buoy_ID\n",
        "\n",
        "  buoy_year = year[mask]\n",
        "  buoy_month = month[mask]\n",
        "  buoy_day = day[mask]\n",
        "  buoy_hour = hour[mask]\n",
        "  buoy_minute = minute[mask]\n",
        "\n",
        "  buoy_lat = lat[mask]\n",
        "  buoy_lon = lon[mask]\n",
        "  buoy_sst = sst[mask]\n",
        "\n",
        "  create_and_save_buoy_dataset(buoy_year, buoy_month, buoy_day, buoy_hour, buoy_minute, buoy_lat, buoy_lon, buoy_sst, pId[mask], buoy_ID, save_data_path)\n",
        "\n",
        "  #print(pId[mask])"
      ],
      "metadata": {
        "id": "in0sXtZfK1rM"
      },
      "execution_count": null,
      "outputs": []
    },
    {
      "cell_type": "code",
      "source": [
        "# Create a figure and axes with a PlateCarree projection\n",
        "fig = plt.figure(figsize=(12, 8))\n",
        "ax = fig.add_subplot(1, 1, 1, projection=ccrs.PlateCarree())\n",
        "\n",
        "im = ax.scatter(buoy_lon, buoy_lat, transform=ccrs.PlateCarree(), c=buoy_sst-273.15, s=20, marker='s', edgecolor='none',\n",
        "vmin=cMin, vmax=cMax, cmap=cMap)\n",
        "\n",
        "ax.coastlines(color='black', linewidth=1)\n",
        "ax.add_feature(cfeature.LAND, edgecolor='black', alpha=0.75)\n",
        "\n",
        "# Add gridlines\n",
        "gl = ax.gridlines(draw_labels=True, zorder=0)\n",
        "gl.top_labels = False\n",
        "gl.right_labels = False\n",
        "gl.xformatter = LONGITUDE_FORMATTER\n",
        "gl.yformatter = LATITUDE_FORMATTER\n",
        "gl.xlabel_style = {'size': 10}\n",
        "gl.ylabel_style = {'size': 10}\n",
        "\n",
        "#ax.set_extent([lon_zoom_in[0], lon_zoom_in[1], lat_zoom_in[0], lat_zoom_in[1]])\n",
        "#cbar_ax = fig.add_axes([0.4, 0.7, 0.25, 0.03])\n",
        "ax.set_extent([-75, -60, 16., 24.])\n",
        "cbar_ax = fig.add_axes([0.62, 0.75, 0.25, 0.03])\n",
        "cbar = fig.colorbar(im, cax=cbar_ax, orientation='horizontal')\n",
        "cbar.set_label(f'ID: {buoy_ID} SST (°C)', fontsize=14)\n",
        "\n",
        "\n",
        "# Time- series of the buoy SST.\n",
        "buoy_dates = [f\"{int(buoy_year[i]):04d}-{int(buoy_month[i]):02d}-{int(buoy_day[i]):02d}T{int(buoy_hour[i]):02d}:{int(buoy_minute[i]):02d}\" for i in range(len(buoy_year))]\n",
        "\n",
        "ax2 = fig.add_axes([0.18, 0.25, 0.28, 0.18])\n",
        "ax2.plot(buoy_dates, buoy_sst - 273.15)\n",
        "ax2.set_ylabel('SST (°C)')\n",
        "ax2.set_xlabel(f'Day of {target_year}/{target_month}')\n",
        "\n",
        "# Set x-axis ticks to show every 24 hours and format labels as day of the month\n",
        "day_labels = [f\"{int(day):02d}\" for day in buoy_day[::24]]\n",
        "ax2.set_xticks(buoy_dates[::24])\n",
        "ax2.set_xticklabels(day_labels)\n",
        "ax2.tick_params(axis='x', rotation=45)"
      ],
      "metadata": {
        "id": "KjCBdjkULLDi"
      },
      "execution_count": null,
      "outputs": []
    },
    {
      "cell_type": "code",
      "source": [
        "buoy_ID = 4101863\n",
        "buoy = xr.open_dataset(f'/content/drive/MyDrive/RTOFS/publications/Melissa2025_nATL/saved_data/buoy_{buoy_ID}.nc')\n",
        "\n",
        "buoy_lat = buoy.lat.values\n",
        "buoy_lon = buoy.lon.values\n",
        "buoy_sst = buoy.sst.values\n",
        "\n",
        "buoy_year = buoy.year.values\n",
        "buoy_month = buoy.month.values\n",
        "buoy_day = buoy.day.values\n",
        "buoy_hour = buoy.hour.values\n",
        "buoy_minute = buoy.minute.values"
      ],
      "metadata": {
        "id": "Cnrw6tFMN6C4"
      },
      "execution_count": null,
      "outputs": []
    },
    {
      "cell_type": "code",
      "source": [
        "# Create a figure and axes with a PlateCarree projection\n",
        "fig = plt.figure(figsize=(12, 8))\n",
        "ax = fig.add_subplot(1, 1, 1, projection=ccrs.PlateCarree())\n",
        "\n",
        "im = ax.scatter(buoy_lon, buoy_lat, transform=ccrs.PlateCarree(), c=buoy_sst-273.15, s=20, marker='s', edgecolor='none',\n",
        "vmin=cMin, vmax=cMax, cmap=cMap)\n",
        "\n",
        "ax.coastlines(color='black', linewidth=1)\n",
        "ax.add_feature(cfeature.LAND, edgecolor='black', alpha=0.75)\n",
        "\n",
        "# Add gridlines\n",
        "gl = ax.gridlines(draw_labels=True, zorder=0)\n",
        "gl.top_labels = False\n",
        "gl.right_labels = False\n",
        "gl.xformatter = LONGITUDE_FORMATTER\n",
        "gl.yformatter = LATITUDE_FORMATTER\n",
        "gl.xlabel_style = {'size': 10}\n",
        "gl.ylabel_style = {'size': 10}\n",
        "\n",
        "#ax.set_extent([lon_zoom_in[0], lon_zoom_in[1], lat_zoom_in[0], lat_zoom_in[1]])\n",
        "#cbar_ax = fig.add_axes([0.4, 0.7, 0.25, 0.03])\n",
        "ax.set_extent([-75, -60, 16., 24.])\n",
        "cbar_ax = fig.add_axes([0.62, 0.75, 0.25, 0.03])\n",
        "cbar = fig.colorbar(im, cax=cbar_ax, orientation='horizontal')\n",
        "cbar.set_label(f'ID: {buoy_ID} SST (°C)', fontsize=14)\n",
        "\n",
        "\n",
        "# Time- series of the buoy SST.\n",
        "buoy_dates = [f\"{int(buoy_year[i]):04d}-{int(buoy_month[i]):02d}-{int(buoy_day[i]):02d}T{int(buoy_hour[i]):02d}:{int(buoy_minute[i]):02d}\" for i in range(len(buoy_year))]\n",
        "\n",
        "ax2 = fig.add_axes([0.18, 0.25, 0.28, 0.18])\n",
        "ax2.plot(buoy_dates, buoy_sst - 273.15)\n",
        "ax2.set_ylabel('SST (°C)')\n",
        "ax2.set_xlabel(f'Day of {target_year}/{target_month}')\n",
        "\n",
        "# Set x-axis ticks to show every 24 hours and format labels as day of the month\n",
        "day_labels = [f\"{int(day):02d}\" for day in buoy_day[::24]]\n",
        "ax2.set_xticks(buoy_dates[::24])\n",
        "ax2.set_xticklabels(day_labels)\n",
        "ax2.tick_params(axis='x', rotation=45)"
      ],
      "metadata": {
        "id": "SLq3YkuMXkf1"
      },
      "execution_count": null,
      "outputs": []
    },
    {
      "cell_type": "code",
      "source": [],
      "metadata": {
        "id": "ZG8Gxf5cYF6J"
      },
      "execution_count": null,
      "outputs": []
    }
  ]
}