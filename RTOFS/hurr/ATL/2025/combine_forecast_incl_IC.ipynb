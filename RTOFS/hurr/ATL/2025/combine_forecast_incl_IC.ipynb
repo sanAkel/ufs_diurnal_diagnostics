{
  "nbformat": 4,
  "nbformat_minor": 0,
  "metadata": {
    "colab": {
      "provenance": [],
      "mount_file_id": "1NCMREmACjDEy1LSJbPVL6d6bMAH7gwki",
      "authorship_tag": "ABX9TyPEl4x4RCgMP+y7WK4cGF9H",
      "include_colab_link": true
    },
    "kernelspec": {
      "name": "python3",
      "display_name": "Python 3"
    },
    "language_info": {
      "name": "python"
    }
  },
  "cells": [
    {
      "cell_type": "markdown",
      "metadata": {
        "id": "view-in-github",
        "colab_type": "text"
      },
      "source": [
        "<a href=\"https://colab.research.google.com/github/sanAkel/ufs_diurnal_diagnostics/blob/main/RTOFS/hurr/ATL/2025/combine_forecast_incl_IC.ipynb\" target=\"_parent\"><img src=\"https://colab.research.google.com/assets/colab-badge.svg\" alt=\"Open In Colab\"/></a>"
      ]
    },
    {
      "cell_type": "code",
      "execution_count": null,
      "metadata": {
        "id": "HUn72LmZzt9X"
      },
      "outputs": [],
      "source": [
        "from datetime import datetime, timedelta\n",
        "\n",
        "import glob as glob\n",
        "import xarray as xr"
      ]
    },
    {
      "cell_type": "code",
      "source": [
        "date_start, date_end = ['20251020', '20251030']\n",
        "\n",
        "save_data_path = '/content/drive/MyDrive/RTOFS/publications/Melissa2025_nATL/saved_data/RTOFS/'"
      ],
      "metadata": {
        "id": "UUwt4EEX1Aof"
      },
      "execution_count": null,
      "outputs": []
    },
    {
      "cell_type": "markdown",
      "source": [
        "## Add initial time (from nowcast) to the a single dataset"
      ],
      "metadata": {
        "id": "Qgm-e8oZGZJW"
      }
    },
    {
      "cell_type": "code",
      "metadata": {
        "id": "7bd48e0c"
      },
      "source": [
        "start_date = datetime.strptime(date_start, '%Y%m%d')\n",
        "end_date = datetime.strptime(date_end, '%Y%m%d')\n",
        "\n",
        "current_date = start_date\n",
        "while current_date <= end_date:\n",
        "    date_str = current_date.strftime('%Y%m%d')\n",
        "    fname_nowcast = f'{save_data_path}nowcast/{date_str}.nc'\n",
        "    fname_forecast = f'{save_data_path}forecast/{date_str}.nc'\n",
        "\n",
        "    ds_nowcast = xr.open_dataset(fname_nowcast)\n",
        "    ds_forecast = xr.open_dataset(fname_forecast)\n",
        "\n",
        "    ds_nowcast_filtered = ds_nowcast.sel(MT=ds_nowcast.MT.dt.hour == 0).isel(Depth=0)\n",
        "    ds_forecast_filtered = ds_forecast.sel(MT=ds_forecast.MT.dt.hour == 0).isel(Depth=0)\n",
        "\n",
        "    combined_ds = xr.concat([ds_nowcast_filtered.isel(MT=-1), ds_forecast_filtered], dim='MT')\n",
        "\n",
        "    print(f'Processed data for {date_str}. Combined dataset has {combined_ds.sizes[\"MT\"]} time steps.')\n",
        "\n",
        "    fname_save = f'{save_data_path}combined/{date_str}.nc'\n",
        "    combined_ds.to_netcdf(fname_save)\n",
        "    print(f'Saved combined dataset to {fname_save}')\n",
        "\n",
        "    current_date += timedelta(days=1)"
      ],
      "execution_count": null,
      "outputs": []
    },
    {
      "cell_type": "markdown",
      "source": [
        "## Plot"
      ],
      "metadata": {
        "id": "88NNddsaGhYb"
      }
    },
    {
      "cell_type": "code",
      "source": [
        "#combined_ds.isel(Depth=0).sel(Y=slice(100, 375), X=slice(100, 500)).sel(MT=combined_ds.MT.dt.hour == 0).temperature.plot(x='X', y='Y', col='MT', vmin=24, vmax=32, cmap='Spectral_r')"
      ],
      "metadata": {
        "id": "B0YH81h_805B"
      },
      "execution_count": null,
      "outputs": []
    },
    {
      "cell_type": "code",
      "source": [],
      "metadata": {
        "id": "pafNhgFqFTyG"
      },
      "execution_count": null,
      "outputs": []
    }
  ]
}