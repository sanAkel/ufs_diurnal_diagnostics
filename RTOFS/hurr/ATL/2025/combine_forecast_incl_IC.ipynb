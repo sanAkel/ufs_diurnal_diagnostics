{
  "nbformat": 4,
  "nbformat_minor": 0,
  "metadata": {
    "colab": {
      "provenance": [],
      "mount_file_id": "https://github.com/sanAkel/ufs_diurnal_diagnostics/blob/main/RTOFS/hurr/ATL/2025/combine_forecast_incl_IC.ipynb",
      "authorship_tag": "ABX9TyPM7UCcoy37EB9aQgRuFh11",
      "include_colab_link": true
    },
    "kernelspec": {
      "name": "python3",
      "display_name": "Python 3"
    },
    "language_info": {
      "name": "python"
    }
  },
  "cells": [
    {
      "cell_type": "markdown",
      "metadata": {
        "id": "view-in-github",
        "colab_type": "text"
      },
      "source": [
        "<a href=\"https://colab.research.google.com/github/sanAkel/ufs_diurnal_diagnostics/blob/main/RTOFS/hurr/ATL/2025/combine_forecast_incl_IC.ipynb\" target=\"_parent\"><img src=\"https://colab.research.google.com/assets/colab-badge.svg\" alt=\"Open In Colab\"/></a>"
      ]
    },
    {
      "cell_type": "code",
      "execution_count": null,
      "metadata": {
        "id": "HUn72LmZzt9X"
      },
      "outputs": [],
      "source": [
        "from datetime import datetime, timedelta\n",
        "\n",
        "import glob as glob\n",
        "import xarray as xr\n",
        "\n",
        "import matplotlib.pyplot as plt\n",
        "%matplotlib inline"
      ]
    },
    {
      "cell_type": "code",
      "source": [
        "date_start, date_end = ['20251020', '20251031']\n",
        "\n",
        "save_data_path = '/content/drive/MyDrive/RTOFS/publications/Melissa2025_nATL/saved_data/RTOFS/'"
      ],
      "metadata": {
        "id": "UUwt4EEX1Aof"
      },
      "execution_count": null,
      "outputs": []
    },
    {
      "cell_type": "markdown",
      "source": [
        "## Add initial time (from nowcast) to the a single dataset"
      ],
      "metadata": {
        "id": "Qgm-e8oZGZJW"
      }
    },
    {
      "cell_type": "code",
      "metadata": {
        "id": "7bd48e0c"
      },
      "source": [
        "start_date = datetime.strptime(date_start, '%Y%m%d')\n",
        "end_date = datetime.strptime(date_end, '%Y%m%d')\n",
        "\n",
        "current_date = start_date\n",
        "while current_date <= end_date:\n",
        "    date_str = current_date.strftime('%Y%m%d')\n",
        "    fname_nowcast = f'{save_data_path}nowcast/{date_str}.nc'\n",
        "    fname_forecast = f'{save_data_path}forecast/{date_str}.nc'\n",
        "\n",
        "    ds_nowcast = xr.open_dataset(fname_nowcast)\n",
        "    ds_forecast = xr.open_dataset(fname_forecast)\n",
        "\n",
        "    ds_nowcast_filtered = ds_nowcast.isel(Depth=0)\n",
        "    #ds_forecast_filtered = ds_forecast.sel(MT=ds_forecast.MT.dt.hour == 0).isel(Depth=0)\n",
        "    ds_forecast_filtered = ds_forecast.isel(Depth=0)\n",
        "\n",
        "    combined_ds = xr.concat([ds_nowcast_filtered.isel(MT=-1), ds_forecast_filtered], dim='MT')\n",
        "\n",
        "    print(f'Processed data for {date_str}. Combined dataset has {combined_ds.sizes[\"MT\"]} time steps.')\n",
        "\n",
        "    fname_save = f'{save_data_path}combined/surf_{date_str}.nc'\n",
        "    combined_ds.to_netcdf(fname_save)\n",
        "    print(f'Saved combined dataset to {fname_save}')\n",
        "\n",
        "    current_date += timedelta(days=1)"
      ],
      "execution_count": null,
      "outputs": []
    },
    {
      "cell_type": "markdown",
      "source": [
        "## Plot `SST`"
      ],
      "metadata": {
        "id": "88NNddsaGhYb"
      }
    },
    {
      "cell_type": "code",
      "source": [
        "start_date = datetime.strptime(date_start, '%Y%m%d')\n",
        "end_date = datetime.strptime(date_end, '%Y%m%d')\n",
        "\n",
        "# Calculate the number of days to plot.\n",
        "num_days = (end_date - start_date).days + 1\n",
        "num_cols = 5 # As requested by the user\n",
        "\n",
        "# Create a single figure with subplots.\n",
        "fig, axes = plt.subplots(num_days, num_cols, figsize=(10, 16)) # Set the number of rows to num_days and requested figsize\n",
        "\n",
        "current_date = start_date\n",
        "day_index = 0  # Initialize index for subplot rows\n",
        "\n",
        "while current_date <= end_date:\n",
        "    date_str = current_date.strftime('%Y%m%d')\n",
        "    fname_save = f'{save_data_path}combined/surf_{date_str}.nc'\n",
        "    print(f'Reading processded data from\\t: {fname_save}...')\n",
        "    combined_ds = xr.open_dataset(fname_save)\n",
        "\n",
        "    # Select the time steps where the hour is 0\n",
        "    ds_to_plot = combined_ds.sel(MT=combined_ds.MT.dt.hour == 0)\n",
        "\n",
        "    # Iterate through the selected time steps and plot in the corresponding column\n",
        "    for col in range(num_cols):\n",
        "        if col < ds_to_plot.sizes['MT']:\n",
        "            # Select the appropriate subplot using the day_index and col, and plot using pcolormesh.\n",
        "            # Remove individual colorbars and clear titles\n",
        "            plot = ds_to_plot.isel(MT=col).sel(Y=slice(100, 375), X=slice(100, 500)).temperature.plot.pcolormesh(x='X', y='Y', vmin=24, vmax=32, cmap='Spectral_r', ax=axes[day_index, col], add_colorbar=False)\n",
        "            axes[day_index, col].set_title('') # Clear the title\n",
        "\n",
        "            # Remove xlabels and ylabels and ticks from most subplots\n",
        "            if day_index < num_days - 1:\n",
        "                axes[day_index, col].set_xlabel('')\n",
        "                axes[day_index, col].tick_params(labelbottom=False)\n",
        "            if col > 0:\n",
        "                axes[day_index, col].set_ylabel('')\n",
        "                axes[day_index, col].tick_params(labelleft=False)\n",
        "\n",
        "            # Add date_str to the first column of each row\n",
        "            if col == 0:\n",
        "                axes[day_index, col].text(400, 375, date_str)\n",
        "\n",
        "        else:\n",
        "            # Hide unused subplots if there are fewer than 5 time steps with hour 0\n",
        "            fig.delaxes(axes[day_index, col])\n",
        "\n",
        "\n",
        "    day_index += 1 # Increment the index for the next row (day)\n",
        "    current_date += timedelta(days=1)\n",
        "\n",
        "# Add a single horizontal colorbar for the entire figure\n",
        "cbar_ax = fig.add_axes([0.1, 0.06, 0.8, 0.02]) # [left, bottom, width, height]\n",
        "cbar = fig.colorbar(plot, cax=cbar_ax, orientation='horizontal')\n",
        "cbar.ax.set_xlabel('SST [$\\\\circ$C]')\n",
        "\n",
        "\n",
        "#plt.tight_layout(rect=[0, 0.08, 1, 1]) # Adjust layout to prevent overlapping titles and labels, making space for colorbar\n",
        "plt.show() # Display the plot"
      ],
      "metadata": {
        "id": "B0YH81h_805B"
      },
      "execution_count": null,
      "outputs": []
    },
    {
      "cell_type": "markdown",
      "source": [
        "## Plot `SSS`"
      ],
      "metadata": {
        "id": "X_cfpvViAwcE"
      }
    },
    {
      "cell_type": "code",
      "source": [
        "start_date = datetime.strptime(date_start, '%Y%m%d')\n",
        "end_date = datetime.strptime(date_end, '%Y%m%d')\n",
        "\n",
        "# Calculate the number of days to plot.\n",
        "num_days = (end_date - start_date).days + 1\n",
        "num_cols = 5 # As requested by the user\n",
        "\n",
        "# Create a single figure with subplots.\n",
        "fig, axes = plt.subplots(num_days, num_cols, figsize=(10, 16)) # Set the number of rows to num_days and requested figsize\n",
        "\n",
        "current_date = start_date\n",
        "day_index = 0  # Initialize index for subplot rows\n",
        "\n",
        "while current_date <= end_date:\n",
        "    date_str = current_date.strftime('%Y%m%d')\n",
        "    fname_save = f'{save_data_path}combined/surf_{date_str}.nc'\n",
        "    print(f'Reading processded data from\\t: {fname_save}...')\n",
        "    combined_ds = xr.open_dataset(fname_save)\n",
        "\n",
        "    # Select the time steps where the hour is 0\n",
        "    ds_to_plot = combined_ds.sel(MT=combined_ds.MT.dt.hour == 0)\n",
        "\n",
        "    # Iterate through the selected time steps and plot in the corresponding column\n",
        "    for col in range(num_cols):\n",
        "        if col < ds_to_plot.sizes['MT']:\n",
        "            # Select the appropriate subplot using the day_index and col, and plot using pcolormesh.\n",
        "            # Remove individual colorbars and clear titles\n",
        "            plot = ds_to_plot.isel(MT=col).sel(Y=slice(100, 375), X=slice(100, 500)).salinity.plot.pcolormesh(x='X', y='Y', vmin=34, vmax=38, cmap='gist_ncar', ax=axes[day_index, col], add_colorbar=False)\n",
        "            axes[day_index, col].set_title('') # Clear the title\n",
        "\n",
        "            # Remove xlabels and ylabels and ticks from most subplots\n",
        "            if day_index < num_days - 1:\n",
        "                axes[day_index, col].set_xlabel('')\n",
        "                axes[day_index, col].tick_params(labelbottom=False)\n",
        "            if col > 0:\n",
        "                axes[day_index, col].set_ylabel('')\n",
        "                axes[day_index, col].tick_params(labelleft=False)\n",
        "\n",
        "            # Add date_str to the first column of each row\n",
        "            if col == 0:\n",
        "                axes[day_index, col].text(400, 375, date_str)\n",
        "\n",
        "        else:\n",
        "            # Hide unused subplots if there are fewer than 5 time steps with hour 0\n",
        "            fig.delaxes(axes[day_index, col])\n",
        "\n",
        "\n",
        "    day_index += 1 # Increment the index for the next row (day)\n",
        "    current_date += timedelta(days=1)\n",
        "\n",
        "# Add a single horizontal colorbar for the entire figure\n",
        "cbar_ax = fig.add_axes([0.1, 0.06, 0.8, 0.02]) # [left, bottom, width, height]\n",
        "cbar = fig.colorbar(plot, cax=cbar_ax, orientation='horizontal')\n",
        "cbar.ax.set_xlabel('SSS [PSU]')\n",
        "\n",
        "\n",
        "#plt.tight_layout(rect=[0, 0.08, 1, 1]) # Adjust layout to prevent overlapping titles and labels, making space for colorbar\n",
        "plt.show() # Display the plot"
      ],
      "metadata": {
        "id": "KX0rsXV0Nn7A"
      },
      "execution_count": null,
      "outputs": []
    },
    {
      "cell_type": "code",
      "source": [],
      "metadata": {
        "id": "TLRHQjXeAVrn"
      },
      "execution_count": null,
      "outputs": []
    }
  ]
}