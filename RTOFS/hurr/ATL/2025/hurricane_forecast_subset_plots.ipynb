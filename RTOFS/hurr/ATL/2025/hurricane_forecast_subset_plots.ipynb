{
  "nbformat": 4,
  "nbformat_minor": 0,
  "metadata": {
    "colab": {
      "provenance": [],
      "mount_file_id": "https://github.com/sanAkel/ufs_diurnal_diagnostics/blob/main/RTOFS/hurr/ATL/2025/hurricane_forecast_subset_plots.ipynb",
      "authorship_tag": "ABX9TyPNQ2U02TYJ9q4Q0JFA6hnk",
      "include_colab_link": true
    },
    "kernelspec": {
      "name": "python3",
      "display_name": "Python 3"
    },
    "language_info": {
      "name": "python"
    }
  },
  "cells": [
    {
      "cell_type": "markdown",
      "metadata": {
        "id": "view-in-github",
        "colab_type": "text"
      },
      "source": [
        "<a href=\"https://colab.research.google.com/github/sanAkel/ufs_diurnal_diagnostics/blob/main/RTOFS/hurr/ATL/2025/hurricane_forecast_subset_plots.ipynb\" target=\"_parent\"><img src=\"https://colab.research.google.com/assets/colab-badge.svg\" alt=\"Open In Colab\"/></a>"
      ]
    },
    {
      "cell_type": "code",
      "source": [
        "!pip install boto3\n",
        "!pip install botocore\n",
        "!pip install xarray\n",
        "!pip install matplotlib"
      ],
      "metadata": {
        "collapsed": true,
        "id": "faUCObam8kNl"
      },
      "execution_count": null,
      "outputs": []
    },
    {
      "cell_type": "code",
      "source": [
        "import boto3\n",
        "import botocore\n",
        "from datetime import datetime, timedelta\n",
        "\n",
        "import xarray as xr\n",
        "\n",
        "import matplotlib.pyplot as plt"
      ],
      "metadata": {
        "id": "i0djrBoWsaYI"
      },
      "execution_count": null,
      "outputs": []
    },
    {
      "cell_type": "code",
      "metadata": {
        "id": "2d859e33"
      },
      "source": [
        "def download_s3_file(BUCKET_NAME, KEY, fname):\n",
        "    \"\"\"\n",
        "    Downloads a file from an AWS S3 bucket.\n",
        "\n",
        "    Args:\n",
        "        BUCKET_NAME (str): The name of the S3 bucket.\n",
        "        KEY (str): The key (prefix) of the object in the bucket.\n",
        "        fname (str): The filename of the object to download.\n",
        "\n",
        "    Returns:\n",
        "        str or None: The local filename if successful, None otherwise.\n",
        "    \"\"\"\n",
        "    KEY_WITH_FNAME = f'{KEY}{fname}' # Construct the full key with the filename\n",
        "\n",
        "    s3 = boto3.client('s3', config=botocore.config.Config(signature_version=botocore.UNSIGNED))\n",
        "\n",
        "    try:\n",
        "        s3.download_file(BUCKET_NAME, KEY_WITH_FNAME, fname) # Use the constructed key and fname for local filename\n",
        "        print(f\"Successfully downloaded {KEY_WITH_FNAME} to {fname}\")\n",
        "        return fname\n",
        "    except botocore.exceptions.ClientError as e:\n",
        "        if e.response['Error']['Code'] == \"404\":\n",
        "            print(f\"The object does not exist: {KEY_WITH_FNAME}\")\n",
        "        else:\n",
        "            print(f\"An error occurred: {e}\")\n",
        "        return None"
      ],
      "execution_count": null,
      "outputs": []
    },
    {
      "cell_type": "markdown",
      "source": [
        "# Inputs"
      ],
      "metadata": {
        "id": "RF3s13kO7adZ"
      }
    },
    {
      "cell_type": "code",
      "source": [
        "BUCKET_NAME = 'noaa-nws-rtofs-pds'\n",
        "sysName = 'rtofs'\n",
        "\n",
        "save_data_path = '/content/drive/MyDrive/RTOFS/publications/Melissa2025_nATL/saved_data/'\n",
        "\n",
        "# forecast\n",
        "#fPref, fSuff = ['rtofs_glo_3dz_f', '_6hrly_hvr_US_east.nc']\n",
        "#hr_start, hr_end, freq = [6, 96, 6]\n",
        "#save_data_path = save_data_path + 'RTOFS/forecast/'\n",
        "\n",
        "#nowcast\n",
        "fPref, fSuff = ['rtofs_glo_3dz_n', '_6hrly_hvr_US_east.nc']\n",
        "hr_start, hr_end, freq = [6, 25, 6]\n",
        "save_data_path = save_data_path + 'RTOFS/nowcast/'\n",
        "\n",
        "date_start, date_end = ['20251020', '20251030']\n",
        "\n",
        "# X, Y domain indices\n",
        "x_start, x_end = [0, 600]\n",
        "y_start, y_end = [0, 600]\n",
        "z_start, z_end = [0, 1000]\n",
        "\n",
        "# Jamaica? In x- and y- indices! The nc file is POORLY constructed.\n",
        "x_pos = 310\n",
        "y_pos_start, y_pos_end = [200, 250]"
      ],
      "metadata": {
        "id": "qbPk5FJ4oY9k"
      },
      "execution_count": null,
      "outputs": []
    },
    {
      "cell_type": "code",
      "metadata": {
        "id": "dc95472d"
      },
      "source": [
        "start_date = datetime.strptime(date_start, '%Y%m%d')\n",
        "end_date = datetime.strptime(date_end, '%Y%m%d')\n",
        "\n",
        "date_list = [start_date + timedelta(days=x) for x in range((end_date - start_date).days + 1)]\n",
        "\n",
        "for date in date_list:\n",
        "    dStr = date.strftime('%Y%m%d')\n",
        "    KEY = f'{sysName}.{dStr}/'\n",
        "    print(f'Working on {KEY}')\n",
        "    filenames = [f'{fPref}{hour:03d}{fSuff}' for hour in range(hr_start, hr_end+1, freq)]\n",
        "    for fname in filenames:\n",
        "        print(f'Downloading {fname}')\n",
        "        download_s3_file(BUCKET_NAME, KEY, fname)\n",
        "        ds = xr.open_dataset(fname)\n",
        "        ##ds_subset = ds.sel(X=slice(x_start, x_end), Y=slice(y_start, y_end))\n",
        "        ds_subset = ds.sel(Depth=slice(z_start, z_end), Y=slice(y_start, y_end))\n",
        "        fname_subset = fname.replace('.nc', '_subset.nc')\n",
        "        ds_subset.to_netcdf(fname_subset)\n",
        "        !rm {fname}\n",
        "\n",
        "    subset_filenames = [fname.replace('.nc', '_subset.nc') for fname in filenames]\n",
        "    ds = xr.open_mfdataset(subset_filenames)\n",
        "    fName_save = f'{save_data_path}' + dStr + '.nc'\n",
        "    print(f'Saving to {fName_save}')\n",
        "    ds.to_netcdf(fName_save)\n",
        "\n",
        "    for fname in subset_filenames:\n",
        "      !rm {fname}"
      ],
      "execution_count": null,
      "outputs": []
    },
    {
      "cell_type": "code",
      "source": [
        "#fig = plt.figure(figsize=(4, 2))\n",
        "#ax = fig.add_subplot(111)\n",
        "\n",
        "#im = ds.isel(MT=0).isel(Depth=0).sel(X=slice(150, 450), Y=slice(100, 350)).temperature.plot.contourf(ax=ax, x='X', y='Y', cmap='Spectral_r')\n",
        "\n",
        "#ax.vlines(x=x_pos, ymin=y_pos_start, ymax=y_pos_end, color='k', linestyle='--', lw=2) # Add a vertical line segment\n",
        "\n",
        "#ax.set_title(f'SST on {ds.MT[0].values}')"
      ],
      "metadata": {
        "id": "HtNO5Rk_tQw6"
      },
      "execution_count": null,
      "outputs": []
    },
    {
      "cell_type": "code",
      "source": [
        "#plot_grid = ds.isel(Depth=0).sel(X=slice(150, 450), Y=slice(100, 350)).temperature.plot.contourf(x='X', y='Y', col=\"MT\", col_wrap=4, cmap='Spectral_r')\n",
        "\n",
        "# Add lines to each subplot\n",
        "#for ax in plot_grid.axs.flat:\n",
        "#    ax.vlines(x=x_pos, ymin=y_pos_start, ymax=y_pos_end, color='k', linestyle='--') # Add a vertical line segment\n",
        "\n",
        "# Access the colorbar axis and shrink its width\n",
        "#plot_grid.cbar.ax.set_aspect(10) # Adjust the aspect ratio to make it thinner"
      ],
      "metadata": {
        "id": "muh1cOyJzEpV"
      },
      "execution_count": null,
      "outputs": []
    },
    {
      "cell_type": "code",
      "metadata": {
        "id": "538b40b0"
      },
      "source": [
        "#from IPython.display import Image\n",
        "#Image(url='https://www.nhc.noaa.gov/storm_graphics/AT13/refresh/AL132025_3day_earliest_reasonable_toa_no_wsp_34+png/251732_earliest_reasonable_toa_no_wsp_34.png')"
      ],
      "execution_count": null,
      "outputs": []
    },
    {
      "cell_type": "code",
      "source": [
        "#plot_grid = ds.sel(X=x_pos, method='nearest').sel(Depth=slice(0, 300), Y=slice(y_pos_start, y_pos_end)).temperature.plot.contourf(x='Y', y='Depth', yincrease=False, col=\"MT\", col_wrap=4, levels=16, cmap='jet')\n",
        "\n",
        "# Access the colorbar axis and shrink its width\n",
        "#plot_grid.cbar.ax.set_aspect(10) # Adjust the aspect ratio to make it thinner"
      ],
      "metadata": {
        "id": "PtNa7UnY6A0R"
      },
      "execution_count": null,
      "outputs": []
    },
    {
      "cell_type": "code",
      "source": [
        "#fig, ax = plt.subplots(figsize=(8, 4), nrows=1, ncols=2, sharey=True)\n",
        "\n",
        "#ds.isel(MT=0).sel(X=x_pos, method='nearest').sel(Depth=slice(0, 300), Y=slice(y_pos_start, y_pos_end)).temperature.plot.contourf(ax=ax[0], x='Y', y='Depth', yincrease=False, levels=16, cmap='jet')\n",
        "#ax[0].set_title('20251025T00')\n",
        "\n",
        "#ds.isel(MT=15).sel(X=x_pos, method='nearest').sel(Depth=slice(0, 300), Y=slice(y_pos_start, y_pos_end)).temperature.plot.contourf(ax=ax[1], x='Y', y='Depth', yincrease=False, levels=16, cmap='jet')\n",
        "#ax[1].set_title('2025-10-29T00')"
      ],
      "metadata": {
        "id": "w3AXgwT-u5mT"
      },
      "execution_count": null,
      "outputs": []
    },
    {
      "cell_type": "code",
      "source": [
        "#fig, ax = plt.subplots(figsize=(8, 4), nrows=1, ncols=2, sharey=True)\n",
        "\n",
        "#ds.isel(MT=0).sel(X=x_pos, method='nearest').sel(Depth=slice(0, 300), Y=slice(y_pos_start, y_pos_end)).salinity.plot.contourf(ax=ax[0], x='Y', y='Depth', yincrease=False, levels=16, cmap='jet')\n",
        "#ax[0].set_title('20251025T00')\n",
        "\n",
        "#ds.isel(MT=15).sel(X=x_pos, method='nearest').sel(Depth=slice(0, 300), Y=slice(y_pos_start, y_pos_end)).salinity.plot.contourf(ax=ax[1], x='Y', y='Depth', yincrease=False, levels=16, cmap='jet')\n",
        "#ax[1].set_title('2025-10-29T00')"
      ],
      "metadata": {
        "id": "HnfMpb0AwQw9"
      },
      "execution_count": null,
      "outputs": []
    },
    {
      "cell_type": "code",
      "source": [
        "#plot_grid = ds.sel(X=x_pos, method='nearest').sel(Depth=slice(0, 300), Y=slice(y_pos_start, y_pos_end)).salinity.plot.contourf(x='Y', y='Depth', yincrease=False, col=\"MT\", col_wrap=4, levels=11, cmap='jet')\n",
        "\n",
        "# Access the colorbar axis and shrink its width\n",
        "#plot_grid.cbar.ax.set_aspect(10) # Adjust the aspect ratio to make it thinner"
      ],
      "metadata": {
        "id": "bWaOXyCz6EXm"
      },
      "execution_count": null,
      "outputs": []
    },
    {
      "cell_type": "markdown",
      "source": [
        "# Create an animation"
      ],
      "metadata": {
        "id": "xwRIKHyN74au"
      }
    },
    {
      "cell_type": "code",
      "metadata": {
        "collapsed": true,
        "id": "c396b03e"
      },
      "source": [
        "#!apt-get update && apt-get install -y imagemagick"
      ],
      "execution_count": null,
      "outputs": []
    },
    {
      "cell_type": "code",
      "metadata": {
        "id": "R2X9ODYXDxym"
      },
      "source": [
        "#import os\n",
        "#import matplotlib.pyplot as plt\n",
        "\n",
        "# Create a directory to save the frames\n",
        "#if not os.path.exists('temp_frames'):\n",
        "#    os.makedirs('temp_frames')\n",
        "\n",
        "#for i, time_step in enumerate(ds.MT):\n",
        "#    # Create a new figure and axes for each frame\n",
        "#    fig, ax = plt.subplots()\n",
        "\n",
        "#    # Select the data for the current time step and spatial slice\n",
        "#    temp_data = ds.isel(Depth=0).sel(X=slice(150, 450), Y=slice(100, 350)).temperature.sel(MT=time_step)\n",
        "\n",
        "#    # Plot the data on the axes\n",
        "#    cf = ax.contourf(temp_data.X, temp_data.Y, temp_data.values, vmin=25, vmax=32, cmap='Spectral_r')\n",
        "\n",
        "#    # Add a colorbar to the current frame\n",
        "#    fig.colorbar(cf, ax=ax)\n",
        "\n",
        "#    # Add a title to each frame\n",
        "#    ax.set_title(f'Temperature at {time_step.values}')\n",
        "\n",
        "#    # Save the current frame as a PNG file\n",
        "#    frame_filename = f'temp_frames/frame_{i:03d}.png'\n",
        "#    fig.savefig(frame_filename)\n",
        "\n",
        "#    # Close the figure to free up memory\n",
        "#    plt.close(fig)"
      ],
      "execution_count": null,
      "outputs": []
    },
    {
      "cell_type": "code",
      "metadata": {
        "id": "0de3bbf9"
      },
      "source": [
        "#!convert -delay 30 -loop 0 temp_frames/frame_*.png temperature_animation.gif"
      ],
      "execution_count": null,
      "outputs": []
    },
    {
      "cell_type": "markdown",
      "source": [
        "# Use xmovie"
      ],
      "metadata": {
        "id": "vZ09GOd78BNO"
      }
    },
    {
      "cell_type": "code",
      "metadata": {
        "collapsed": true,
        "id": "6301bc48"
      },
      "source": [
        "#!pip install xmovie\n",
        "#!apt-get update && apt-get install -y ffmpeg netcdf4"
      ],
      "execution_count": null,
      "outputs": []
    },
    {
      "cell_type": "code",
      "metadata": {
        "collapsed": true,
        "id": "863b1ff2"
      },
      "source": [
        "#!pip install netcdf4"
      ],
      "execution_count": null,
      "outputs": []
    },
    {
      "cell_type": "code",
      "source": [
        "#from xmovie import Movie"
      ],
      "metadata": {
        "id": "233vGEQE-lvl"
      },
      "execution_count": null,
      "outputs": []
    },
    {
      "cell_type": "code",
      "source": [
        "#movie = Movie(ds.isel(Depth=0).sel(X=slice(150, 450), Y=slice(100, 350)).salinity,\n",
        "#              framedim='MT',\n",
        "#              input_check=False,\n",
        "#              x='X',\n",
        "#              y='Y',\n",
        "#              vmin=34,\n",
        "#              vmax=38,\n",
        "#              cmap='jet')"
      ],
      "metadata": {
        "id": "xaABt06rI4AK"
      },
      "execution_count": null,
      "outputs": []
    },
    {
      "cell_type": "code",
      "source": [
        "#movie.save('salinity_animation_xmovie.gif')"
      ],
      "metadata": {
        "id": "PwEmgky2JX-9"
      },
      "execution_count": null,
      "outputs": []
    },
    {
      "cell_type": "code",
      "source": [
        "#movie = Movie(ds.isel(Depth=0).sel(X=slice(150, 450), Y=slice(100, 350)).temperature,\n",
        "#              framedim='MT',\n",
        "#              input_check=False,\n",
        "#              x='X',\n",
        "#              y='Y',\n",
        "#              vmin=25,\n",
        "#              vmax=32,\n",
        "#              cmap='Spectral_r')"
      ],
      "metadata": {
        "id": "28GMz39PJeUs"
      },
      "execution_count": null,
      "outputs": []
    },
    {
      "cell_type": "code",
      "source": [
        "#movie.save('temperature_animation_xmovie.gif')"
      ],
      "metadata": {
        "id": "XVJ0jQ03BX2w"
      },
      "execution_count": null,
      "outputs": []
    }
  ]
}