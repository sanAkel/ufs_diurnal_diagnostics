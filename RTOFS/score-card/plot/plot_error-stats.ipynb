{
 "cells": [
  {
   "cell_type": "code",
   "execution_count": 2,
   "id": "7f8455f9-b696-4b95-9578-f89ddee6a3e4",
   "metadata": {},
   "outputs": [],
   "source": [
    "#!/usr/bin/env python3\n",
    "\n",
    "import numpy as np\n",
    "import pandas as pd\n",
    "import xarray as xr\n",
    "from matplotlib import pyplot as plt\n",
    "\n",
    "import warnings\n",
    "warnings.filterwarnings('ignore')\n",
    "\n",
    "%matplotlib inline"
   ]
  },
  {
   "cell_type": "code",
   "execution_count": 3,
   "id": "fa21b1c9-fe4f-4035-ac85-87e6c383f6c5",
   "metadata": {},
   "outputs": [],
   "source": [
    "var_names = {\n",
    "        \"s\": \"salinity\",\n",
    "        \"t\": \"temperature\", \n",
    "        \"u\": \"u\",\n",
    "        \"v\": \"v\"}\n",
    "\n",
    "var_units = {\n",
    "        \"s\": \"[PSU]\",\n",
    "        \"t\": \"[deg C]\", \n",
    "        \"u\": \"[m/s]\",\n",
    "        \"v\": \"[m/s]\"}"
   ]
  },
  {
   "cell_type": "code",
   "execution_count": 9,
   "id": "c0b8dc34-1f4d-446a-bdbc-fc3b465d1668",
   "metadata": {},
   "outputs": [],
   "source": [
    "def plot_stat(ds, exp_name, output_path, setDepth=0, stat='mean', vName='t'):\n",
    "    width, height = [10, 5]\n",
    "    if stat=='mean':\n",
    "        cMin, cMax, cMap, nCol = [-1., 1., \"bwr\", 9]\n",
    "    else: # std dev\n",
    "        cMin, cMax, cMap, nCol = [0., 2., \"viridis\", 11]\n",
    "        \n",
    "    ds.sel(Depth=setDepth, method='nearest')[var_names[vName]].\\\n",
    "    plot.contourf(x=\"X\", y=\"Y\", col=\"time\", col_wrap=4, figsize=(width, height),\\\n",
    "                  vmin=cMin, vmax=cMax, cmap=cMap, levels=np.linspace(cMin, cMax, nCol))\n",
    "\n",
    "    figName = output_path + '{}_{}_{}_at_{}m.png'.format(exp_name, stat, vName, str(setDepth))\n",
    "    plt.savefig(figName, bbox_inches='tight')\n",
    "    print(\"Saved plot to:\\n{}\".format(figName))\n",
    "    plt.close()"
   ]
  },
  {
   "cell_type": "code",
   "execution_count": 4,
   "id": "ea898435-31e6-42a7-a375-1a2875da8e72",
   "metadata": {},
   "outputs": [],
   "source": [
    "def plot_mean_sdev_at_depth(ds_mean, ds_sdev, exp_name, output_path, setDepth=0, setTimeSlice=7, vName='t'):\n",
    "    \n",
    "    v1 = ds_mean.sel(Depth=setDepth, method='nearest')[var_names[vName]].isel(time=setTimeSlice).squeeze()\n",
    "    v2 = ds_sdev.sel(Depth=setDepth, method='nearest')[var_names[vName]].isel(time=setTimeSlice).squeeze()\n",
    "    \n",
    "    fig = plt.figure( figsize=(8, 6))\n",
    "    ax=fig.add_subplot(111)\n",
    "\n",
    "    # Mean\n",
    "    im1=ax.contourf(ds_mean['X'].values, ds_mean['Y'].values, v1,\n",
    "               vmin=-1., vmax=1, cmap=\"bwr\", levels=np.linspace(-1, 1, 9))\n",
    "    # Std. deviation\n",
    "    im2=ax.contour(ds_mean['X'].values, ds_mean['Y'].values, v2,\n",
    "               levels=np.asarray([0., 0.75, 1., 2., 3]), colors=('0.2', '0.3', '0.4', '0.5', '0.6'))\n",
    "    \n",
    "    cbar=plt.colorbar(im1, ax=ax)\n",
    "    cbar.set_label(\"{} error {}\".format(var_names[vName], var_units[vName]))\n",
    "    ax.clabel(im2, fontsize=12)\n",
    "\n",
    "    figName = output_path + '{}_{}_at_{}m_at{}HR.png'.format(exp_name, vName, str(setDepth), setTimeSlice)\n",
    "    plt.savefig(figName, bbox_inches='tight')\n",
    "    print(\"Saved plot to:\\n{}\".format(figName))\n",
    "    plt.close()"
   ]
  },
  {
   "cell_type": "markdown",
   "id": "93e45613-5d64-4ad2-b50a-5255e255cbb6",
   "metadata": {},
   "source": [
    "## Inputs"
   ]
  },
  {
   "cell_type": "code",
   "execution_count": 5,
   "id": "bd058fd4-b57c-45ea-8805-514cf5800603",
   "metadata": {},
   "outputs": [],
   "source": [
    "data_path_root = '/collab1/data/Santha.Akella/RTOFS/score_card/fcst_err/'\n",
    "output_data_path = data_path_root + '/plots/'\n",
    "exp_name = 'v2.4'\n",
    "var_name = 't' \n",
    "\n",
    "start_date = pd.to_datetime('2024-11-15')\n",
    "end_date = pd.to_datetime('2024-12-24')"
   ]
  },
  {
   "cell_type": "code",
   "execution_count": 6,
   "id": "ae77da2f-4202-469d-ab7c-729b98244fce",
   "metadata": {},
   "outputs": [
    {
     "name": "stdout",
     "output_type": "stream",
     "text": [
      "Reading:\n",
      "Mean error: /collab1/data/Santha.Akella/RTOFS/score_card/fcst_err/v2.4/3d_mean_t_20241115_20241224.nc\n",
      "Standard deviation: /collab1/data/Santha.Akella/RTOFS/score_card/fcst_err/v2.4/3d_sdev_t_20241115_20241224.nc\n"
     ]
    }
   ],
   "source": [
    "input_data_path = data_path_root + exp_name + '/'\n",
    "fSuff = '{}_{}_{}.nc'.format(var_name, start_date.strftime('%Y%m%d'), end_date.strftime('%Y%m%d'))\n",
    "\n",
    "fName_mean = input_data_path + '3d_' + 'mean_' + fSuff\n",
    "fName_sdev = input_data_path + '3d_' + 'sdev_' + fSuff\n",
    "print(f'Reading:\\nMean error: {fName_mean}\\nStandard deviation: {fName_sdev}')"
   ]
  },
  {
   "cell_type": "markdown",
   "id": "cb9e8575-294a-42f2-9243-2479228b9493",
   "metadata": {},
   "source": [
    "## Read precomputed mean and std dev of forecast errors"
   ]
  },
  {
   "cell_type": "code",
   "execution_count": 7,
   "id": "642236c1-1111-4023-a523-ab771347227b",
   "metadata": {},
   "outputs": [],
   "source": [
    "ds_mean = xr.open_dataset(fName_mean)\n",
    "ds_sdev = xr.open_dataset(fName_sdev)"
   ]
  },
  {
   "cell_type": "markdown",
   "id": "d0913e6f-865f-4c07-b43d-d0b90ae04a0d",
   "metadata": {},
   "source": [
    "## Plot mean and standard deviation\n",
    "- Slices at different depths (up to 1500 m)\n",
    "- Both mean (shaded) and standard deviation (contour) at a depth."
   ]
  },
  {
   "cell_type": "code",
   "execution_count": null,
   "id": "0a54e760-47b8-4ce8-ade4-eaf8b7234d4e",
   "metadata": {},
   "outputs": [
    {
     "name": "stdout",
     "output_type": "stream",
     "text": [
      "Plotting at 0.0 m\n",
      "Saved plot to:\n",
      "/collab1/data/Santha.Akella/RTOFS/score_card/fcst_err//plots/v2.4_mean_t_at_0.0m.png\n",
      "Saved plot to:\n",
      "/collab1/data/Santha.Akella/RTOFS/score_card/fcst_err//plots/v2.4_sdev_t_at_0.0m.png\n",
      "Plotting at 10.0 m\n"
     ]
    }
   ],
   "source": [
    "for z0 in ds_mean.Depth.values:\n",
    "    if z0 < 1500.:\n",
    "        print(f'Plotting at {z0} m')\n",
    "        plot_stat(ds_mean, exp_name, output_data_path, z0, 'mean', var_name)\n",
    "        plot_stat(ds_sdev, exp_name, output_data_path, z0, 'sdev', var_name)"
   ]
  },
  {
   "cell_type": "code",
   "execution_count": 8,
   "id": "529ef1ec-1a79-465a-ac37-bd9396af97ce",
   "metadata": {},
   "outputs": [
    {
     "name": "stdout",
     "output_type": "stream",
     "text": [
      "Saved plot to:\n",
      "/collab1/data/Santha.Akella/RTOFS/score_card/fcst_err//plots/v2.4_t_at_0m_at7HR.png\n"
     ]
    }
   ],
   "source": [
    "plot_mean_sdev_at_depth(ds_mean, ds_sdev, exp_name, output_data_path, 0, 7, var_name)"
   ]
  }
 ],
 "metadata": {
  "kernelspec": {
   "display_name": "Python [conda env:base] *",
   "language": "python",
   "name": "conda-base-py"
  },
  "language_info": {
   "codemirror_mode": {
    "name": "ipython",
    "version": 3
   },
   "file_extension": ".py",
   "mimetype": "text/x-python",
   "name": "python",
   "nbconvert_exporter": "python",
   "pygments_lexer": "ipython3",
   "version": "3.12.1"
  }
 },
 "nbformat": 4,
 "nbformat_minor": 5
}
