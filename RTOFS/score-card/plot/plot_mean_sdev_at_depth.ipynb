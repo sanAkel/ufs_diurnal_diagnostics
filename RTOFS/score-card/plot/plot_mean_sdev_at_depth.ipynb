{
 "cells": [
  {
   "cell_type": "code",
   "execution_count": null,
   "id": "7f8455f9-b696-4b95-9578-f89ddee6a3e4",
   "metadata": {},
   "outputs": [],
   "source": [
    "#!/usr/bin/env python3\n",
    "\n",
    "import os\n",
    "import sys\n",
    "import glob as glob\n",
    "import numpy as np\n",
    "import pandas as pd\n",
    "import xarray as xr\n",
    "from matplotlib import pyplot as plt\n",
    "\n",
    "import warnings\n",
    "warnings.filterwarnings('ignore')\n",
    "\n",
    "%matplotlib inline"
   ]
  },
  {
   "cell_type": "code",
   "execution_count": null,
   "id": "fa21b1c9-fe4f-4035-ac85-87e6c383f6c5",
   "metadata": {},
   "outputs": [],
   "source": [
    "var_names = {\n",
    "        \"s\": \"salinity\",\n",
    "        \"t\": \"temperature\", \n",
    "        \"u\": \"u\",\n",
    "        \"v\": \"v\"}\n",
    "\n",
    "var_units = {\n",
    "        \"s\": \"[PSU]\",\n",
    "        \"t\": \"[degC]\", \n",
    "        \"u\": \"[m/s]\",\n",
    "        \"v\": \"[m/s]\"}"
   ]
  },
  {
   "cell_type": "markdown",
   "id": "93e45613-5d64-4ad2-b50a-5255e255cbb6",
   "metadata": {},
   "source": [
    "## Inputs"
   ]
  },
  {
   "cell_type": "code",
   "execution_count": null,
   "id": "bd058fd4-b57c-45ea-8805-514cf5800603",
   "metadata": {},
   "outputs": [],
   "source": [
    "data_path_root = '/collab1/data/Santha.Akella/RTOFS/score_card/fcst_err/'\n",
    "output_data_path = '/collab1/data/Santha.Akella/RTOFS/score_card/fcst_err/plots/'\n",
    "exp_name = 'v2.4'\n",
    "var_name = 't'\n",
    "Z0 = 0\n",
    "\n",
    "start_date = pd.to_datetime('2024-11-15')\n",
    "end_date = pd.to_datetime('2024-12-24')\n",
    "\n",
    "sigma_frac=0.1 # how many standard deviations to plot?"
   ]
  },
  {
   "cell_type": "code",
   "execution_count": null,
   "id": "6c2f5f86-0a1d-4a2f-83d6-6f943d384ff4",
   "metadata": {},
   "outputs": [],
   "source": [
    "# Following are set for RTOFS\n",
    "exp_names = [\"v2.4\", \"v2.5\"]\n",
    "fPref = [\"_glob_mean_fcst_err_\", \"_glob_sdev_fcst_err_\"]\n",
    "nDays = 8"
   ]
  },
  {
   "cell_type": "markdown",
   "id": "cb9e8575-294a-42f2-9243-2479228b9493",
   "metadata": {},
   "source": [
    "## Read forecasts from each day and plot mean/std dev from analysis"
   ]
  },
  {
   "cell_type": "code",
   "execution_count": null,
   "id": "c255e958-b244-4f65-ad1f-f19c1f0470c1",
   "metadata": {},
   "outputs": [],
   "source": [
    "nSamples = np.zeros( len(exp_names))\n",
    "mean_var = np.zeros( (nDays, len(exp_names)))\n",
    "sdev_var = np.zeros_like( mean_var)\n",
    "\n",
    "fig=plt.figure( figsize=(12, 4), dpi=180)\n",
    "ax=fig.add_subplot(111)\n",
    "\n",
    "for iDate, proc_date in enumerate(pd.date_range(pd.to_datetime(start_date), pd.to_datetime(end_date))):\n",
    "    for iexp, exp_name in enumerate(exp_names):\n",
    "        for iFile, stat_file in enumerate(fPref):\n",
    "            fName = data_path_root + exp_name + \"/{}\".format(proc_date.strftime('%Y%m%d')) + stat_file + var_name + '.nc'\n",
    "            \n",
    "            if not os.path.exists( fName):\n",
    "                print(\"Processed file:\\n{} does NOT exist, skipping it.\".format(fName))\n",
    "                break\n",
    "                \n",
    "            if iFile==0: # count mean or std dev only once!  \n",
    "                nSamples[iexp] +=1\n",
    "                \n",
    "            #print(\"Reading data from:\\n{}\".format(fName))\n",
    "            ds = xr.open_dataset(fName)\n",
    "            if iFile==0: # mean\n",
    "                today_mean = ds.sel(Depth=Z0, method='nearest')[var_names[var_name]]\n",
    "                mean_var[:, iexp] = mean_var[:,iexp]+np.abs( today_mean.values)\n",
    "            else: # std dev\n",
    "                today_sdev = ds.sel(Depth=Z0, method='nearest')[var_names[var_name]]\n",
    "                sdev_var[:,iexp] = sdev_var[:,iexp]+ today_sdev.values\n",
    "                \n",
    "            # plot mean for the (two) experiments\n",
    "            if iFile==0:\n",
    "                if iexp==0:\n",
    "                    im1 = today_mean.plot(ax=ax, c='b', ls='--', marker='o', label=\"{}\".format(exp_name))\n",
    "                else:\n",
    "                    im1 = today_mean.plot(ax=ax, c='k', ls='-', lw=2, marker='x', label=\"{}\".format(exp_name))\n",
    "            else: # add std dev (shaded)\n",
    "                if iexp==0:\n",
    "                    ax.fill_between(ds.time, today_mean.values-sigma_frac*today_sdev.values, today_mean.values+sigma_frac*today_sdev.values, \n",
    "                                    color='b', alpha=0.1)\n",
    "                else:\n",
    "                    ax.fill_between(ds.time, today_mean.values-sigma_frac*today_sdev.values, today_mean.values+sigma_frac*today_sdev.values, \n",
    "                                    color='k', alpha=0.1)\n",
    "                    \n",
    "        if (iDate==0):\n",
    "            ax.legend(loc=1)\n",
    "    \n",
    "for iexp, exp_name in enumerate(exp_names):\n",
    "    mean_var[:, iexp]=mean_var[:,iexp]/nSamples[iexp]\n",
    "    sdev_var[:, iexp]=sdev_var[:,iexp]/nSamples[iexp]\n",
    "\n",
    "ax.axhline(y=0, ls='-', c='k', alpha=0.25)\n",
    "ax.set_title(\"\")\n",
    "ax.set_ylabel(\"{} {} at {} m\".format(var_names[var_name], var_units[var_name], Z0))\n",
    "\n",
    "figName= output_data_path + 'depth_{}m_'.format(str(Z0)) +\\\n",
    "         fPref[0][1:-1] + '_'+ fPref[1][1:-1]+ '_' + var_name+'_'+\\\n",
    "         \"{}_{}.png\".format(start_date.strftime('%Y%m%d'), end_date.strftime('%Y%m%d'))\n",
    "plt.savefig(figName, bbox_inches='tight')\n",
    "print(\"Saved plot to:\\n{}\".format(figName))\n",
    "#plt.close()"
   ]
  },
  {
   "cell_type": "code",
   "execution_count": null,
   "id": "353ae650-85b4-40e8-a5c9-0cfa8a86d950",
   "metadata": {},
   "outputs": [],
   "source": [
    "print(\"\\n\\nMean Absolute Error and RMSE over {} days\\n\\n\".format(nDays))\n",
    "print(exp_names)\n",
    "print(\"mean error:\")\n",
    "print(mean_var)\n",
    "print(\"std dev in error\")\n",
    "print(sdev_var)\n",
    "\n",
    "fig=plt.figure( figsize=(10, 4), dpi=180)\n",
    "ax=fig.add_subplot(111)\n",
    "for iexp, exp_name in enumerate(exp_names):\n",
    "  if iexp ==0:\n",
    "    ax.errorbar(np.arange(1, nDays+1), mean_var[:,iexp], yerr=0.01*sdev_var[:,iexp], capsize=4, marker='o', ls='--',\\\n",
    "               label=\"{} ({})\".format(exp_name, int(nSamples[iexp])))\n",
    "  else:\n",
    "    ax.errorbar(np.arange(1, nDays+1), mean_var[:,iexp], yerr=0.01*sdev_var[:,iexp], capsize=4, marker='x', ls='-',\\\n",
    "                label=\"{} ({})\".format(exp_name, int(nSamples[iexp])))\n",
    "      \n",
    "ax.legend(loc=1)\n",
    "ax.set_ylabel(\"{} {} at {} m\".format(var_names[var_name], var_units[var_name], Z0))\n",
    "ax.set_xlabel(\"Days\")\n",
    "ax.axhline(y=0, c='k', alpha=0.5)\n",
    "\n",
    "figName= output_data_path + 'depth_{}m_AvAllDays_'.format(str(Z0)) +\\\n",
    "         fPref[0][1:-1] + '_'+ fPref[1][1:-1]+ '_' + var_name+'_'+\\\n",
    "         \"{}_{}.png\".format(start_date.strftime('%Y%m%d'), end_date.strftime('%Y%m%d'))\n",
    "plt.savefig(figName, bbox_inches='tight')\n",
    "print(\"Saved plot to:\\n{}\".format(figName))\n",
    "#plt.close()"
   ]
  },
  {
   "cell_type": "code",
   "execution_count": null,
   "id": "09680dbb-7a52-4e11-8eee-8accbedf1ad9",
   "metadata": {},
   "outputs": [],
   "source": []
  }
 ],
 "metadata": {
  "kernelspec": {
   "display_name": "Python 3 (ipykernel)",
   "language": "python",
   "name": "python3"
  },
  "language_info": {
   "codemirror_mode": {
    "name": "ipython",
    "version": 3
   },
   "file_extension": ".py",
   "mimetype": "text/x-python",
   "name": "python",
   "nbconvert_exporter": "python",
   "pygments_lexer": "ipython3",
   "version": "3.12.1"
  }
 },
 "nbformat": 4,
 "nbformat_minor": 5
}
