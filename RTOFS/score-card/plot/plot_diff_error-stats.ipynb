{
 "cells": [
  {
   "cell_type": "code",
   "execution_count": null,
   "id": "7f8455f9-b696-4b95-9578-f89ddee6a3e4",
   "metadata": {},
   "outputs": [],
   "source": [
    "#!/usr/bin/env python3\n",
    "\n",
    "import numpy as np\n",
    "import pandas as pd\n",
    "import xarray as xr\n",
    "from matplotlib import pyplot as plt\n",
    "\n",
    "import warnings\n",
    "warnings.filterwarnings('ignore')\n",
    "\n",
    "%matplotlib inline"
   ]
  },
  {
   "cell_type": "code",
   "execution_count": null,
   "id": "fa21b1c9-fe4f-4035-ac85-87e6c383f6c5",
   "metadata": {},
   "outputs": [],
   "source": [
    "var_names = {\n",
    "        \"s\": \"salinity\",\n",
    "        \"t\": \"temperature\"}\n",
    "\n",
    "var_units = {\n",
    "        \"s\": \"[PSU]\",\n",
    "        \"t\": \"[deg C]\"}"
   ]
  },
  {
   "cell_type": "markdown",
   "id": "93e45613-5d64-4ad2-b50a-5255e255cbb6",
   "metadata": {},
   "source": [
    "## Inputs"
   ]
  },
  {
   "cell_type": "code",
   "execution_count": null,
   "id": "bd058fd4-b57c-45ea-8805-514cf5800603",
   "metadata": {},
   "outputs": [],
   "source": [
    "data_path_root = '/collab1/data/Santha.Akella/RTOFS/score_card/fcst_err/'\n",
    "output_data_path = data_path_root + '/plots/'\n",
    "exp_names = ['v2.4', 'v2.5']\n",
    "var_name = 's' \n",
    "\n",
    "start_date = pd.to_datetime('2024-11-15')\n",
    "end_date = pd.to_datetime('2024-12-24')"
   ]
  },
  {
   "cell_type": "code",
   "execution_count": null,
   "id": "ae77da2f-4202-469d-ab7c-729b98244fce",
   "metadata": {},
   "outputs": [],
   "source": [
    "fSuff = '{}_{}_{}.nc'.format(var_name, start_date.strftime('%Y%m%d'), end_date.strftime('%Y%m%d'))"
   ]
  },
  {
   "cell_type": "markdown",
   "id": "cb9e8575-294a-42f2-9243-2479228b9493",
   "metadata": {},
   "source": [
    "## Read precomputed mean and std dev of forecast errors"
   ]
  },
  {
   "cell_type": "code",
   "execution_count": null,
   "id": "4ba445cb-4a2c-461c-8c43-7b5dc9cacf0c",
   "metadata": {},
   "outputs": [],
   "source": [
    "for iexp, exp_name in enumerate(exp_names):\n",
    "    \n",
    "    input_data_path = data_path_root + exp_name + '/'\n",
    "    fName_mean = input_data_path + '3d_' + 'mean_' + fSuff\n",
    "    print(f'Reading:\\nMean error: {fName_mean}')\n",
    "\n",
    "    ds_mean_exp = xr.open_dataset(fName_mean)\n",
    "    if iexp ==0:\n",
    "        ds_mean_ctl = ds_mean_exp"
   ]
  },
  {
   "cell_type": "markdown",
   "id": "d0913e6f-865f-4c07-b43d-d0b90ae04a0d",
   "metadata": {},
   "source": [
    "## Plot diff in global mean and standard deviation"
   ]
  },
  {
   "cell_type": "code",
   "execution_count": null,
   "id": "529ef1ec-1a79-465a-ac37-bd9396af97ce",
   "metadata": {},
   "outputs": [],
   "source": [
    "z0=100\n",
    "\n",
    "(np.abs(ds_mean_exp[var_names[var_name]])-np.abs(ds_mean_ctl[var_names[var_name]])).\\\n",
    "sel(Depth=z0, method='nearest').plot(x=\"X\", y=\"Y\", col=\"time\", col_wrap=4)\n",
    "\n",
    "plt.savefig('x1.png')"
   ]
  },
  {
   "cell_type": "code",
   "execution_count": null,
   "id": "195865be-2b33-4cb8-841b-ab13a0411c4d",
   "metadata": {},
   "outputs": [],
   "source": [
    "for iexp, exp_name in enumerate(exp_names):\n",
    "    \n",
    "    input_data_path = data_path_root + exp_name + '/'\n",
    "    fName_sdev = input_data_path + '3d_' + 'sdev_' + fSuff\n",
    "    print(f'Reading:\\nStd dev error: {fName_sdev}')\n",
    "\n",
    "    ds_sdev_exp = xr.open_dataset(fName_sdev)\n",
    "    if iexp ==0:\n",
    "        ds_sdev_ctl = ds_sdev_exp"
   ]
  },
  {
   "cell_type": "code",
   "execution_count": null,
   "id": "44be8da3-399b-4525-bff0-2d1c49367da7",
   "metadata": {},
   "outputs": [],
   "source": [
    "z0=100\n",
    "\n",
    "(ds_sdev_exp[var_names[var_name]]-ds_sdev_ctl[var_names[var_name]]).\\\n",
    "sel(Depth=z0, method='nearest').plot(x=\"X\", y=\"Y\", col=\"time\", col_wrap=4)\n",
    "\n",
    "plt.savefig('x2.png')"
   ]
  },
  {
   "cell_type": "code",
   "execution_count": null,
   "id": "9cf2afd9-5010-4cde-913c-4d5e4c321342",
   "metadata": {},
   "outputs": [],
   "source": []
  }
 ],
 "metadata": {
  "kernelspec": {
   "display_name": "Python [conda env:base] *",
   "language": "python",
   "name": "conda-base-py"
  },
  "language_info": {
   "codemirror_mode": {
    "name": "ipython",
    "version": 3
   },
   "file_extension": ".py",
   "mimetype": "text/x-python",
   "name": "python",
   "nbconvert_exporter": "python",
   "pygments_lexer": "ipython3",
   "version": "3.12.1"
  }
 },
 "nbformat": 4,
 "nbformat_minor": 5
}
