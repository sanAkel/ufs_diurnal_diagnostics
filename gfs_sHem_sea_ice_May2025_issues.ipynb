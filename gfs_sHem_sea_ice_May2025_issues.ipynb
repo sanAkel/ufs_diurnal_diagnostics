{
  "nbformat": 4,
  "nbformat_minor": 0,
  "metadata": {
    "colab": {
      "provenance": [],
      "authorship_tag": "ABX9TyNWGV/vmF3Xs4NugNGPLxoh",
      "include_colab_link": true
    },
    "kernelspec": {
      "name": "python3",
      "display_name": "Python 3"
    },
    "language_info": {
      "name": "python"
    }
  },
  "cells": [
    {
      "cell_type": "markdown",
      "metadata": {
        "id": "view-in-github",
        "colab_type": "text"
      },
      "source": [
        "<a href=\"https://colab.research.google.com/github/sanAkel/ufs_diurnal_diagnostics/blob/main/gfs_sHem_sea_ice_May2025_issues.ipynb\" target=\"_parent\"><img src=\"https://colab.research.google.com/assets/colab-badge.svg\" alt=\"Open In Colab\"/></a>"
      ]
    },
    {
      "cell_type": "code",
      "execution_count": null,
      "metadata": {
        "collapsed": true,
        "id": "2WPxH1BU4EgA"
      },
      "outputs": [],
      "source": [
        "!pip install cartopy\n",
        "!pip install copernicusmarine"
      ]
    },
    {
      "cell_type": "code",
      "source": [
        "import copernicusmarine\n",
        "\n",
        "import xarray as xr\n",
        "import numpy as np\n",
        "import pandas as pd\n",
        "from datetime import datetime\n",
        "\n",
        "import matplotlib.pyplot as plt\n",
        "import cartopy.crs as ccrs\n",
        "import cartopy.feature as cfeature\n",
        "from cartopy.mpl.gridliner import LONGITUDE_FORMATTER, LATITUDE_FORMATTER"
      ],
      "metadata": {
        "id": "al1z9pTR4cre"
      },
      "execution_count": null,
      "outputs": []
    },
    {
      "cell_type": "code",
      "source": [
        "def get_cmems_data(dsetID, vNames, lon_start, lon_end, lat_start, lat_end, time_start, time_end):\n",
        "\n",
        "  data_request = {\"dataset_id\" : dsetID,\n",
        "    \"longitude\" : [lon_start, lon_end],\n",
        "    \"latitude\" : [lat_start, lat_end],\n",
        "    \"time\" : [time_start, time_end],\n",
        "    \"variables\" : vNames}\n",
        "\n",
        "  cms_data =copernicusmarine.open_dataset(\n",
        "    dataset_id = data_request[\"dataset_id\"],\n",
        "    minimum_longitude = data_request[\"longitude\"][0],\n",
        "    maximum_longitude = data_request[\"longitude\"][1],\n",
        "    minimum_latitude = data_request[\"latitude\"][0],\n",
        "    maximum_latitude = data_request[\"latitude\"][1],\n",
        "    start_datetime = data_request[\"time\"][0],\n",
        "    end_datetime = data_request[\"time\"][1],\n",
        "    variables = data_request[\"variables\"])\n",
        "\n",
        "  return cms_data"
      ],
      "metadata": {
        "id": "LgLkJxmc5Cb2"
      },
      "execution_count": null,
      "outputs": []
    },
    {
      "cell_type": "code",
      "source": [
        "def plot_subplot(figh, iPlot, ds, lon_name, lat_name, plot_title, nPlots=3):\n",
        "\n",
        "  ax = figh.add_subplot(1,nPlots,iPlot, projection=ccrs.PlateCarree(central_longitude=0.0))\n",
        "  ax.coastlines(color='k', alpha=0.9)\n",
        "  ax.add_feature(cfeature.LAND, zorder=10, edgecolor='k', alpha=0.9)\n",
        "\n",
        "  im = ds.plot(ax=ax, x=lon_name, y=lat_name, vmin=0, vmax=1, cmap='gist_ncar',\n",
        "               transform=ccrs.PlateCarree(),\n",
        "               add_labels=False, add_colorbar=False)\n",
        "\n",
        "  cax = ax.inset_axes([1.01, 0.01, 0.01, 1.5])\n",
        "  figh.colorbar(im, cax=cax, orientation='vertical', ticks=np.arange(0., 1.1, 0.1))\n",
        "  cax.tick_params(labelsize=4, rotation=0)\n",
        "\n",
        "  ax.set_title(plot_title, fontsize=6)\n",
        "  ax.set_extent([-180, 180, -40, -90], ccrs.PlateCarree())\n",
        "\n",
        "  gl = ax.gridlines(draw_labels=True)\n",
        "  gl.top_labels = False\n",
        "  gl.right_labels = False\n",
        "  gl.xformatter = LONGITUDE_FORMATTER\n",
        "  gl.yformatter = LATITUDE_FORMATTER\n",
        "  gl.xlabel_style = {'size': 4}\n",
        "  gl.ylabel_style = {'size': 4}"
      ],
      "metadata": {
        "id": "Pa_2MeHoW1O4"
      },
      "execution_count": null,
      "outputs": []
    },
    {
      "cell_type": "code",
      "source": [
        "# OSTIA SST and Sea Ice Conc\n",
        "sst={'dsetID':'METOFFICE-GLO-SST-L4-NRT-OBS-SST-V2',\n",
        "     'vNames':['analysed_sst'],\n",
        "     'varName': 'SST'}\n",
        "\n",
        "iceCov={'dsetID': 'METOFFICE-GLO-SST-L4-NRT-OBS-SST-V2',\n",
        "        'vNames': ['sea_ice_fraction'],\n",
        "        'varName': 'Sea Ice Concentration'}"
      ],
      "metadata": {
        "id": "lTp6FtkA5HRb"
      },
      "execution_count": null,
      "outputs": []
    },
    {
      "cell_type": "code",
      "source": [
        "# Set Copernicus credentials\n",
        "CMEMS_username, CMEMS_passwd = [\"sakella\", \"HbFPyP9M\"]\n",
        "copernicusmarine.login(username=CMEMS_username, password=CMEMS_passwd)"
      ],
      "metadata": {
        "id": "bbuvqT965-1P"
      },
      "execution_count": null,
      "outputs": []
    },
    {
      "cell_type": "code",
      "source": [
        "lon_bounds = [-180, 180]\n",
        "lat_bounds = [-90, -40]\n",
        "date_bounds = [datetime(2025, 4, 20), datetime(2025, 4, 30)]"
      ],
      "metadata": {
        "id": "UXDxTt966gbr"
      },
      "execution_count": null,
      "outputs": []
    },
    {
      "cell_type": "code",
      "source": [
        "# OSTIA sea ice concentration\n",
        "\n",
        "#ostia_sst = get_cmems_data(sst['dsetID'], sst['vNames'],\n",
        "#                        lon_bounds[0], lon_bounds[1],\n",
        "#                        lat_bounds[0], lat_bounds[1],\n",
        "#                        date_bounds[0].strftime('%Y-%m-%d'),\n",
        "#                        date_bounds[1].strftime('%Y-%m-%d'))\n",
        "\n",
        "ostia_ice = get_cmems_data(iceCov['dsetID'], iceCov['vNames'],\n",
        "                           lon_bounds[0], lon_bounds[1],\n",
        "                           lat_bounds[0], lat_bounds[1],\n",
        "                           date_bounds[0].strftime('%Y-%m-%d'),\n",
        "                           date_bounds[1].strftime('%Y-%m-%d'))\n",
        "\n",
        "# save to local file instead of cloud data access/plot- which is SLOW!\n",
        "ostia_ice.to_netcdf('ostia_ice.nc')\n",
        "ds_ostia_ice = xr.open_dataset('ostia_ice.nc')"
      ],
      "metadata": {
        "collapsed": true,
        "id": "0PvWWjVv6E7T"
      },
      "execution_count": null,
      "outputs": []
    },
    {
      "cell_type": "code",
      "source": [
        "# GDAS (ice concentration)\n",
        "\n",
        "url_base = 'https://noaa-gfs-bdp-pds.s3.amazonaws.com/gdas.'\n",
        "fName = 'gdas.t00z.sfcanl.nc'\n",
        "HR = '00' # 0 UTC"
      ],
      "metadata": {
        "id": "bnAZPGpyHf87"
      },
      "execution_count": null,
      "outputs": []
    },
    {
      "cell_type": "code",
      "source": [
        "data_dates = pd.date_range(start=date_bounds[0], end=date_bounds[1], freq='D')\n",
        "for dd in data_dates:\n",
        "  print(\"Plotting/comparing data for:\\t\", dd.strftime(\"%Y%m%d\"))\n",
        "  url = url_base + dd.strftime(\"%Y%m%d\") + f\"/{HR}/atmos/{fName}\"\n",
        "  fName_save = \"gdas_\"+ dd.strftime(\"%Y%m%d\") + \".nc\"\n",
        "  #print(url, fName_save)\n",
        "  !wget {url} -O {fName_save}\n",
        "\n",
        "  ds_gdas = xr.open_dataset(fName_save, decode_times=False)\n",
        "\n",
        "  plot_date = dd.strftime(\"%Y-%m-%d\")\n",
        "  fig = plt.figure(figsize=[10,12], dpi=200)\n",
        "\n",
        "  plot_subplot(fig, 1, ds_gdas.icec, 'grid_xt', 'grid_yt', '{} 00UTC GDAS'.format(plot_date), nPlots=2)\n",
        "  plot_subplot(fig, 2, ds_ostia_ice.sel(time=plot_date).sea_ice_fraction, 'longitude', 'latitude', '{} OSTIA'.format(plot_date), nPlots=2)\n",
        "\n",
        "  figName = plot_date + '_GDAS_OSTIA.png'\n",
        "  fig.savefig(figName, bbox_inches='tight')\n",
        "  print(f'Saved... {figName}')"
      ],
      "metadata": {
        "id": "oAgDMpwreifq"
      },
      "execution_count": null,
      "outputs": []
    },
    {
      "cell_type": "code",
      "source": [],
      "metadata": {
        "id": "l7ZjrV1NPBNB"
      },
      "execution_count": null,
      "outputs": []
    }
  ]
}