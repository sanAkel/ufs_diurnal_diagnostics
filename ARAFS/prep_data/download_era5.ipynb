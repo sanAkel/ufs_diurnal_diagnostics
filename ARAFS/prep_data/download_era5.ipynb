{
  "nbformat": 4,
  "nbformat_minor": 0,
  "metadata": {
    "colab": {
      "provenance": [],
      "mount_file_id": "1B74tlUax2Zju6SQfbvqy9Tj5UHvjTxXR",
      "authorship_tag": "ABX9TyNTf4hk1W/ZmmVY70VqGNS4",
      "include_colab_link": true
    },
    "kernelspec": {
      "name": "python3",
      "display_name": "Python 3"
    },
    "language_info": {
      "name": "python"
    }
  },
  "cells": [
    {
      "cell_type": "markdown",
      "metadata": {
        "id": "view-in-github",
        "colab_type": "text"
      },
      "source": [
        "<a href=\"https://colab.research.google.com/github/sanAkel/ufs_diurnal_diagnostics/blob/main/ARAFS/prep_data/download_era5.ipynb\" target=\"_parent\"><img src=\"https://colab.research.google.com/assets/colab-badge.svg\" alt=\"Open In Colab\"/></a>"
      ]
    },
    {
      "cell_type": "markdown",
      "source": [
        "# Download ERA5 single level/surface fields\n",
        "- Use [CDS](https://cds.climate.copernicus.eu/); doi: https://doi.org/10.24381/cds.adbb2d47\n",
        "- See [CDS API documentation.](https://cds.climate.copernicus.eu/how-to-api)"
      ],
      "metadata": {
        "id": "gBzZuVIQDqJt"
      }
    },
    {
      "cell_type": "code",
      "source": [
        "!pip install \"cdsapi>=0.7.4\""
      ],
      "metadata": {
        "id": "XfD9WEhWEpQj"
      },
      "execution_count": null,
      "outputs": []
    },
    {
      "cell_type": "code",
      "execution_count": null,
      "metadata": {
        "id": "7FuVZIiuDoeR"
      },
      "outputs": [],
      "source": [
        "import cdsapi\n",
        "\n",
        "# CDS Settings\n",
        "\n",
        "# API Key\n",
        "url = 'https://cds.climate.copernicus.eu/api'\n",
        "key = 'ff04c0db-bf46-4736-a222-94ffaaee1908'"
      ]
    },
    {
      "cell_type": "markdown",
      "source": [
        "# Case 1:\n",
        "1. file 1: Dec 20- 31, 2022.\n",
        "2. file 2: Jan 01- 20, 2023."
      ],
      "metadata": {
        "id": "KaZ2ZX-2GvmN"
      }
    },
    {
      "cell_type": "code",
      "source": [
        "# file 1\n",
        "dataset = \"reanalysis-era5-single-levels\"\n",
        "\n",
        "request = {\n",
        "    \"product_type\": [\n",
        "        \"reanalysis\"],\n",
        "    \"variable\": [\n",
        "        \"mean_sea_level_pressure\",\n",
        "        \"sea_surface_temperature\",\n",
        "        \"total_precipitation\"\n",
        "    ],\n",
        "    \"year\": [\"2022\"],\n",
        "    \"month\": [\"12\"],\n",
        "    \"day\": [\n",
        "        \"20\", \"21\", \"22\",\n",
        "        \"23\", \"24\", \"25\",\n",
        "        \"26\", \"27\", \"28\",\n",
        "        \"29\", \"30\", \"31\"\n",
        "    ],\n",
        "    \"time\": [\n",
        "        \"00:00\", \"01:00\", \"02:00\",\n",
        "        \"03:00\", \"04:00\", \"05:00\",\n",
        "        \"06:00\", \"07:00\", \"08:00\",\n",
        "        \"09:00\", \"10:00\", \"11:00\",\n",
        "        \"12:00\", \"13:00\", \"14:00\",\n",
        "        \"15:00\", \"16:00\", \"17:00\",\n",
        "        \"18:00\", \"19:00\", \"20:00\",\n",
        "        \"21:00\", \"22:00\", \"23:00\"\n",
        "    ],\n",
        "    \"data_format\": \"netcdf\",\n",
        "    \"download_format\": \"unarchived\",\n",
        "    \"area\": [75, -180, 10, -90]\n",
        "}\n",
        "\n",
        "client = cdsapi.Client(url, key)\n",
        "client.retrieve(dataset, request).download()"
      ],
      "metadata": {
        "id": "TtN6SrvTDpHI"
      },
      "execution_count": null,
      "outputs": []
    },
    {
      "cell_type": "code",
      "source": [
        "# file 2\n",
        "\n",
        "# file 1\n",
        "dataset = \"reanalysis-era5-single-levels\"\n",
        "\n",
        "request = {\n",
        "    \"product_type\": [\n",
        "        \"reanalysis\"],\n",
        "    \"variable\": [\n",
        "        \"mean_sea_level_pressure\",\n",
        "        \"sea_surface_temperature\",\n",
        "        \"total_precipitation\"\n",
        "    ],\n",
        "    \"year\": [\"2023\"],\n",
        "    \"month\": [\"01\"],\n",
        "    \"day\": [\n",
        "        \"01\", \"02\", \"03\",\n",
        "        \"04\", \"05\", \"06\",\n",
        "        \"07\", \"08\", \"09\",\n",
        "        \"10\", \"11\", \"12\",\n",
        "        \"13\", \"14\", \"15\",\n",
        "        \"16\", \"17\", \"18\",\n",
        "        \"19\", \"20\"\n",
        "    ],\n",
        "    \"time\": [\n",
        "        \"00:00\", \"01:00\", \"02:00\",\n",
        "        \"03:00\", \"04:00\", \"05:00\",\n",
        "        \"06:00\", \"07:00\", \"08:00\",\n",
        "        \"09:00\", \"10:00\", \"11:00\",\n",
        "        \"12:00\", \"13:00\", \"14:00\",\n",
        "        \"15:00\", \"16:00\", \"17:00\",\n",
        "        \"18:00\", \"19:00\", \"20:00\",\n",
        "        \"21:00\", \"22:00\", \"23:00\"\n",
        "    ],\n",
        "    \"data_format\": \"netcdf\",\n",
        "    \"download_format\": \"unarchived\",\n",
        "    \"area\": [75, -180, 10, -90]\n",
        "}\n",
        "\n",
        "client = cdsapi.Client(url, key)\n",
        "client.retrieve(dataset, request).download()"
      ],
      "metadata": {
        "id": "KiG2uB5SGt_7"
      },
      "execution_count": null,
      "outputs": []
    },
    {
      "cell_type": "code",
      "source": [
        "!unzip /content/514*.zip\n",
        "!mkdir -p data_Dec2022\n",
        "!mv /content/*.nc /content/data_Dec2022"
      ],
      "metadata": {
        "id": "ht13IJyJEylM"
      },
      "execution_count": null,
      "outputs": []
    },
    {
      "cell_type": "code",
      "source": [
        "!unzip /content/589*.zip\n",
        "!mkdir -p data_Jan2023\n",
        "!mv /content/*.nc /content/data_Jan2023"
      ],
      "metadata": {
        "id": "0r2AhIsrI2V9"
      },
      "execution_count": null,
      "outputs": []
    },
    {
      "cell_type": "code",
      "source": [
        "import xarray as xr"
      ],
      "metadata": {
        "id": "0Ui9mgYwHeCq"
      },
      "execution_count": null,
      "outputs": []
    },
    {
      "cell_type": "code",
      "source": [
        "fName = 'data_stream-oper_stepType-instant.nc'\n",
        "f1 = xr.open_dataset('/content/data_Dec2022/'+fName)\n",
        "f2 = xr.open_dataset('/content/data_Jan2023/'+fName)\n",
        "\n",
        "f = xr.concat([f1, f2], dim='time')\n",
        "f.to_netcdf('/content/era5_skt_mslp_case1.nc')"
      ],
      "metadata": {
        "id": "-K-RjWmdIE45"
      },
      "execution_count": null,
      "outputs": []
    },
    {
      "cell_type": "code",
      "source": [
        "fName = 'data_stream-oper_stepType-accum.nc'\n",
        "g1 = xr.open_dataset('/content/data_Dec2022/'+fName)\n",
        "g2 = xr.open_dataset('/content/data_Jan2023/'+fName)\n",
        "\n",
        "g = xr.concat([g1, g2], dim='time')\n",
        "g.to_netcdf('/content/era5_total_precip_case1.nc')"
      ],
      "metadata": {
        "id": "wXaaNWzSIUGM"
      },
      "execution_count": null,
      "outputs": []
    },
    {
      "cell_type": "code",
      "source": [
        "# latitude starts at north pole!\n",
        "fNames = ['era5_skt_mslp_case1.nc', 'era5_total_precip_case1.nc']\n",
        "for fName in fNames:\n",
        "  ds = xr.open_dataset('/content/'+fName)\n",
        "  ds = ds.reindex(latitude=ds.latitude[::-1]) # flip it.\n",
        "  ds.to_netcdf('/content/'+fName)"
      ],
      "metadata": {
        "id": "dVatPQDNK3pw"
      },
      "execution_count": null,
      "outputs": []
    },
    {
      "cell_type": "code",
      "source": [
        "drive_path = '/content/drive/MyDrive/UFS-no-RTOFS/AR/work/data/'\n",
        "\n",
        "!mv /content/era5_skt_mslp_case1.nc {drive_path}\n",
        "!mv /content/era5_total_precip_case1.nc {drive_path}"
      ],
      "metadata": {
        "id": "SFdT_C3TLJhH"
      },
      "execution_count": null,
      "outputs": []
    },
    {
      "cell_type": "code",
      "source": [],
      "metadata": {
        "id": "ARy-N3UALTlc"
      },
      "execution_count": null,
      "outputs": []
    }
  ]
}