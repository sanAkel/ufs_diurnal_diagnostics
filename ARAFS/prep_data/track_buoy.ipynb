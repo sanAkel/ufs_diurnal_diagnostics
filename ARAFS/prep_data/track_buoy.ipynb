{
  "nbformat": 4,
  "nbformat_minor": 0,
  "metadata": {
    "colab": {
      "provenance": [],
      "mount_file_id": "1gqM43SIAOCEFUIvc6jqP43HDK_FnDiIo",
      "authorship_tag": "ABX9TyOOg+gsNHoZUddt7pGmu8TQ",
      "include_colab_link": true
    },
    "kernelspec": {
      "name": "python3",
      "display_name": "Python 3"
    },
    "language_info": {
      "name": "python"
    }
  },
  "cells": [
    {
      "cell_type": "markdown",
      "metadata": {
        "id": "view-in-github",
        "colab_type": "text"
      },
      "source": [
        "<a href=\"https://colab.research.google.com/github/sanAkel/ufs_diurnal_diagnostics/blob/main/ARAFS/prep_data/track_buoy.ipynb\" target=\"_parent\"><img src=\"https://colab.research.google.com/assets/colab-badge.svg\" alt=\"Open In Colab\"/></a>"
      ]
    },
    {
      "cell_type": "code",
      "source": [
        "!pip install cartopy"
      ],
      "metadata": {
        "collapsed": true,
        "id": "DjZPLkCONtUp"
      },
      "execution_count": null,
      "outputs": []
    },
    {
      "cell_type": "code",
      "source": [
        "import glob as glob\n",
        "from datetime import date, timedelta\n",
        "\n",
        "import xarray as xr\n",
        "import numpy as np\n",
        "import pandas as pd\n",
        "\n",
        "import matplotlib.pyplot as plt\n",
        "%matplotlib inline\n",
        "\n",
        "import cartopy.crs as ccrs\n",
        "import cartopy.feature as cfeature\n",
        "from cartopy.mpl.gridliner import LONGITUDE_FORMATTER, LATITUDE_FORMATTER"
      ],
      "metadata": {
        "id": "_thhOfFoNDX6"
      },
      "execution_count": null,
      "outputs": []
    },
    {
      "cell_type": "code",
      "metadata": {
        "id": "f15d8f45"
      },
      "source": [
        "def load_and_select_data(date):\n",
        "\n",
        "  plot_date = pd.to_datetime(date)\n",
        "  pdy = plot_date.strftime('%Y%m%d')\n",
        "  iquam_buoy_fName = data_path + 'iquam_buoy_' + pdy + '*.nc'\n",
        "\n",
        "  try:\n",
        "    buoy_file = glob.glob(iquam_buoy_fName)[0]\n",
        "    #print(f\"Loading buoy data from: {buoy_file}\")\n",
        "    ds_buoy = xr.open_dataset(buoy_file)\n",
        "    return ds_buoy\n",
        "  except IndexError:\n",
        "    print(f\"No buoy data found for date: {date}\")\n",
        "    return None, None\n",
        "  except FileNotFoundError:\n",
        "    print(f\"Buoy file not found for date: {date}\")\n",
        "    return None, None"
      ],
      "execution_count": null,
      "outputs": []
    },
    {
      "cell_type": "markdown",
      "source": [
        "# Inputs"
      ],
      "metadata": {
        "id": "8dPaxUavY1q7"
      }
    },
    {
      "cell_type": "code",
      "execution_count": null,
      "metadata": {
        "id": "F_qWtw_BMJz0"
      },
      "outputs": [],
      "source": [
        "data_path = '/content/drive/MyDrive/UFS-no-RTOFS/AR/work/data/'\n",
        "\n",
        "# ERA5\n",
        "era5_precip_fName   = data_path + 'era5_total_precip_case1.nc'\n",
        "era5_sst_mslp_fName = data_path + 'era5_skt_mslp_case1.nc'\n",
        "\n",
        "# CMS\n",
        "ostia_sst_fName = data_path + 'SST_case1.nc'\n",
        "cns_sss_fName   = data_path + 'SSS_case1.nc'\n",
        "aviso_ssh_fName = data_path + 'aviso_ssh_case1.nc'"
      ]
    },
    {
      "cell_type": "code",
      "source": [
        "# start and end dates of `case 1`:\n",
        "start_date, end_date = ['2022-12-20', '2022-12-31']\n",
        "\n",
        "lon_min, lon_max = [-179, -100] # deg West\n",
        "lat_min, lat_max = [10, 75] # deg North"
      ],
      "metadata": {
        "id": "ho5kkXtHP4Ic"
      },
      "execution_count": null,
      "outputs": []
    },
    {
      "cell_type": "markdown",
      "source": [
        "# ERA5 accumulated rainfall"
      ],
      "metadata": {
        "id": "7XfXp3lQgpPU"
      }
    },
    {
      "cell_type": "code",
      "source": [
        "era5_precip = xr.open_dataset(era5_precip_fName)\n",
        "plot_date = pd.to_datetime(start_date)\n",
        "\n",
        "while plot_date <= pd.to_datetime(end_date):\n",
        "  #print(plot_date)\n",
        "  today_precip = era5_precip.sel(valid_time=plot_date, method='nearest').isel(time=1)\n",
        "\n",
        "  if plot_date == pd.to_datetime(start_date):\n",
        "    total_precip = today_precip.tp\n",
        "  elif plot_date == pd.to_datetime(end_date):\n",
        "    total_precip = total_precip + today_precip.tp # last day\n",
        "    #total_precip.plot()\n",
        "  else:\n",
        "    precip_today = today_precip.tp\n",
        "    total_precip += precip_today\n",
        "\n",
        "  plot_date = plot_date + timedelta(days=1)"
      ],
      "metadata": {
        "id": "_mei7_MEgt_L"
      },
      "execution_count": null,
      "outputs": []
    },
    {
      "cell_type": "markdown",
      "source": [
        "# Plot\n",
        "- ERA5 accumulated precipitation and buoy locations"
      ],
      "metadata": {
        "id": "kIRDKpq2Y6vO"
      }
    },
    {
      "cell_type": "code",
      "source": [
        "plot_date = pd.to_datetime(start_date)\n",
        "end_date = pd.to_datetime(end_date)\n",
        "\n",
        "fig = plt.figure(figsize=(12, 10))\n",
        "ax = fig.add_subplot(1, 1, 1, projection=ccrs.PlateCarree())\n",
        "\n",
        "# Add coastlines and land features\n",
        "ax.coastlines(color='black', linewidth=1)\n",
        "ax.add_feature(cfeature.LAND, edgecolor='black', alpha=0.75)\n",
        "\n",
        "legend_handles = []\n",
        "legend_labels = []\n",
        "\n",
        "while plot_date <= end_date:\n",
        "    ds_buoy = load_and_select_data(plot_date)\n",
        "    scatter = ax.scatter(ds_buoy.lon, ds_buoy.lat, s=16, label=plot_date.strftime('%Y-%m-%d'), transform= ccrs.PlateCarree(), zorder=100)\n",
        "    legend_handles.append(scatter)\n",
        "    legend_labels.append(plot_date.strftime('%Y-%m-%d'))\n",
        "\n",
        "    if plot_date == end_date:\n",
        "      total_precip.plot(ax=ax, vmin=0, vmax=0.01, cmap='Greys', add_colorbar=False, transform=ccrs.PlateCarree(), zorder=0)\n",
        "\n",
        "    plot_date = plot_date + timedelta(days=1)\n",
        "\n",
        "# Add gridlines\n",
        "gl = ax.gridlines(draw_labels=True, zorder=0)\n",
        "gl.top_labels = False\n",
        "gl.right_labels = False\n",
        "gl.xformatter = LONGITUDE_FORMATTER\n",
        "gl.yformatter = LATITUDE_FORMATTER\n",
        "gl.xlabel_style = {'size': 10}\n",
        "gl.ylabel_style = {'size': 10}\n",
        "\n",
        "# Create a single legend with handles and labels collected in the loop\n",
        "ax.legend(legend_handles, legend_labels, ncol=1, loc='upper left', bbox_to_anchor=(1, 1), fontsize=8)\n",
        "ax.set_extent([lon_min, lon_max, lat_min, lat_max], crs=ccrs.PlateCarree())\n",
        "ax.set_title('ERA5 accumulated precipitation and drifting buoy locations')\n",
        "\n",
        "plt.show()"
      ],
      "metadata": {
        "id": "7Byo6mInOvoo"
      },
      "execution_count": null,
      "outputs": []
    },
    {
      "cell_type": "markdown",
      "source": [
        "# Pick a region of interest (ROI) and find how many (unique) buoys are there in that region."
      ],
      "metadata": {
        "id": "vFtkcXehKbFb"
      }
    },
    {
      "cell_type": "code",
      "source": [
        "  lon_roi = [-170, -160]\n",
        "  lat_roi = [40, 42]"
      ],
      "metadata": {
        "id": "b7H1vwIagM2e"
      },
      "execution_count": null,
      "outputs": []
    },
    {
      "cell_type": "code",
      "source": [
        "ds_roi = None\n",
        "\n",
        "plot_date = pd.to_datetime(start_date)\n",
        "end_date = pd.to_datetime(end_date)\n",
        "\n",
        "while plot_date <= end_date:\n",
        "  print(plot_date)\n",
        "  ds_buoy = load_and_select_data(plot_date)\n",
        "\n",
        "  ds_filter = ds_buoy.where( (ds_buoy.lon >= lon_roi[0]) & (ds_buoy.lon <= lon_roi[1]) & (ds_buoy.lat>= lat_roi[0]) & (ds_buoy.lat<=lat_roi[1]))\n",
        "  ds_filter = ds_filter.dropna(dim='obs')\n",
        "\n",
        "  if ds_filter.sizes['obs'] > 0:\n",
        "    if ds_roi is None:\n",
        "      ds_roi = ds_filter\n",
        "    else:\n",
        "      ds_roi = xr.concat([ds_roi, ds_filter], dim='obs')\n",
        "\n",
        "  plot_date = plot_date + timedelta(days=1)\n",
        "\n",
        "if ds_roi is not None:\n",
        "    print(\"Concatenated dataset ds_roi created.\")\n",
        "    display(ds_roi)\n",
        "else:\n",
        "    print(\"No data found within the specified region of interest.\")"
      ],
      "metadata": {
        "id": "Tu82Iy7Gki63"
      },
      "execution_count": null,
      "outputs": []
    },
    {
      "cell_type": "markdown",
      "source": [
        "# Print WMO ID of buoy(s) found in the region"
      ],
      "metadata": {
        "id": "wTWVz72GKshd"
      }
    },
    {
      "cell_type": "code",
      "source": [
        "ds_roi.pId.values"
      ],
      "metadata": {
        "id": "FaSJUB06lEXx"
      },
      "execution_count": null,
      "outputs": []
    },
    {
      "cell_type": "markdown",
      "source": [
        "# Replot (as above) but only with those buoy(s) in the region of interest."
      ],
      "metadata": {
        "id": "U83M4Z8YK6n9"
      }
    },
    {
      "cell_type": "code",
      "source": [
        "fig = plt.figure(figsize=(12, 10))\n",
        "ax = fig.add_subplot(1, 1, 1, projection=ccrs.PlateCarree())\n",
        "\n",
        "# Add coastlines and land features\n",
        "ax.coastlines(color='black', linewidth=1)\n",
        "ax.add_feature(cfeature.LAND, edgecolor='black', alpha=0.75)\n",
        "\n",
        "total_precip.plot(ax=ax, vmin=0, vmax=0.01, cmap='Greys', add_colorbar=False, transform=ccrs.PlateCarree(), zorder=0)\n",
        "\n",
        "scatter = ax.scatter(ds_roi.lon, ds_roi.lat, s=16, c='r', transform=ccrs.PlateCarree(), zorder=100)\n",
        "\n",
        "# Add gridlines\n",
        "gl = ax.gridlines(draw_labels=True, zorder=0)\n",
        "gl.top_labels = False\n",
        "gl.right_labels = False\n",
        "gl.xformatter = LONGITUDE_FORMATTER\n",
        "gl.yformatter = LATITUDE_FORMATTER\n",
        "gl.xlabel_style = {'size': 10}\n",
        "gl.ylabel_style = {'size': 10}\n",
        "\n",
        "# Create a single legend with handles and labels collected in the loop\n",
        "ax.legend(legend_handles, legend_labels, ncol=1, loc='upper left', bbox_to_anchor=(1, 1), fontsize=8)\n",
        "ax.set_extent([lon_min, lon_max, lat_min, lat_max], crs=ccrs.PlateCarree())\n",
        "ax.set_title('ERA5 accumulated precipitation and drifting buoy locations')\n",
        "\n",
        "plt.show()"
      ],
      "metadata": {
        "id": "Sy8_hJmQmM4o"
      },
      "execution_count": null,
      "outputs": []
    },
    {
      "cell_type": "markdown",
      "source": [
        "# Plot time-series of:\n",
        "- SST (buoy).\n",
        "- Precipitation (ERA5)."
      ],
      "metadata": {
        "id": "rwv4JJFNLLBP"
      }
    },
    {
      "cell_type": "code",
      "source": [
        "# ERA5 SST (OSTIA SST) and MSLP\n",
        "era5_sst_mslp = xr.open_dataset(era5_sst_mslp_fName).isel(time=slice(1, None))"
      ],
      "metadata": {
        "id": "VMQRqveRYamj"
      },
      "execution_count": null,
      "outputs": []
    },
    {
      "cell_type": "code",
      "source": [
        "#print(ds_roi.pId.values)\n",
        "pidx = '2101829'\n",
        "ds_roi.to_netcdf(f'buoy_WMOid_{pidx}.nc')\n",
        "\n",
        "# Create a time series plot of SST from ds_roi and add a second y-axis for precipitation\n",
        "\n",
        "# Create datetime objects from the year, month, day, hour, and minute\n",
        "times = pd.to_datetime({\n",
        "    'year': ds_roi['year'].values.astype(int),\n",
        "    'month': ds_roi['month'].values.astype(int),\n",
        "    'day': ds_roi['day'].values.astype(int),\n",
        "    'hour': ds_roi['hour'].values.astype(int),\n",
        "    'minute': ds_roi['minute'].values.astype(int)\n",
        "})\n",
        "\n",
        "era5_rain_buoy_loc = np.zeros(len(times))\n",
        "era5_sst_buoy_loc = np.zeros(len(times))\n",
        "\n",
        "# ERA5 precipitation and SST (not SKT) at buoy location\n",
        "for iT, obs_t in enumerate(times):\n",
        "  #print(obs_t.strftime('%Y-%m-%d %H:%M'))\n",
        "  x1=era5_precip.sel(valid_time=obs_t.strftime('%Y-%m-%d %H:%M'), method='nearest').isel(time=1).sel(latitude=slice(lat_roi[0], lat_roi[1]), longitude=slice(lon_roi[0], lon_roi[1]))\n",
        "  era5_rain_buoy_loc[iT] = x1.tp.mean(dim=('latitude', 'longitude'))\n",
        "\n",
        "  y1 = era5_sst_mslp.sel(valid_time=obs_t.strftime('%Y-%m-%d %H:%M'), method='nearest').sel(latitude=slice(lat_roi[0], lat_roi[1]), longitude=slice(lon_roi[0], lon_roi[1]))\n",
        "  era5_sst_buoy_loc[iT] = y1.sst.mean(dim=('latitude', 'longitude'))\n",
        "\n",
        "fig, ax1 = plt.subplots(figsize=(12, 6))\n",
        "\n",
        "ax1.plot(times, ds_roi.sst - 273.15, linestyle='-', c='b', marker='None', label='SST')\n",
        "ax1.plot(times, era5_sst_buoy_loc-273.15, linestyle='-', c='k', marker='x', label='ERA5 SST')\n",
        "ax1.set_ylabel('SST ($^\\circ$C)', color='b')\n",
        "ax1.set_xlabel('Date')\n",
        "ax1.grid(True)\n",
        "ax1.tick_params(axis='y', colors='b')\n",
        "\n",
        "# Create a second y-axis\n",
        "ax2 = ax1.twinx()\n",
        "\n",
        "# Plot the hurricane track pressure on the second y-axis\n",
        "ax2.plot(times, era5_rain_buoy_loc, linestyle='-', color='k', marker='x', label='rain')\n",
        "ax2.set_ylabel('ERA5 total precip (m)', color='k')\n",
        "ax2.tick_params(axis='y', colors='k')\n",
        "\n",
        "# Add legends for both axes\n",
        "ax1.legend(loc='upper left')\n",
        "ax2.legend(loc='upper right')\n",
        "ax1.set_title(f'WMO ID {pidx}')"
      ],
      "metadata": {
        "id": "1r1GhtgDp7xT"
      },
      "execution_count": null,
      "outputs": []
    },
    {
      "cell_type": "code",
      "source": [],
      "metadata": {
        "id": "TPwWxwZAgBpX"
      },
      "execution_count": null,
      "outputs": []
    }
  ]
}