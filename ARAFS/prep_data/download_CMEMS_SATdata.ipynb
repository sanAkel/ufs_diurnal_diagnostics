{
  "nbformat": 4,
  "nbformat_minor": 0,
  "metadata": {
    "colab": {
      "provenance": [],
      "mount_file_id": "1lCU74XXqH02fggtmvG7iIqt-3IED8WI4",
      "authorship_tag": "ABX9TyMWO8OQzJeCMIjg+TVV/tyq",
      "include_colab_link": true
    },
    "kernelspec": {
      "name": "python3",
      "display_name": "Python 3"
    },
    "language_info": {
      "name": "python"
    }
  },
  "cells": [
    {
      "cell_type": "markdown",
      "metadata": {
        "id": "view-in-github",
        "colab_type": "text"
      },
      "source": [
        "<a href=\"https://colab.research.google.com/github/sanAkel/ufs_diurnal_diagnostics/blob/main/ARAFS/prep_data/download_CMEMS_SATdata.ipynb\" target=\"_parent\"><img src=\"https://colab.research.google.com/assets/colab-badge.svg\" alt=\"Open In Colab\"/></a>"
      ]
    },
    {
      "cell_type": "markdown",
      "source": [
        "# Downlod data from the Copernicus Marine Service (CMS).\n",
        "- Best to check following URLs to make sure dataset IDs are correct.\n",
        "  - [OSTIA Sea Surface Temperature (SST).](https://data.marine.copernicus.eu/product/SEALEVEL_GLO_PHY_L4_NRT_008_046/services)\n",
        "  - [AVISO Sea Surface Height (SSH).](https://data.marine.copernicus.eu/product/SEALEVEL_GLO_PHY_L4_NRT_008_046/services)\n",
        "  - [CNS Sea Surface Salinity (SSS).](https://data.marine.copernicus.eu/product/MULTIOBS_GLO_PHY_S_SURFACE_MYNRT_015_013/description)"
      ],
      "metadata": {
        "id": "dqp__II7s_hU"
      }
    },
    {
      "cell_type": "markdown",
      "source": [
        "# Inputs\n",
        "\n",
        "- Start and end dates of `case 1`: Dec, 2022- Jan, 2023.\n",
        "- CMS `user name` and `password`; create it if needed.\n",
        "- Names/details of CMEMS datasets may need edits; see below."
      ],
      "metadata": {
        "id": "26OkaClEwlb_"
      }
    },
    {
      "cell_type": "code",
      "execution_count": null,
      "metadata": {
        "collapsed": true,
        "id": "Gks2X6uTr8aK"
      },
      "outputs": [],
      "source": [
        "!pip install --upgrade copernicusmarine"
      ]
    },
    {
      "cell_type": "code",
      "source": [
        "import os\n",
        "\n",
        "import copernicusmarine\n",
        "\n",
        "import numpy as np\n",
        "import pandas as pd\n",
        "import xarray as xr\n",
        "\n",
        "from datetime import date, timedelta"
      ],
      "metadata": {
        "id": "srFzy5uvsAaO"
      },
      "execution_count": null,
      "outputs": []
    },
    {
      "cell_type": "code",
      "source": [
        "def get_cmems_data(dsetID, vNames, lon_start, lon_end, lat_start, lat_end, time_start, time_end):\n",
        "\n",
        "  data_request = {\"dataset_id\" : dsetID,\n",
        "    \"longitude\" : [lon_start, lon_end],\n",
        "    \"latitude\" : [lat_start, lat_end],\n",
        "    \"time\" : [time_start, time_end],\n",
        "    \"variables\" : vNames}\n",
        "\n",
        "  cms_data =copernicusmarine.open_dataset(\n",
        "    dataset_id = data_request[\"dataset_id\"],\n",
        "    minimum_longitude = data_request[\"longitude\"][0],\n",
        "    maximum_longitude = data_request[\"longitude\"][1],\n",
        "    minimum_latitude = data_request[\"latitude\"][0],\n",
        "    maximum_latitude = data_request[\"latitude\"][1],\n",
        "    start_datetime = data_request[\"time\"][0],\n",
        "    end_datetime = data_request[\"time\"][1],\n",
        "    variables = data_request[\"variables\"])\n",
        "\n",
        "  #print(cms_data)\n",
        "\n",
        "  return cms_data"
      ],
      "metadata": {
        "id": "QAXQe3O5tKIg"
      },
      "execution_count": null,
      "outputs": []
    },
    {
      "cell_type": "code",
      "source": [
        "# Start and end dates of `case 1`\n",
        "\n",
        "start_date = date(2022, 12, 20)\n",
        "end_date = date(2023, 1, 20)\n",
        "\n",
        "lon_min, lon_max = [-179, -90] # deg West\n",
        "lat_min, lat_max = [10, 75] # deg North"
      ],
      "metadata": {
        "id": "kDpIYl6Rxowd"
      },
      "execution_count": null,
      "outputs": []
    },
    {
      "cell_type": "code",
      "source": [
        "# Set Copernicus credentials\n",
        "CMEMS_username, CMEMS_passwd = [\"sakella\", \"HbFPyP9M\"]\n",
        "copernicusmarine.login(username=CMEMS_username, password=CMEMS_passwd)"
      ],
      "metadata": {
        "id": "4_3WfG5qsC8C"
      },
      "execution_count": null,
      "outputs": []
    },
    {
      "cell_type": "code",
      "source": [
        "drive_path = '/content/drive/MyDrive/UFS-no-RTOFS/AR/work/data/'\n",
        "os.makedirs(drive_path, exist_ok=True)"
      ],
      "metadata": {
        "id": "m9sDdzCy3gRY"
      },
      "execution_count": null,
      "outputs": []
    },
    {
      "cell_type": "code",
      "source": [
        "# CMEMS dataset IDs\n",
        "\n",
        "# AVISO L4 SSH (ADT)/SLA/Geostrophic currents\n",
        "def aviso_l4_ssh(year):\n",
        "\n",
        "  if year < 2024:\n",
        "    dsetID = \"cmems_obs-sl_glo_phy-ssh_nrt_allsat-l4-duacs-0.25deg_P1D\"\n",
        "    vNames = [\"adt\", \"sla\", \"err_sla\", \"ugos\", \"vgos\"]\n",
        "  else:\n",
        "    dsetID = \"cmems_obs-sl_glo_phy-ssh_nrt_allsat-l4-duacs-0.125deg_P1D\"\n",
        "    vNames = [\"adt\", \"sla\", \"err_sla\", \"ugos\", \"vgos\"]\n",
        "\n",
        "  return dsetID, vNames\n",
        "\n",
        "# OSTIA SST\n",
        "sst={'dsetID':'METOFFICE-GLO-SST-L4-NRT-OBS-SST-V2',\n",
        "     'vNames':['analysed_sst'],\n",
        "     'varName': 'SST'}\n",
        "\n",
        "# CNS SSS NRT\n",
        "sss={'dsetID':'cmems_obs-mob_glo_phy-sss_nrt_multi_P1D',\n",
        "     'vNames':['sos', 'dos'],\n",
        "     'varName': 'SSS'}"
      ],
      "metadata": {
        "id": "ONslI0TctPKF"
      },
      "execution_count": null,
      "outputs": []
    },
    {
      "cell_type": "markdown",
      "source": [
        "# Download data"
      ],
      "metadata": {
        "id": "BCPRfYO_yAxz"
      }
    },
    {
      "cell_type": "code",
      "source": [
        "# AVISO SSH\n",
        "# p1: 2022/12/20 (start date)- 2022/12/31\n",
        "# p2: 2023/01/01- end date\n",
        "# because of dataset name dependence on `year`, doing in 2 parts, can be done elegantly. LATER!\n",
        "\n",
        "ssh_data_p1 = get_cmems_data(*aviso_l4_ssh(start_date.year),\n",
        "                        lon_min, lon_max, lat_min, lat_max,\\\n",
        "                        start_date.strftime('%Y-%m-%d'),\\\n",
        "                        '2022-12-31')\n",
        "\n",
        "ssh_data_p2 = get_cmems_data(*aviso_l4_ssh(end_date.year),\n",
        "                        lon_min, lon_max, lat_min, lat_max,\\\n",
        "                        '2023-01-01',\\\n",
        "                        end_date.strftime('%Y-%m-%d'))\n",
        "\n",
        "ssh_data = xr.concat([ssh_data_p1, ssh_data_p2], dim='time')\n",
        "\n",
        "# add geostrophic currents to the dataset- eases our life!\n",
        "ssh_data['surf_curr'] =\\\n",
        "xr.DataArray(np.sqrt(ssh_data.ugos**2 + ssh_data.vgos**2),\\\n",
        "coords=ssh_data.ugos.coords, dims=ssh_data.ugos.dims,\\\n",
        "             name='surf_curr', attrs={'units':'m/s'})\n",
        "\n",
        "ssh_data.drop_vars(['ugos', 'vgos'])\n",
        "\n",
        "output_filename = f'aviso_ssh_case1.nc'\n",
        "output_path = drive_path + output_filename\n",
        "ssh_data.to_netcdf(output_path)\n",
        "print(f\"Saved AVISO SSH data to {output_path}\\n\")"
      ],
      "metadata": {
        "collapsed": true,
        "id": "QGtpEcMHyoQx"
      },
      "execution_count": null,
      "outputs": []
    },
    {
      "cell_type": "code",
      "source": [
        "# download other dataset(s)\n",
        "for dtype in [sst, sss]:\n",
        "  sat_data = get_cmems_data(dtype['dsetID'], dtype['vNames'],\\\n",
        "                            lon_min, lon_max, lat_min, lat_max,\\\n",
        "                            start_date.strftime('%Y-%m-%d'),\\\n",
        "                            end_date.strftime('%Y-%m-%d'))\n",
        "\n",
        "  output_filename = f'{dtype[\"varName\"]}_case1.nc'\n",
        "  output_path = drive_path + output_filename\n",
        "  sat_data.to_netcdf(output_path)\n",
        "  print(f\"Saved {dtype} data to {output_path}\\n\")"
      ],
      "metadata": {
        "id": "HLqgKIOutA1C"
      },
      "execution_count": null,
      "outputs": []
    },
    {
      "cell_type": "markdown",
      "source": [
        "## Make a few movies!"
      ],
      "metadata": {
        "id": "wdJed4tVCbfG"
      }
    },
    {
      "cell_type": "code",
      "metadata": {
        "collapsed": true,
        "id": "f0cc4848"
      },
      "source": [
        "!pip install xmovie"
      ],
      "execution_count": null,
      "outputs": []
    },
    {
      "cell_type": "code",
      "source": [
        "from shapely.errors import ShapelyDeprecationWarning\n",
        "from xmovie import Movie\n",
        "\n",
        "import matplotlib.pyplot as plt\n",
        "import warnings\n",
        "warnings.filterwarnings(\"ignore\", category=ShapelyDeprecationWarning)"
      ],
      "metadata": {
        "id": "0Ix1SMywApb1"
      },
      "execution_count": null,
      "outputs": []
    },
    {
      "cell_type": "code",
      "source": [
        "ssh_data = xr.open_dataset(drive_path + 'aviso_ssh_case1.nc')\n",
        "print(f\"Read SSH data\\n\")"
      ],
      "metadata": {
        "id": "esndfSZuRTfn"
      },
      "execution_count": null,
      "outputs": []
    },
    {
      "cell_type": "code",
      "source": [
        "subset_ssh = ssh_data.sel(longitude=slice(-140, -100), latitude=slice(20, 50))\n",
        "ssh_mov = Movie(subset_ssh.sla, vmin=-0.1, vmax=0.4)\n",
        "\n",
        "ssh_mov.save('AVISO_SLA_case1.gif', remove_movie=False, progress=True, framerate=5,gif_framerate=5)\n",
        "\n",
        "!rm -f *.mp4"
      ],
      "metadata": {
        "id": "fMi_9CLFAENE"
      },
      "execution_count": null,
      "outputs": []
    },
    {
      "cell_type": "code",
      "source": [
        "sst_filename =  drive_path + 'SST_case1.nc'\n",
        "sst_data = xr.open_dataset(sst_filename)\n",
        "print(f\"Read SST data from {sst_filename}\\n\")\n",
        "\n",
        "subset_sat = sst_data.sel(longitude=slice(-140, -110), latitude=slice(15, 45))\n",
        "mov = Movie((subset_sat['analysed_sst']-273.15), vmin=10., vmax=25, cmap='jet')\n",
        "\n",
        "mov.save('OSTIA_SST_case1.gif', remove_movie=False, progress=True, framerate=5,gif_framerate=5)\n",
        "\n",
        "!rm -f *.mp4"
      ],
      "metadata": {
        "id": "5PgxwZk7DlyV"
      },
      "execution_count": null,
      "outputs": []
    },
    {
      "cell_type": "code",
      "source": [
        "sss_filename =  drive_path + 'SSS_case1.nc'\n",
        "sss_data = xr.open_dataset(sss_filename)\n",
        "print(f\"Read SSS data from {sss_filename}\\n\")\n",
        "\n",
        "subset_sat = sss_data.sel(longitude=slice(-140, -110), latitude=slice(15, 45))\n",
        "\n",
        "# surface density\n",
        "#mov = Movie((subset_sat['dos']-1000), vmin=21., vmax=26, cmap='gist_ncar')\n",
        "#mov.save('CNS_DOS_case1.gif', remove_movie=False, progress=True, framerate=5,gif_framerate=5)\n",
        "\n",
        "# SSS\n",
        "mov = Movie((subset_sat['sos']), vmin=31., vmax=35, cmap='gist_ncar')\n",
        "mov.save('CNS_SSS_case1.gif', remove_movie=False, progress=True, framerate=5,gif_framerate=5)\n",
        "\n",
        "!rm -f *.mp4"
      ],
      "metadata": {
        "id": "w1gVv03AJa1Y"
      },
      "execution_count": null,
      "outputs": []
    },
    {
      "cell_type": "markdown",
      "source": [
        "# Slice along `longitude`"
      ],
      "metadata": {
        "id": "_YWTuG5wSEP9"
      }
    },
    {
      "cell_type": "code",
      "source": [
        "lon_stn = np.arange(-140, -115, 5)\n",
        "\n",
        "lat_s, lat_e = [10, 30]\n",
        "print(lon_stn)"
      ],
      "metadata": {
        "id": "9_bjDWXUTw91"
      },
      "execution_count": null,
      "outputs": []
    },
    {
      "cell_type": "markdown",
      "source": [
        "# Plot ADT"
      ],
      "metadata": {
        "id": "-w8HOMInWcmt"
      }
    },
    {
      "cell_type": "code",
      "source": [
        "fig = plt.figure(figsize=(10, 5))\n",
        "ax = fig.add_subplot(111)\n",
        "\n",
        "for ilon, lon_s in enumerate(lon_stn):\n",
        "  print(ilon, lon_s)\n",
        "  ssh_data.sel(longitude=lon_s, method='nearest').sel(latitude=slice(lat_s, lat_e)).mean(('latitude')).adt.plot(x='time', ax=ax, label=f'{lon_s}')\n",
        "\n",
        "ax.legend(loc=1)\n",
        "ax.set_title(f'Lat ($^\\circ$N): {lat_s}- {lat_e}')\n",
        "ax.set_ylabel('ADT [m]')"
      ],
      "metadata": {
        "id": "i_y2DGl-UVZb"
      },
      "execution_count": null,
      "outputs": []
    },
    {
      "cell_type": "markdown",
      "source": [
        "# Plot SST"
      ],
      "metadata": {
        "id": "Zmx9vIL6WhDh"
      }
    },
    {
      "cell_type": "code",
      "source": [
        "fig = plt.figure(figsize=(10, 5))\n",
        "ax = fig.add_subplot(111)\n",
        "\n",
        "for ilon, lon_s in enumerate(lon_stn):\n",
        "  #print(ilon, lon_s)\n",
        "  sst_data.sel(longitude=lon_s, method='nearest').sel(latitude=slice(lat_s, lat_e)).mean(('latitude')).analysed_sst.plot(x='time', ax=ax, label=f'{lon_s}')\n",
        "\n",
        "ax.legend(loc=1)\n",
        "ax.set_title(f'Lat ($^\\circ$N): {lat_s}- {lat_e}')\n",
        "ax.set_ylabel('SST [K]')"
      ],
      "metadata": {
        "id": "jakQ4QTRSh_3"
      },
      "execution_count": null,
      "outputs": []
    },
    {
      "cell_type": "markdown",
      "source": [
        "# Plot SSS and Surface Density"
      ],
      "metadata": {
        "id": "GqPhYOzPXE_x"
      }
    },
    {
      "cell_type": "code",
      "source": [
        "fig = plt.figure(figsize=(18, 4))\n",
        "\n",
        "ax1 = fig.add_subplot(121)\n",
        "ax2 = fig.add_subplot(122)\n",
        "\n",
        "for ilon, lon_s in enumerate(lon_stn):\n",
        "  #print(ilon, lon_s)\n",
        "  sss_data.sel(longitude=lon_s, method='nearest').sel(latitude=slice(lat_s, lat_e)).mean(('latitude')).sos.plot(x='time', ax=ax1, label=f'{lon_s}')\n",
        "\n",
        "  sss_data.sel(longitude=lon_s, method='nearest').sel(latitude=slice(lat_s, lat_e)).mean(('latitude')).dos.plot(x='time', ax=ax2, label=f'{lon_s}')\n",
        "\n",
        "ax1.legend(loc=1)\n",
        "ax1.set_title(f'Lat ($^\\circ$N): {lat_s}- {lat_e}')\n",
        "ax1.set_ylabel('SSS [PSU]')\n",
        "\n",
        "ax2.legend(loc=2, ncol=2)\n",
        "ax2.set_title(f'Lat ($^\\circ$N): {lat_s}- {lat_e}')\n",
        "ax2.set_ylabel('SSD [kg/m$^3$]')"
      ],
      "metadata": {
        "id": "L26u3Fg7WsVT"
      },
      "execution_count": null,
      "outputs": []
    }
  ]
}