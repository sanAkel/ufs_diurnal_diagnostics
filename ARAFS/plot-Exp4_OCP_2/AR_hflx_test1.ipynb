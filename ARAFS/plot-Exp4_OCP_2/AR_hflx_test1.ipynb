{
 "cells": [
  {
   "cell_type": "markdown",
   "id": "6284d053-a0cb-4c1a-b8eb-214b24ef3be2",
   "metadata": {},
   "source": [
    "# Data info:\n",
    "```\n",
    "From: Keqin Wu - NOAA Affiliate <keqin.wu@noaa.gov>\n",
    "Date: Tue, Sep 30, 2025 at 6:08 PM\n",
    "Subject: coupled-arafs output\n",
    "To: Santha Akella - NOAA Federal <santha.akella@noaa.gov>\n",
    "```\n",
    "\n",
    "```\n",
    "Hi, Santha,\n",
    "The arafs coupled run output can be found on Hercules/Orion:\n",
    "/work/noaa/hwrf/save/kwu/gaeaData/Exp4_OCP_2/\n",
    "You will see Individual directory for available cycles, such as 2023010500/00E\n",
    "Inside, atm output files are like: 00e.2023010500.arafs.parent.atm.f***.grb2\n",
    "mom6 files are like: 00e.2023010500.arafs.mom6.f***.nc\n",
    "```"
   ]
  },
  {
   "cell_type": "code",
   "execution_count": null,
   "id": "373d3303-b384-46b5-9bae-c14519ff4bfd",
   "metadata": {},
   "outputs": [],
   "source": [
    "import glob as glob\n",
    "\n",
    "import xarray as xr\n",
    "import numpy as np\n",
    "\n",
    "import matplotlib.pyplot as plt\n",
    "\n",
    "%matplotlib inline"
   ]
  },
  {
   "cell_type": "code",
   "execution_count": null,
   "id": "81a65de3-0af2-4b87-88aa-f53bee3a409f",
   "metadata": {},
   "outputs": [],
   "source": [
    "def get_fNames(root_path, date_str, debug=False):\n",
    "    dPath = f\"{root_path}/{date_str}/00E/\"\n",
    "    fNames = sorted(glob.glob(f\"{dPath}/*{date_str}*mom6*.nc\"))\n",
    "    \n",
    "    if debug:\n",
    "        print(f\"Found following files in {dPath}:\\n\")\n",
    "        for iF, fName in enumerate(fNames):\n",
    "            print(fName)\n",
    "    return fNames"
   ]
  },
  {
   "cell_type": "code",
   "execution_count": null,
   "id": "ccf8d951-7b5c-4f0d-bb26-bec8fb8cbcfe",
   "metadata": {},
   "outputs": [],
   "source": [
    "def plot_lagged_corr(iT0, ds, vNames, lagged=True):\n",
    "    tStr0 = ds['time'].isel(time=iT0).dt.strftime(\"%Y-%m-%dT%H:%M\").values\n",
    "    tStr1 = ds['time'].isel(time=iT0+1).dt.strftime(\"%Y-%m-%dT%H:%M\").values\n",
    "\n",
    "    fig= plt.figure(figsize=(6, 4))\n",
    "    ax = fig.add_subplot(1,1,1)\n",
    "    \n",
    "    im1=ds[vNames[0]].isel(time=iT0).sel(xh=slice(-178., -100), yh=slice(10, 47)).plot(ax=ax,\n",
    "                                                                            vmin=-500, vmax=500, cmap='gist_ncar',\n",
    "                                                                            add_colorbar=True)\n",
    "    if(lagged):\n",
    "        im2=ds[vNames[1]].isel(time=iT0+1).sel(xh=slice(-178., -100), yh=slice(10, 47)).plot.contour(ax=ax, colors='r')\n",
    "        ax.set_title(f'{vNames[0]} [{tStr0}]\\n{vNames[1]} [{tStr1}]')\n",
    "    else:\n",
    "        im2=ds[vNames[1]].isel(time=iT0).sel(xh=slice(-178., -100), yh=slice(10, 47)).plot.contour(ax=ax, colors='r')\n",
    "        ax.set_title(f'{vNames[0]} [{tStr0}]\\n{vNames[1]} [{tStr0}]')\n",
    "\n",
    "    ax.set_ylabel('Latitude')\n",
    "    ax.set_xlabel('Longitude')"
   ]
  },
  {
   "cell_type": "code",
   "execution_count": null,
   "id": "41eb4617-07e7-4d17-b118-21a205a4eace",
   "metadata": {},
   "outputs": [],
   "source": [
    "def plot_lagged_notLagged(iT0, ds, vNames):\n",
    "    tStr0 = ds['time'].isel(time=iT0).dt.strftime(\"%Y-%m-%dT%H:%M\").values\n",
    "    tStr1 = ds['time'].isel(time=iT0+1).dt.strftime(\"%Y-%m-%dT%H:%M\").values\n",
    "    \n",
    "    fig, ax = plt.subplots(figsize=(10, 4), nrows=1, ncols=2, sharey=True)\n",
    "\n",
    "    im1a=ds[vNames[0]].isel(time=iT0).sel(xh=slice(-178., -100), yh=slice(10, 47)).plot(ax=ax[0],\n",
    "                                                                            vmin=-500, vmax=500, cmap='bwr',\n",
    "                                                                            add_colorbar=False)\n",
    "    im1b=ds[vNames[1]].isel(time=iT0).sel(xh=slice(-178., -100), yh=slice(10, 47)).plot.contour(ax=ax[0], colors='g')\n",
    "    ax[0].set_title(f'{vNames[0]} and {vNames[1]} at same hour:\\n{tStr0}')\n",
    "\n",
    "    #\n",
    "    im2a=ds[vNames[0]].isel(time=iT0).sel(xh=slice(-178., -100), yh=slice(10, 47)).plot(ax=ax[1],\n",
    "                                                                            vmin=-500, vmax=500, cmap='bwr',\n",
    "                                                                            add_colorbar=False)\n",
    "    im2b=ds[vNames[1]].isel(time=iT0+1).sel(xh=slice(-178., -100), yh=slice(10, 47)).plot.contour(ax=ax[1], colors='g')\n",
    "    ax[1].set_title(f'{vNames[0]} [{tStr0}]\\n{vNames[1]} [{tStr1}]')\n",
    "\n",
    "    ax[0].set_ylabel('Latitude')\n",
    "    ax[1].set_ylabel('')\n",
    "    for ax_i in ax:\n",
    "        ax_i.set_xlabel('Longitude')\n",
    "\n",
    "    cax = fig.add_axes([0.92, 0.15, 0.01, 0.7]) # colorbar axis\n",
    "    cb = plt.colorbar(im2a, cax)\n",
    "    cb.ax.set_ylabel(f'{vNames[0]}', fontsize=12)\n",
    "    cb.ax.set_xlabel('W/m^2', fontsize=8)"
   ]
  },
  {
   "cell_type": "code",
   "execution_count": null,
   "id": "70086211-f29e-49c3-8bab-1a203b566b7a",
   "metadata": {},
   "outputs": [],
   "source": [
    "# Path to data\n",
    "dPath_root = \"/work/noaa/hwrf/save/kwu/gaeaData/Exp4_OCP_2/\"\n",
    "vNames = [\"LwLatSens\", \"lprec\"]"
   ]
  },
  {
   "cell_type": "code",
   "execution_count": null,
   "id": "a2961d58-fb47-4a3a-84d8-b51e57dc9241",
   "metadata": {},
   "outputs": [],
   "source": [
    "fNames = get_fNames(dPath_root, \"2023010500\")\n",
    "ds = xr.open_mfdataset(fNames)[vNames[0]]"
   ]
  },
  {
   "cell_type": "code",
   "execution_count": null,
   "id": "586c841b-c3c7-473b-bb4a-86ee90963b60",
   "metadata": {},
   "outputs": [],
   "source": [
    "ds.isel(time=0).sel(xh=slice(-178., -100), yh=slice(10, 47)).plot(vmin=-500, vmax=500, cmap='gist_ncar')"
   ]
  },
  {
   "cell_type": "code",
   "execution_count": null,
   "id": "24da4ee6-dfbd-4c97-b6aa-7d957d52025f",
   "metadata": {},
   "outputs": [],
   "source": [
    "ds2 = ds.resample(time='1D').mean()\n",
    "ds2.sel(xh=slice(-178., -100), yh=slice(10, 47)).plot(x=\"xh\", y=\"yh\", col=\"time\", col_wrap=3, vmin=-500, vmax=500, cmap='gist_ncar')"
   ]
  },
  {
   "cell_type": "markdown",
   "id": "5cd67aca-fe1d-4cf4-be84-963fc503835e",
   "metadata": {},
   "source": [
    "## Repeat same as above but for `2024020100`"
   ]
  },
  {
   "cell_type": "code",
   "execution_count": null,
   "id": "aaf81fea-e488-4993-a081-d9377a874a48",
   "metadata": {},
   "outputs": [],
   "source": [
    "fNames = get_fNames(dPath_root, \"2024020100\")\n",
    "ds = xr.open_mfdataset(fNames)[vNames[0]]\n",
    "ds2 = ds.resample(time='1D').mean()\n",
    "ds2.sel(xh=slice(-178., -100), yh=slice(10, 47)).plot(x=\"xh\", y=\"yh\", col=\"time\", col_wrap=3, vmin=-500, vmax=500, cmap='gist_ncar')"
   ]
  },
  {
   "cell_type": "markdown",
   "id": "fd900a1b-cdd4-4bb4-b569-463eac432e51",
   "metadata": {},
   "source": [
    "## Repeat same as above but for `2025013100`"
   ]
  },
  {
   "cell_type": "code",
   "execution_count": null,
   "id": "e662f1f5-65d2-4291-9a03-aefb0bc4ef8b",
   "metadata": {},
   "outputs": [],
   "source": [
    "fNames = get_fNames(dPath_root, \"2025013100\")\n",
    "ds = xr.open_mfdataset(fNames)[vNames[0]]\n",
    "ds2 = ds.resample(time='1D').mean()\n",
    "ds2.sel(xh=slice(-178., -100), yh=slice(10, 47)).plot(x=\"xh\", y=\"yh\", col=\"time\", col_wrap=3, vmin=-500, vmax=500, cmap='gist_ncar')"
   ]
  },
  {
   "cell_type": "markdown",
   "id": "3bb27e68-3087-4995-83fc-6a627ffab64f",
   "metadata": {},
   "source": [
    "## Is there a correlation between `precipitation` and ocean `heat loss`? \n",
    "- Try `2024020100` case first."
   ]
  },
  {
   "cell_type": "code",
   "execution_count": null,
   "id": "0063be54-d020-4bc1-b325-01d92841fb6b",
   "metadata": {},
   "outputs": [],
   "source": [
    "fNames = get_fNames(dPath_root, \"2024020100\")\n",
    "ds = xr.open_mfdataset(fNames)"
   ]
  },
  {
   "cell_type": "markdown",
   "id": "d7474451-912c-42d2-b392-26afce9276be",
   "metadata": {},
   "source": [
    "- Both at the **same** hour?\n",
    "- `3` hours lagged?"
   ]
  },
  {
   "cell_type": "code",
   "execution_count": null,
   "id": "bf573a0c-a37f-4e57-a15c-c818ea1c87a4",
   "metadata": {},
   "outputs": [],
   "source": [
    "iT0=0\n",
    "tStr0 = ds['time'].isel(time=iT0).dt.strftime(\"%Y-%m-%dT%H:%M\").values\n",
    "tStr1 = ds['time'].isel(time=iT0+1).dt.strftime(\"%Y-%m-%dT%H:%M\").values\n",
    "#\n",
    "fig, ax = plt.subplots(figsize=(10, 4), nrows=1, ncols=2, sharey=True)\n",
    "#\n",
    "im1a=ds[vNames[0]].isel(time=iT0).sel(xh=slice(-178., -100), yh=slice(10, 47)).plot(ax=ax[0],\n",
    "                                                                            vmin=-500, vmax=500, cmap='gist_ncar',\n",
    "                                                                            add_colorbar=False)\n",
    "im1b=ds[vNames[1]].isel(time=iT0).sel(xh=slice(-178., -100), yh=slice(10, 47)).plot.contour(ax=ax[0], colors='r')\n",
    "ax[0].set_title(f'{vNames[0]} and {vNames[1]} at same hour:\\n{tStr0}')\n",
    "#\n",
    "im2a=ds[vNames[0]].isel(time=iT0).sel(xh=slice(-178., -100), yh=slice(10, 47)).plot(ax=ax[1],\n",
    "                                                                            vmin=-500, vmax=500, cmap='gist_ncar',\n",
    "                                                                            add_colorbar=False)\n",
    "im2b=ds[vNames[1]].isel(time=iT0+1).sel(xh=slice(-178., -100), yh=slice(10, 47)).plot.contour(ax=ax[1], colors='r')\n",
    "ax[1].set_title(f'{vNames[0]} [{tStr0}]\\n{vNames[1]} [{tStr1}]')\n",
    "\n",
    "ax[0].set_ylabel('Latitude')\n",
    "ax[1].set_ylabel('')\n",
    "for ax_i in ax:\n",
    "    ax_i.set_xlabel('Longitude')\n",
    "\n",
    "cax = fig.add_axes([0.92, 0.15, 0.01, 0.7]) # colorbar axis\n",
    "cb = plt.colorbar(im2a, cax)\n",
    "cb.ax.set_ylabel(f'{vNames[0]}', fontsize=12)\n",
    "cb.ax.set_xlabel('W/m^2', fontsize=8)"
   ]
  },
  {
   "cell_type": "markdown",
   "id": "73b6a895-3164-4cf0-beb3-be2f771971e1",
   "metadata": {},
   "source": [
    "## Does this next day, every day? Check outputs at `00 UTC` and `03 UTC`."
   ]
  },
  {
   "cell_type": "code",
   "execution_count": null,
   "id": "f78946c9-f25b-49c7-b8f4-3e4a60bdd522",
   "metadata": {},
   "outputs": [],
   "source": [
    "iT0= 8\n",
    "tStr0 = ds['time'].isel(time=iT0).dt.strftime(\"%Y-%m-%dT%H:%M\").values\n",
    "tStr1 = ds['time'].isel(time=iT0+1).dt.strftime(\"%Y-%m-%dT%H:%M\").values\n",
    "#\n",
    "fig, ax = plt.subplots(figsize=(10, 4), nrows=1, ncols=2, sharey=True)\n",
    "#\n",
    "im1a=ds[vNames[0]].isel(time=iT0).sel(xh=slice(-178., -100), yh=slice(10, 47)).plot(ax=ax[0],\n",
    "                                                                            vmin=-500, vmax=500, cmap='gist_ncar',\n",
    "                                                                            add_colorbar=False)\n",
    "im1b=ds[vNames[1]].isel(time=iT0).sel(xh=slice(-178., -100), yh=slice(10, 47)).plot.contour(ax=ax[0], colors='r')\n",
    "ax[0].set_title(f'{vNames[0]} and {vNames[1]} at same hour:\\n{tStr0}')\n",
    "#\n",
    "im2a=ds[vNames[0]].isel(time=iT0).sel(xh=slice(-178., -100), yh=slice(10, 47)).plot(ax=ax[1],\n",
    "                                                                            vmin=-500, vmax=500, cmap='gist_ncar',\n",
    "                                                                            add_colorbar=False)\n",
    "im2b=ds[vNames[1]].isel(time=iT0+1).sel(xh=slice(-178., -100), yh=slice(10, 47)).plot.contour(ax=ax[1], colors='r')\n",
    "ax[1].set_title(f'{vNames[0]} [{tStr0}]\\n{vNames[1]} [{tStr1}]')\n",
    "\n",
    "ax[0].set_ylabel('Latitude')\n",
    "ax[1].set_ylabel('')\n",
    "for ax_i in ax:\n",
    "    ax_i.set_xlabel('Longitude')\n",
    "\n",
    "cax = fig.add_axes([0.92, 0.15, 0.01, 0.7]) # colorbar axis\n",
    "cb = plt.colorbar(im2a, cax)\n",
    "cb.ax.set_ylabel(f'{vNames[0]}', fontsize=12)\n",
    "cb.ax.set_xlabel('W/m^2', fontsize=8)"
   ]
  },
  {
   "cell_type": "markdown",
   "id": "941b8d08-63de-4252-a736-6a754528ab86",
   "metadata": {},
   "source": [
    "## Plot 1-day apart, \n",
    "- Lagged.\n",
    "- Not lagged."
   ]
  },
  {
   "cell_type": "code",
   "execution_count": null,
   "id": "fb7400d9-ec9a-457f-9034-12d08ae629c0",
   "metadata": {},
   "outputs": [],
   "source": [
    "for iT in range(0, 48, 8):\n",
    "    #plot_lagged_corr(iT, ds, vNames)\n",
    "    plot_lagged_notLagged(iT, ds, vNames)"
   ]
  },
  {
   "cell_type": "code",
   "execution_count": null,
   "id": "3493cacf-8fbe-4183-b1fc-562721d88259",
   "metadata": {},
   "outputs": [],
   "source": []
  }
 ],
 "metadata": {
  "kernelspec": {
   "display_name": "copernicusmarine",
   "language": "python",
   "name": "copernicusmarine"
  },
  "language_info": {
   "codemirror_mode": {
    "name": "ipython",
    "version": 3
   },
   "file_extension": ".py",
   "mimetype": "text/x-python",
   "name": "python",
   "nbconvert_exporter": "python",
   "pygments_lexer": "ipython3",
   "version": "3.12.6"
  }
 },
 "nbformat": 4,
 "nbformat_minor": 5
}
