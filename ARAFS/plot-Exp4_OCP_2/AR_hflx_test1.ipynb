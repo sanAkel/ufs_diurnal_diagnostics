{
 "cells": [
  {
   "cell_type": "markdown",
   "id": "6284d053-a0cb-4c1a-b8eb-214b24ef3be2",
   "metadata": {},
   "source": [
    "# Data info:\n",
    "```\n",
    "From: Keqin Wu - NOAA Affiliate <keqin.wu@noaa.gov>\n",
    "Date: Tue, Sep 30, 2025 at 6:08 PM\n",
    "Subject: coupled-arafs output\n",
    "To: Santha Akella - NOAA Federal <santha.akella@noaa.gov>\n",
    "```\n",
    "\n",
    "```\n",
    "Hi, Santha,\n",
    "The arafs coupled run output can be found on Hercules/Orion:\n",
    "/work/noaa/hwrf/save/kwu/gaeaData/Exp4_OCP_2/\n",
    "You will see Individual directory for available cycles, such as 2023010500/00E\n",
    "Inside, atm output files are like: 00e.2023010500.arafs.parent.atm.f***.grb2\n",
    "mom6 files are like: 00e.2023010500.arafs.mom6.f***.nc\n",
    "```"
   ]
  },
  {
   "cell_type": "code",
   "execution_count": null,
   "id": "373d3303-b384-46b5-9bae-c14519ff4bfd",
   "metadata": {},
   "outputs": [],
   "source": [
    "import glob as glob\n",
    "\n",
    "import xarray as xr\n",
    "import numpy as np\n",
    "\n",
    "import matplotlib.pyplot as plt\n",
    "\n",
    "%matplotlib inline"
   ]
  },
  {
   "cell_type": "code",
   "execution_count": null,
   "id": "ee6ec25f-56c4-4618-8d0d-13c7576c1933",
   "metadata": {},
   "outputs": [],
   "source": [
    "dPath_root = \"/work/noaa/hwrf/save/kwu/gaeaData/Exp4_OCP_2/\"\n",
    "\n",
    "fcst_start_date = \"2023010500\"\n",
    "\n",
    "dPath = f\"{dPath_root}/{fcst_start_date}/00E/\"\n",
    "#print(f\"Reading data from:\\n{dPath}\")"
   ]
  },
  {
   "cell_type": "code",
   "execution_count": null,
   "id": "0c95d355-76ae-44de-973e-7d233662620e",
   "metadata": {},
   "outputs": [],
   "source": [
    "fNames = sorted(glob.glob(f\"{dPath}/*{fcst_start_date}*mom6*.nc\"))\n",
    "\n",
    "print(f\"Found following files in {dPath}:\\n\")\n",
    "for iF, fName in enumerate(fNames):\n",
    "    print(fName)"
   ]
  },
  {
   "cell_type": "code",
   "execution_count": null,
   "id": "356d1ca4-32b1-4972-aee4-57ce000a9ebf",
   "metadata": {},
   "outputs": [],
   "source": [
    "# For now, just read one variable\n",
    "vName = \"LwLatSens\"\n",
    "ds = xr.open_mfdataset(fNames)[vName]"
   ]
  },
  {
   "cell_type": "code",
   "execution_count": null,
   "id": "586c841b-c3c7-473b-bb4a-86ee90963b60",
   "metadata": {},
   "outputs": [],
   "source": [
    "ds.isel(time=0).sel(xh=slice(-178., -100), yh=slice(10, 47)).plot(vmin=-500, vmax=500, cmap='gist_ncar')"
   ]
  },
  {
   "cell_type": "code",
   "execution_count": null,
   "id": "24da4ee6-dfbd-4c97-b6aa-7d957d52025f",
   "metadata": {},
   "outputs": [],
   "source": [
    "ds2 = ds.resample(time='1D').mean()"
   ]
  },
  {
   "cell_type": "code",
   "execution_count": null,
   "id": "4f86e3f5-98a9-4b52-b11b-fc40e2655972",
   "metadata": {},
   "outputs": [],
   "source": [
    "ds2.sel(xh=slice(-178., -100), yh=slice(10, 47)).plot(x=\"xh\", y=\"yh\", col=\"time\", col_wrap=3, vmin=-500, vmax=500, cmap='gist_ncar')"
   ]
  },
  {
   "cell_type": "markdown",
   "id": "5cd67aca-fe1d-4cf4-be84-963fc503835e",
   "metadata": {},
   "source": [
    "## Repeat same as above but for `2024020100`"
   ]
  },
  {
   "cell_type": "code",
   "execution_count": null,
   "id": "aaf81fea-e488-4993-a081-d9377a874a48",
   "metadata": {},
   "outputs": [],
   "source": [
    "dPath_root = \"/work/noaa/hwrf/save/kwu/gaeaData/Exp4_OCP_2/\"\n",
    "\n",
    "fcst_start_date = \"2024020100\"\n",
    "\n",
    "dPath = f\"{dPath_root}/{fcst_start_date}/00E/\"\n",
    "#print(f\"Reading data from:\\n{dPath}\")\n",
    "\n",
    "fNames = sorted(glob.glob(f\"{dPath}/*{fcst_start_date}*mom6*.nc\"))\n",
    "\n",
    "print(f\"Found following files in {dPath}:\\n\")\n",
    "for iF, fName in enumerate(fNames):\n",
    "    print(fName)"
   ]
  },
  {
   "cell_type": "code",
   "execution_count": null,
   "id": "781384e1-9309-44b0-9d16-0df4b9705f4d",
   "metadata": {},
   "outputs": [],
   "source": [
    "ds = xr.open_mfdataset(fNames)[vName]\n",
    "ds.isel(time=0).sel(xh=slice(-178., -100), yh=slice(10, 47)).plot(vmin=-500, vmax=500, cmap='gist_ncar')"
   ]
  },
  {
   "cell_type": "code",
   "execution_count": null,
   "id": "6ae0b4fa-9d1b-41b2-9dea-c53c0b3acfac",
   "metadata": {},
   "outputs": [],
   "source": [
    "ds2 = ds.resample(time='1D').mean()\n",
    "ds2.sel(xh=slice(-178., -100), yh=slice(10, 47)).plot(x=\"xh\", y=\"yh\", col=\"time\", col_wrap=3, vmin=-500, vmax=500, cmap='gist_ncar')"
   ]
  },
  {
   "cell_type": "markdown",
   "id": "fd900a1b-cdd4-4bb4-b569-463eac432e51",
   "metadata": {},
   "source": [
    "## Repeat same as above but for `2025013100`"
   ]
  },
  {
   "cell_type": "code",
   "execution_count": null,
   "id": "db5e860e-bafe-4fd0-8a76-a873168e6a3f",
   "metadata": {},
   "outputs": [],
   "source": [
    "dPath_root = \"/work/noaa/hwrf/save/kwu/gaeaData/Exp4_OCP_2/\"\n",
    "\n",
    "fcst_start_date = \"2025013100\"\n",
    "\n",
    "dPath = f\"{dPath_root}/{fcst_start_date}/00E/\"\n",
    "#print(f\"Reading data from:\\n{dPath}\")\n",
    "\n",
    "fNames = sorted(glob.glob(f\"{dPath}/*{fcst_start_date}*mom6*.nc\"))\n",
    "\n",
    "print(f\"Found following files in {dPath}:\\n\")\n",
    "for iF, fName in enumerate(fNames):\n",
    "    print(fName)"
   ]
  },
  {
   "cell_type": "code",
   "execution_count": null,
   "id": "52455ccc-01de-4b19-915b-600e160eddd1",
   "metadata": {},
   "outputs": [],
   "source": [
    "ds = xr.open_mfdataset(fNames)[vName]\n",
    "ds.isel(time=0).sel(xh=slice(-178., -100), yh=slice(10, 47)).plot(vmin=-500, vmax=500, cmap='gist_ncar')"
   ]
  },
  {
   "cell_type": "code",
   "execution_count": null,
   "id": "5013c1dd-db5e-4e2a-ad5f-69d8223a061d",
   "metadata": {},
   "outputs": [],
   "source": [
    "ds2 = ds.resample(time='1D').mean()\n",
    "ds2.sel(xh=slice(-178., -100), yh=slice(10, 47)).plot(x=\"xh\", y=\"yh\", col=\"time\", col_wrap=3, vmin=-500, vmax=500, cmap='gist_ncar')"
   ]
  },
  {
   "cell_type": "code",
   "execution_count": null,
   "id": "12431d16-454b-432e-af36-c25a4bbbf976",
   "metadata": {},
   "outputs": [],
   "source": []
  }
 ],
 "metadata": {
  "kernelspec": {
   "display_name": "copernicusmarine",
   "language": "python",
   "name": "copernicusmarine"
  },
  "language_info": {
   "codemirror_mode": {
    "name": "ipython",
    "version": 3
   },
   "file_extension": ".py",
   "mimetype": "text/x-python",
   "name": "python",
   "nbconvert_exporter": "python",
   "pygments_lexer": "ipython3",
   "version": "3.12.6"
  }
 },
 "nbformat": 4,
 "nbformat_minor": 5
}
